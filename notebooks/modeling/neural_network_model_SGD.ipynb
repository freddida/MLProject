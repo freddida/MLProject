{
 "cells": [
  {
   "cell_type": "markdown",
   "source": [
    "# Notebook for a Neural Network Model with SGD optimizer"
   ],
   "metadata": {
    "collapsed": false
   },
   "id": "b0df0795dd2cde5b"
  },
  {
   "cell_type": "code",
   "execution_count": 24,
   "id": "initial_id",
   "metadata": {
    "collapsed": true,
    "ExecuteTime": {
     "end_time": "2024-02-01T16:19:37.384269429Z",
     "start_time": "2024-02-01T16:19:37.334842493Z"
    }
   },
   "outputs": [
    {
     "name": "stdout",
     "output_type": "stream",
     "text": [
      "MPS device not found.\n"
     ]
    }
   ],
   "source": [
    "from matplotlib import pyplot as plt\n",
    "\n",
    "# Import necessary functions and modules\n",
    "from src.utils.check_mps_device import check_mps_device\n",
    "from src.utils.data_loading import load_data\n",
    "from src.utils.filtering import filter_data\n",
    "from src.utils.label_encoding import label_encode_column\n",
    "import numpy as np\n",
    "\n",
    "# Check if PyTorch Multi-Process Service (MPS) is available (GPU)\n",
    "check_mps_device()"
   ]
  },
  {
   "cell_type": "markdown",
   "source": [
    "# 1) Preprocessing"
   ],
   "metadata": {
    "collapsed": false
   },
   "id": "d02b4b2bfed554f4"
  },
  {
   "cell_type": "markdown",
   "source": [
    "## a) Selected Features"
   ],
   "metadata": {
    "collapsed": false
   },
   "id": "cc2be1747f70623f"
  },
  {
   "cell_type": "code",
   "outputs": [],
   "source": [
    "# Define a list of selected features for analysis from the feature_selection notebook\n",
    "selected_features = [\n",
    "    \"geocentric_latitude\",  # Latitude of conjunction point [deg]\n",
    "    \"c_sigma_rdot\",  # Covariance: radial velocity standard deviation (sigma) of chaser [m/s]\n",
    "    \"c_obs_used\",  # Number of observations used for orbit determination (per CDM) of chaser\n",
    "    \"c_time_lastob_start\",\n",
    "    # Start of the time in days of the last accepted observation used in the orbit determination of chaser\n",
    "    \"c_time_lastob_end\",\n",
    "    # End of the time interval in days of the last accepted observation used in the orbit determination of chaser\n",
    "    \"mahalanobis_distance\",  # The distance between the chaser and target\n",
    "    \"miss_distance\",  # Relative position between chaser & target at TCA [m]\n",
    "    \"time_to_tca\",  # Time interval between CDM creation and time-of-closest approach [days]\n",
    "    \"t_cndot_r\",  # Covariance: correlation of normal (cross-track) velocity vs radial position of chaser\n",
    "    \"c_cr_area_over_mass\",  # Solar radiation coefficient . A/m (ballistic coefficient equivalent) of chaser\n",
    "    \"max_risk_estimate\",  # Maximum collision probability obtained by scaling combined covariance\n",
    "    \"c_span\",  # Size used by the collision risk computation algorithm of chaser [m]\n",
    "    \"max_risk_scaling\",  # Scaling factor used to compute maximum collision probability\n",
    "    \"t_rcs_estimate\",  # Radar cross-sectional area [m^2] of target\n",
    "    \"c_sigma_t\",  # Covariance: transverse (along-track) position standard deviation (sigma) of chaser [m]\n",
    "    \"c_obs_available\",  # Number of observations available for orbit determination (per CDM)\n",
    "    \"risk\",  # Risk value\n",
    "]\n"
   ],
   "metadata": {
    "collapsed": false,
    "ExecuteTime": {
     "end_time": "2024-02-01T16:19:37.438098448Z",
     "start_time": "2024-02-01T16:19:37.382204441Z"
    }
   },
   "id": "efaacfa08cb5d5f1",
   "execution_count": 25
  },
  {
   "cell_type": "markdown",
   "source": [
    "## b) Data Loading"
   ],
   "metadata": {
    "collapsed": false
   },
   "id": "47418c5418c1d6f0"
  },
  {
   "cell_type": "code",
   "outputs": [
    {
     "name": "stdout",
     "output_type": "stream",
     "text": [
      "Raw data\n",
      "<class 'pandas.core.frame.DataFrame'>\n",
      "RangeIndex: 162634 entries, 0 to 162633\n",
      "Columns: 103 entries, event_id to AP\n",
      "dtypes: float64(98), int64(4), object(1)\n",
      "memory usage: 127.8+ MB\n",
      "Filtered data\n",
      "<class 'pandas.core.frame.DataFrame'>\n",
      "RangeIndex: 3032 entries, 0 to 3031\n",
      "Columns: 103 entries, event_id to AP\n",
      "dtypes: float64(98), int64(4), object(1)\n",
      "memory usage: 2.4+ MB\n"
     ]
    }
   ],
   "source": [
    "# Load the data and filter it\n",
    "df = load_data()  # Load the raw data into a DataFrame\n",
    "df_filtered = filter_data(df)  # Filter the data according to criteria stated in the challenge\n",
    "\n",
    "# Remove rows with missing values\n",
    "df_filtered.dropna(axis=0, how=\"any\", inplace=True)\n",
    "\n",
    "# Label encode the categorical column \"c_object_type\"\n",
    "label_encode_column(df_filtered, \"c_object_type\")  # Convert categorical column to numerical values\n",
    "\n",
    "# Extract the selected features and target variable\n",
    "df_processed = df_filtered[selected_features]  # Select only the specified features for analysis\n",
    "\n",
    "# Separate features (X) and target variable (y)\n",
    "X = df_processed.drop('risk', axis=1)  # Features (17 columns)\n",
    "y = df_processed['risk']  # Target variable (risk)\n"
   ],
   "metadata": {
    "collapsed": false,
    "ExecuteTime": {
     "end_time": "2024-02-01T16:19:41.130268510Z",
     "start_time": "2024-02-01T16:19:37.427247403Z"
    }
   },
   "id": "fd101080fa6f3345",
   "execution_count": 26
  },
  {
   "cell_type": "markdown",
   "source": [
    "### High/low risk distribution of original and preprocessed data"
   ],
   "metadata": {
    "collapsed": false
   },
   "id": "9bc4642d9e1f46c9"
  },
  {
   "cell_type": "code",
   "outputs": [
    {
     "name": "stdout",
     "output_type": "stream",
     "text": [
      "Risk Distribution Statistics:\n",
      "High Risk: 96\n",
      "Low Risk: 1227\n",
      "Percent High Risk: 7.2562358276643995\n"
     ]
    },
    {
     "data": {
      "text/plain": "{'High Risk': 96, 'Low Risk': 1227, 'Percent High Risk': 7.2562358276643995}"
     },
     "execution_count": 27,
     "metadata": {},
     "output_type": "execute_result"
    },
    {
     "data": {
      "text/plain": "<Figure size 640x480 with 1 Axes>",
      "image/png": "[encoded data removed]"
     },
     "metadata": {},
     "output_type": "display_data"
    }
   ],
   "source": [
    "from src.utils.plot_distrubution import plot_distribution\n",
    "\n",
    "plot_distribution(y, threshold=-6)"
   ],
   "metadata": {
    "collapsed": false,
    "ExecuteTime": {
     "end_time": "2024-02-01T16:19:41.453394983Z",
     "start_time": "2024-02-01T16:19:41.123859218Z"
    }
   },
   "id": "51b459f47195e41a",
   "execution_count": 27
  },
  {
   "cell_type": "markdown",
   "source": [
    "## c) Data Splitting into Training, Evaluation and Testing"
   ],
   "metadata": {
    "collapsed": false
   },
   "id": "b5b68c4f46055cdb"
  },
  {
   "cell_type": "code",
   "outputs": [
    {
     "name": "stdout",
     "output_type": "stream",
     "text": [
      "Training and Evaluation Set Shapes:\n",
      "(1058, 16)\n",
      "(1058,)\n",
      "\n",
      "Testing Set Shapes:\n",
      "(265, 16)\n",
      "(265,)\n"
     ]
    }
   ],
   "source": [
    "from sklearn.model_selection import train_test_split\n",
    "\n",
    "# Convert risk values into binary classes based on the threshold specified in the challenge\n",
    "y_class = np.where(y >= -6, 1, 0)\n",
    "\n",
    "# Split the data into training and testing sets (80% training, 20% testing)\n",
    "# 'stratify' ensures proportional class distribution in train-test split using 'y_class'.\n",
    "X_train_eval, X_test, y_train_eval, y_test = train_test_split(X, y, test_size=0.2, random_state=42, shuffle=True,\n",
    "                                                              stratify=y_class)\n",
    "\n",
    "print(\"Training and Evaluation Set Shapes:\")\n",
    "print(X_train_eval.shape)  # Shape of the features in the training and evaluation set\n",
    "print(y_train_eval.shape)  # Shape of the target variable in the training and evaluation set\n",
    "print(\"\\nTesting Set Shapes:\")\n",
    "print(X_test.shape)  # Shape of the features in the testing set\n",
    "print(y_test.shape)  # Shape of the target variable in the testing set"
   ],
   "metadata": {
    "collapsed": false,
    "ExecuteTime": {
     "end_time": "2024-02-01T16:19:41.463699870Z",
     "start_time": "2024-02-01T16:19:41.459943037Z"
    }
   },
   "id": "5148189349077432",
   "execution_count": 28
  },
  {
   "cell_type": "code",
   "outputs": [
    {
     "name": "stdout",
     "output_type": "stream",
     "text": [
      "Training Set Shapes:\n",
      "(846, 16)\n",
      "(846,)\n",
      "\n",
      "Validation Set Shapes:\n",
      "(212, 16)\n",
      "(212,)\n"
     ]
    }
   ],
   "source": [
    "# Convert risk values into binary classes based on the threshold specified in the challenge\n",
    "y_class_val = np.where(y_train_eval >= -6, 1, 0)\n",
    "\n",
    "# Split the remaining 80% into training and evaluation/validation sets (80/20 split) using stratify again\n",
    "X_train, X_val, y_train, y_val = train_test_split(X_train_eval, y_train_eval,\n",
    "                                                  test_size=0.20,\n",
    "                                                  random_state=21,\n",
    "                                                  shuffle=True,\n",
    "                                                  stratify=y_class_val)\n",
    "\n",
    "print(\"Training Set Shapes:\")\n",
    "print(X_train.shape)  # Shape of the features in the training set\n",
    "print(y_train.shape)  # Shape of the target variable in the training set\n",
    "print(\"\\nValidation Set Shapes:\")\n",
    "print(X_val.shape)  # Shape of the features in the validation set\n",
    "print(y_val.shape)  # Shape of the target variable in the validation set"
   ],
   "metadata": {
    "collapsed": false,
    "ExecuteTime": {
     "end_time": "2024-02-01T16:19:41.552133014Z",
     "start_time": "2024-02-01T16:19:41.465042820Z"
    }
   },
   "id": "3ca23e74ce819dca",
   "execution_count": 29
  },
  {
   "cell_type": "markdown",
   "source": [
    "### High/low risk distribution of training set"
   ],
   "metadata": {
    "collapsed": false
   },
   "id": "20baa9fba383b7bb"
  },
  {
   "cell_type": "code",
   "outputs": [
    {
     "name": "stdout",
     "output_type": "stream",
     "text": [
      "Shape of y_train_class: (846,)\n",
      "Risk Distribution Statistics:\n",
      "High Risk: 62\n",
      "Low Risk: 784\n",
      "Percent High Risk: 7.328605200945627\n"
     ]
    },
    {
     "data": {
      "text/plain": "{'High Risk': 62, 'Low Risk': 784, 'Percent High Risk': 7.328605200945627}"
     },
     "execution_count": 30,
     "metadata": {},
     "output_type": "execute_result"
    },
    {
     "data": {
      "text/plain": "<Figure size 640x480 with 1 Axes>",
      "image/png": "[encoded data removed]"
     },
     "metadata": {},
     "output_type": "display_data"
    }
   ],
   "source": [
    "# Convert risk values into binary classes for the training set\n",
    "y_train_class = np.where(y_train >= -6, 1, 0)\n",
    "\n",
    "# Print the shape of the binary classes array\n",
    "print(\"Shape of y_train_class:\", y_train_class.shape)\n",
    "\n",
    "# Display the distribution of the binary classes\n",
    "plot_distribution(y_train_class, threshold=0.5)"
   ],
   "metadata": {
    "collapsed": false,
    "ExecuteTime": {
     "end_time": "2024-02-01T16:19:41.948677653Z",
     "start_time": "2024-02-01T16:19:41.553708006Z"
    }
   },
   "id": "35a2bb0db61bc48d",
   "execution_count": 30
  },
  {
   "cell_type": "markdown",
   "source": [
    "### High/low risk distribution of validation set"
   ],
   "metadata": {
    "collapsed": false
   },
   "id": "79a3727d34e73f7b"
  },
  {
   "cell_type": "code",
   "outputs": [
    {
     "name": "stdout",
     "output_type": "stream",
     "text": [
      "Shape of y_eval_class: (212,)\n",
      "Risk Distribution Statistics:\n",
      "High Risk: 15\n",
      "Low Risk: 197\n",
      "Percent High Risk: 7.0754716981132075\n"
     ]
    },
    {
     "data": {
      "text/plain": "{'High Risk': 15, 'Low Risk': 197, 'Percent High Risk': 7.0754716981132075}"
     },
     "execution_count": 31,
     "metadata": {},
     "output_type": "execute_result"
    },
    {
     "data": {
      "text/plain": "<Figure size 640x480 with 1 Axes>",
      "image/png": "[encoded data removed]"
     },
     "metadata": {},
     "output_type": "display_data"
    }
   ],
   "source": [
    "# Convert risk values into binary classes for the validation set\n",
    "y_eval_class = np.where(y_val >= -6, 1, 0)\n",
    "\n",
    "# Print the shape of the binary classes array\n",
    "print(\"Shape of y_eval_class:\", y_eval_class.shape)\n",
    "\n",
    "# Display the distribution of the binary classes\n",
    "plot_distribution(y_eval_class, threshold=0.5)\n"
   ],
   "metadata": {
    "collapsed": false,
    "ExecuteTime": {
     "end_time": "2024-02-01T16:19:42.333736911Z",
     "start_time": "2024-02-01T16:19:41.984173511Z"
    }
   },
   "id": "930d1003f35ca620",
   "execution_count": 31
  },
  {
   "cell_type": "markdown",
   "source": [
    "### High/low risk distribution of testing set"
   ],
   "metadata": {
    "collapsed": false
   },
   "id": "f523764f614851bc"
  },
  {
   "cell_type": "code",
   "outputs": [
    {
     "name": "stdout",
     "output_type": "stream",
     "text": [
      "Shape of y_test_class: (265,)\n",
      "Risk Distribution Statistics:\n",
      "High Risk: 19\n",
      "Low Risk: 246\n",
      "Percent High Risk: 7.169811320754717\n"
     ]
    },
    {
     "data": {
      "text/plain": "{'High Risk': 19, 'Low Risk': 246, 'Percent High Risk': 7.169811320754717}"
     },
     "execution_count": 32,
     "metadata": {},
     "output_type": "execute_result"
    },
    {
     "data": {
      "text/plain": "<Figure size 640x480 with 1 Axes>",
      "image/png": "[encoded data removed]"
     },
     "metadata": {},
     "output_type": "display_data"
    }
   ],
   "source": [
    "# Convert risk values into binary classes for the testing set\n",
    "y_test_class = np.where(y_test >= -6, 1, 0)\n",
    "\n",
    "# Print the shape of the binary classes array\n",
    "print(\"Shape of y_test_class:\", y_test_class.shape)\n",
    "\n",
    "# Display the distribution of the binary classes\n",
    "plot_distribution(y_test_class, threshold=0.5)"
   ],
   "metadata": {
    "collapsed": false,
    "ExecuteTime": {
     "end_time": "2024-02-01T16:19:42.691159628Z",
     "start_time": "2024-02-01T16:19:42.365016293Z"
    }
   },
   "id": "1a31895cbc1aa5ae",
   "execution_count": 32
  },
  {
   "cell_type": "markdown",
   "source": [
    "## d) Over Sampling with SMOTE (Synthetic Minority Over-sampling Technique)"
   ],
   "metadata": {
    "collapsed": false
   },
   "id": "1187a18766ac3523"
  },
  {
   "cell_type": "markdown",
   "source": [
    "[SMOTE](https://www.jair.org/index.php/jair/article/view/11192) is a technique used to address class imbalance in machine learning datasets, particularly in classification tasks. It works by generating synthetic samples for the minority class, thereby balancing the class distribution. SMOTE selects minority class instances and generates synthetic samples by interpolating between these instances and their nearest neighbors. This helps in mitigating the problem of class imbalance and improving the performance of machine learning models, especially those sensitive to class distribution."
   ],
   "metadata": {
    "collapsed": false
   },
   "id": "b35e06f61c43b550"
  },
  {
   "cell_type": "code",
   "outputs": [
    {
     "name": "stdout",
     "output_type": "stream",
     "text": [
      "Resampled Training Set Shapes:\n",
      "(1568, 16)\n",
      "(1568,)\n"
     ]
    }
   ],
   "source": [
    "from imblearn.over_sampling import SMOTE\n",
    "\n",
    "# Initialize the SMOTE object with specified parameters\n",
    "smote = SMOTE(random_state=42, k_neighbors=20)  # Number of nearest neighbors to use for generating synthetic samples\n",
    "\n",
    "# Resample the training data using SMOTE using unscaled training features and binary representation of trained targets\n",
    "X_train_resampled, y_train_resampled = smote.fit_resample(X_train, y_train_class)\n",
    "\n",
    "# Print the shapes of the resampled training data\n",
    "print(\"Resampled Training Set Shapes:\")\n",
    "print(X_train_resampled.shape)  # Shape of the resampled features in the training set\n",
    "print(y_train_resampled.shape)  # Shape of the resampled target variable in the training set"
   ],
   "metadata": {
    "collapsed": false,
    "ExecuteTime": {
     "end_time": "2024-02-01T16:19:42.757442615Z",
     "start_time": "2024-02-01T16:19:42.694869857Z"
    }
   },
   "id": "af3e8e5105f8a454",
   "execution_count": 33
  },
  {
   "cell_type": "markdown",
   "source": [
    "### High/low risk distribution of resampled training set"
   ],
   "metadata": {
    "collapsed": false
   },
   "id": "34a9a97b8b148cdd"
  },
  {
   "cell_type": "code",
   "outputs": [
    {
     "name": "stdout",
     "output_type": "stream",
     "text": [
      "Risk Distribution Statistics:\n",
      "High Risk: 784\n",
      "Low Risk: 784\n",
      "Percent High Risk: 50.0\n"
     ]
    },
    {
     "data": {
      "text/plain": "{'High Risk': 784, 'Low Risk': 784, 'Percent High Risk': 50.0}"
     },
     "execution_count": 34,
     "metadata": {},
     "output_type": "execute_result"
    },
    {
     "data": {
      "text/plain": "<Figure size 640x480 with 1 Axes>",
      "image/png": "[encoded data removed]"
     },
     "metadata": {},
     "output_type": "display_data"
    }
   ],
   "source": [
    "# Display the distribution of the resampled binary classes\n",
    "plot_distribution(y_train_resampled, threshold=0.5)"
   ],
   "metadata": {
    "collapsed": false,
    "ExecuteTime": {
     "end_time": "2024-02-01T16:19:43.166899382Z",
     "start_time": "2024-02-01T16:19:42.738118251Z"
    }
   },
   "id": "ee6868cd92d80a1",
   "execution_count": 34
  },
  {
   "cell_type": "markdown",
   "source": [
    "## e) Scaling"
   ],
   "metadata": {
    "collapsed": false
   },
   "id": "5c330ed38fb2e4b0"
  },
  {
   "cell_type": "code",
   "outputs": [
    {
     "name": "stdout",
     "output_type": "stream",
     "text": [
      "Resampled Training Set Shape: (1568,)\n",
      "Evaluation Set Shape: (1058,)\n",
      "Validation Set Shape: (212,)\n",
      "Testing Set Shape: (265,)\n"
     ]
    }
   ],
   "source": [
    "print(\"Resampled Training Set Shape:\", y_train_resampled.shape)\n",
    "print(\"Evaluation Set Shape:\", y_train_eval.shape)\n",
    "print(\"Validation Set Shape:\", y_val.shape)\n",
    "print(\"Testing Set Shape:\", y_test.shape)"
   ],
   "metadata": {
    "collapsed": false,
    "ExecuteTime": {
     "end_time": "2024-02-01T16:19:43.226053468Z",
     "start_time": "2024-02-01T16:19:43.169535894Z"
    }
   },
   "id": "75cb0220c39a909",
   "execution_count": 35
  },
  {
   "cell_type": "code",
   "outputs": [
    {
     "name": "stdout",
     "output_type": "stream",
     "text": [
      "Shape of X_train_rescaled: (1568, 16)\n",
      "Shape of X_train_eval_rescaled: (1058, 16)\n",
      "Shape of X_eval_rescaled: (212, 16)\n",
      "Shape of X_test_rescaled: (265, 16)\n"
     ]
    }
   ],
   "source": [
    "from sklearn.preprocessing import MinMaxScaler\n",
    "\n",
    "# Initialize the MinMaxScaler\n",
    "# MinMaxScaler is used to scale the features to a range between 0 and 1 (uniformity across features)\n",
    "feature_scaler = MinMaxScaler()\n",
    "\n",
    "# Reshape X to ensure it's a 2D array for the scaler's fit_transform method\n",
    "X_train_rescaled = feature_scaler.fit_transform(X_train_resampled)\n",
    "X_train_eval_rescaled = feature_scaler.transform(X_train_eval)\n",
    "X_eval_rescaled = feature_scaler.transform(X_val)\n",
    "X_test_rescaled = feature_scaler.transform(X_test)\n",
    "\n",
    "print(\"Shape of X_train_rescaled:\", X_train_rescaled.shape)\n",
    "print(\"Shape of X_train_eval_rescaled:\", X_train_eval_rescaled.shape)\n",
    "print(\"Shape of X_eval_rescaled:\", X_eval_rescaled.shape)\n",
    "print(\"Shape of X_test_rescaled:\", X_test_rescaled.shape)"
   ],
   "metadata": {
    "collapsed": false,
    "ExecuteTime": {
     "end_time": "2024-02-01T16:19:43.271801816Z",
     "start_time": "2024-02-01T16:19:43.210162002Z"
    }
   },
   "id": "e0aef9202a035b94",
   "execution_count": 36
  },
  {
   "cell_type": "markdown",
   "source": [
    "# 2) Modeling"
   ],
   "metadata": {
    "collapsed": false
   },
   "id": "9cc6da3b1416d044"
  },
  {
   "cell_type": "markdown",
   "source": [
    "This model is a feedforward neural network with an input layer, one hidden layer, and an output layer. The architecture includes:\n",
    "\n",
    "- **Input Layer**: 64 neurons with ReLU activation.\n",
    "- **Hidden Layer**: 32 neurons with ReLU activation.\n",
    "- **Output Layer**: 1 neuron with linear activation for regression.\n",
    "\n",
    "The model is compiled using the Adam optimizer (learning rate = 0.001) and mean squared error loss."
   ],
   "metadata": {
    "collapsed": false
   },
   "id": "13ecf5f6d1390839"
  },
  {
   "cell_type": "markdown",
   "source": [
    "## a) Build Neural Network Model"
   ],
   "metadata": {
    "collapsed": false
   },
   "id": "d578cc0825e42ccf"
  },
  {
   "cell_type": "markdown",
   "source": [
    "Here you can input your models and comment out the others"
   ],
   "metadata": {
    "collapsed": false
   },
   "id": "ff4a2ded6fc3da7d"
  },
  {
   "cell_type": "markdown",
   "source": [
    "### v1.0.0"
   ],
   "metadata": {
    "collapsed": false
   },
   "id": "32448f7ca7c2e0b5"
  },
  {
   "cell_type": "code",
   "outputs": [],
   "source": [
    "# from tensorflow.keras import Sequential\n",
    "# from tensorflow.keras.layers import Dense\n",
    "# from tensorflow.keras.optimizers.legacy import Adam\n",
    "# \n",
    "# # Define the neural network model: linear stack of layers\n",
    "# model = Sequential()\n",
    "# \n",
    "# # Add input layer and hidden layers\n",
    "# model.add(Dense(64, input_dim=X_train_rescaled.shape[1],\n",
    "#                 activation='relu'))  # Input layer with 64 neurons and ReLU activation\n",
    "# model.add(Dense(32, activation='relu'))  # Hidden layer with 32 neurons and ReLU activation\n",
    "# \n",
    "# # Add output layer\n",
    "# # sigmoid for binary classification\n",
    "# model.add(Dense(1, activation='sigmoid'))  # Output layer with linear activation for regression task\n",
    "# \n",
    "# # Compile the model\n",
    "# # binary_crossentropy: Used for binary classification problems, computes loss based on probability distributions of binary classes.\n",
    "# model.compile(optimizer=Adam(learning_rate=0.001),  # Adam optimizer with learning rate of 0.001\n",
    "#               loss='binary_crossentropy', metrics=['accuracy'])  # Mean squared error loss for regression\n",
    "# \n",
    "# # Print model summary\n",
    "# model.summary()  # Display the architecture and parameters of the neural network model"
   ],
   "metadata": {
    "collapsed": false,
    "ExecuteTime": {
     "end_time": "2024-02-01T16:19:43.319225064Z",
     "start_time": "2024-02-01T16:19:43.270714725Z"
    }
   },
   "id": "5cb4c226d9ea9097",
   "execution_count": 37
  },
  {
   "cell_type": "markdown",
   "source": [
    "### v2.0.0"
   ],
   "metadata": {
    "collapsed": false
   },
   "id": "9d6873ce9ed41654"
  },
  {
   "cell_type": "code",
   "outputs": [
    {
     "name": "stdout",
     "output_type": "stream",
     "text": [
      "Model: \"sequential_1\"\n",
      "_________________________________________________________________\n",
      " Layer (type)                Output Shape              Param #   \n",
      "=================================================================\n",
      " dense_2 (Dense)             (None, 128)               2176      \n",
      "                                                                 \n",
      " dense_3 (Dense)             (None, 1)                 129       \n",
      "                                                                 \n",
      "=================================================================\n",
      "Total params: 2305 (9.00 KB)\n",
      "Trainable params: 2305 (9.00 KB)\n",
      "Non-trainable params: 0 (0.00 Byte)\n",
      "_________________________________________________________________\n"
     ]
    }
   ],
   "source": [
    "from tensorflow.keras import Sequential\n",
    "from tensorflow.keras.layers import Dense, Dropout, BatchNormalization\n",
    "from tensorflow.keras.optimizers.legacy import SGD\n",
    "from tensorflow.keras.callbacks import EarlyStopping, ReduceLROnPlateau\n",
    "\n",
    "# Define the neural network model\n",
    "model = Sequential()\n",
    "\n",
    "# Add input layer and hidden layers\n",
    "\n",
    "model.add(Dense(128, input_dim=X_train_rescaled.shape[1], activation='relu'))\n",
    "'''\n",
    "model.add(BatchNormalization())  # Batch normalization layer\n",
    "model.add(Dropout(0.5))  # Dropout layer to prevent overfitting\n",
    "model.add(Dense(64, activation='relu'))\n",
    "model.add(BatchNormalization())\n",
    "model.add(Dropout(0.5))'''\n",
    "\n",
    "# Add output layer\n",
    "# sigmoid for binary classification\n",
    "model.add(Dense(1, activation='sigmoid'))  # Linear activation for regression task\n",
    "\n",
    "# Compile the model\n",
    "# binary_crossentropy: Used for binary classification problems, computes loss based on probability distributions of binary classes.\n",
    "model.compile(optimizer=SGD(learning_rate=0.01,momentum=0.9),  # SGD optimizer with learning rate of 0.001\n",
    "              loss='binary_crossentropy', metrics=['accuracy'])  # Mean squared error loss for regression\n",
    "\n",
    "# Print model summary\n",
    "model.summary()"
   ],
   "metadata": {
    "collapsed": false,
    "ExecuteTime": {
     "end_time": "2024-02-01T16:19:43.434747505Z",
     "start_time": "2024-02-01T16:19:43.314094698Z"
    }
   },
   "id": "3719779c376e0d8a",
   "execution_count": 38
  },
  {
   "cell_type": "markdown",
   "source": [
    "### v3.0.0"
   ],
   "metadata": {
    "collapsed": false
   },
   "id": "45da1a0f2316f211"
  },
  {
   "cell_type": "markdown",
   "source": [
    "## b) Train the model"
   ],
   "metadata": {
    "collapsed": false
   },
   "id": "4d03641093328002"
  },
  {
   "cell_type": "markdown",
   "source": [
    "**fit():**\n",
    "- During training, the model is repeatedly exposed to batches of training data (X_train_rescaled and y_train_resampled). For each batch, the model computes predictions, calculates the loss (difference between predicted and actual values), and updates the model's parameters (weights and biases) using an optimization algorithm (e.g., Adam optimizer) to minimize the loss.\n",
    "\n",
    "- The validation data (X_eval_rescaled and y_eval_class) are used periodically (after each epoch) to evaluate the model's performance on unseen data. This helps monitor the model's generalization ability and detect overfitting."
   ],
   "metadata": {
    "collapsed": false
   },
   "id": "fe5165e986dc8263"
  },
  {
   "cell_type": "code",
   "outputs": [
    {
     "name": "stdout",
     "output_type": "stream",
     "text": [
      "Epoch 1/50\n",
      "25/25 [==============================] - 0s 5ms/step - loss: 0.6793 - accuracy: 0.5982 - val_loss: 0.7042 - val_accuracy: 0.5189\n",
      "Epoch 2/50\n",
      "25/25 [==============================] - 0s 2ms/step - loss: 0.6592 - accuracy: 0.6926 - val_loss: 0.6690 - val_accuracy: 0.6368\n",
      "Epoch 3/50\n",
      "25/25 [==============================] - 0s 2ms/step - loss: 0.6384 - accuracy: 0.7105 - val_loss: 0.6564 - val_accuracy: 0.6509\n",
      "Epoch 4/50\n",
      "25/25 [==============================] - 0s 2ms/step - loss: 0.6186 - accuracy: 0.7353 - val_loss: 0.6364 - val_accuracy: 0.6745\n",
      "Epoch 5/50\n",
      "25/25 [==============================] - 0s 2ms/step - loss: 0.5980 - accuracy: 0.7290 - val_loss: 0.6004 - val_accuracy: 0.7028\n",
      "Epoch 6/50\n",
      "25/25 [==============================] - 0s 2ms/step - loss: 0.5767 - accuracy: 0.7551 - val_loss: 0.5877 - val_accuracy: 0.6981\n",
      "Epoch 7/50\n",
      "25/25 [==============================] - 0s 2ms/step - loss: 0.5550 - accuracy: 0.7513 - val_loss: 0.5546 - val_accuracy: 0.7264\n",
      "Epoch 8/50\n",
      "25/25 [==============================] - 0s 2ms/step - loss: 0.5350 - accuracy: 0.7730 - val_loss: 0.5781 - val_accuracy: 0.6698\n",
      "Epoch 9/50\n",
      "25/25 [==============================] - 0s 2ms/step - loss: 0.5153 - accuracy: 0.7710 - val_loss: 0.5425 - val_accuracy: 0.7028\n",
      "Epoch 10/50\n",
      "25/25 [==============================] - 0s 3ms/step - loss: 0.4963 - accuracy: 0.7870 - val_loss: 0.4907 - val_accuracy: 0.7642\n",
      "Epoch 11/50\n",
      "25/25 [==============================] - 0s 2ms/step - loss: 0.4784 - accuracy: 0.7972 - val_loss: 0.5248 - val_accuracy: 0.7123\n",
      "Epoch 12/50\n",
      "25/25 [==============================] - 0s 3ms/step - loss: 0.4625 - accuracy: 0.7985 - val_loss: 0.4689 - val_accuracy: 0.7783\n",
      "Epoch 13/50\n",
      "25/25 [==============================] - 0s 2ms/step - loss: 0.4496 - accuracy: 0.8138 - val_loss: 0.4436 - val_accuracy: 0.7925\n",
      "Epoch 14/50\n",
      "25/25 [==============================] - 0s 2ms/step - loss: 0.4329 - accuracy: 0.8214 - val_loss: 0.4544 - val_accuracy: 0.7830\n",
      "Epoch 15/50\n",
      "25/25 [==============================] - 0s 2ms/step - loss: 0.4194 - accuracy: 0.8342 - val_loss: 0.4489 - val_accuracy: 0.7877\n",
      "Epoch 16/50\n",
      "25/25 [==============================] - 0s 2ms/step - loss: 0.4055 - accuracy: 0.8380 - val_loss: 0.4429 - val_accuracy: 0.7972\n",
      "Epoch 17/50\n",
      "25/25 [==============================] - 0s 2ms/step - loss: 0.3929 - accuracy: 0.8495 - val_loss: 0.4586 - val_accuracy: 0.7925\n",
      "Epoch 18/50\n",
      "25/25 [==============================] - 0s 2ms/step - loss: 0.3819 - accuracy: 0.8533 - val_loss: 0.4381 - val_accuracy: 0.8019\n",
      "Epoch 19/50\n",
      "25/25 [==============================] - 0s 2ms/step - loss: 0.3687 - accuracy: 0.8622 - val_loss: 0.3829 - val_accuracy: 0.8302\n",
      "Epoch 20/50\n",
      "25/25 [==============================] - 0s 2ms/step - loss: 0.3579 - accuracy: 0.8718 - val_loss: 0.4090 - val_accuracy: 0.8113\n",
      "Epoch 21/50\n",
      "25/25 [==============================] - 0s 2ms/step - loss: 0.3472 - accuracy: 0.8705 - val_loss: 0.4026 - val_accuracy: 0.8255\n",
      "Epoch 22/50\n",
      "25/25 [==============================] - 0s 2ms/step - loss: 0.3379 - accuracy: 0.8814 - val_loss: 0.4004 - val_accuracy: 0.8302\n",
      "Epoch 23/50\n",
      "25/25 [==============================] - 0s 2ms/step - loss: 0.3281 - accuracy: 0.8871 - val_loss: 0.3982 - val_accuracy: 0.8349\n",
      "Epoch 24/50\n",
      "25/25 [==============================] - 0s 2ms/step - loss: 0.3193 - accuracy: 0.8929 - val_loss: 0.3847 - val_accuracy: 0.8349\n",
      "Epoch 25/50\n",
      "25/25 [==============================] - 0s 2ms/step - loss: 0.3107 - accuracy: 0.9031 - val_loss: 0.4032 - val_accuracy: 0.8396\n",
      "Epoch 26/50\n",
      "25/25 [==============================] - 0s 2ms/step - loss: 0.3033 - accuracy: 0.9037 - val_loss: 0.3504 - val_accuracy: 0.8585\n",
      "Epoch 27/50\n",
      "25/25 [==============================] - 0s 2ms/step - loss: 0.2956 - accuracy: 0.9082 - val_loss: 0.3872 - val_accuracy: 0.8443\n",
      "Epoch 28/50\n",
      "25/25 [==============================] - 0s 2ms/step - loss: 0.2884 - accuracy: 0.9082 - val_loss: 0.3640 - val_accuracy: 0.8632\n",
      "Epoch 29/50\n",
      "25/25 [==============================] - 0s 2ms/step - loss: 0.2813 - accuracy: 0.9126 - val_loss: 0.3363 - val_accuracy: 0.8679\n",
      "Epoch 30/50\n",
      "25/25 [==============================] - 0s 2ms/step - loss: 0.2750 - accuracy: 0.9184 - val_loss: 0.3646 - val_accuracy: 0.8585\n",
      "Epoch 31/50\n",
      "25/25 [==============================] - 0s 2ms/step - loss: 0.2687 - accuracy: 0.9184 - val_loss: 0.3255 - val_accuracy: 0.8726\n",
      "Epoch 32/50\n",
      "25/25 [==============================] - 0s 3ms/step - loss: 0.2648 - accuracy: 0.9203 - val_loss: 0.3301 - val_accuracy: 0.8726\n",
      "Epoch 33/50\n",
      "25/25 [==============================] - 0s 2ms/step - loss: 0.2576 - accuracy: 0.9209 - val_loss: 0.3165 - val_accuracy: 0.8821\n",
      "Epoch 34/50\n",
      "25/25 [==============================] - 0s 3ms/step - loss: 0.2534 - accuracy: 0.9241 - val_loss: 0.3201 - val_accuracy: 0.8868\n",
      "Epoch 35/50\n",
      "25/25 [==============================] - 0s 2ms/step - loss: 0.2480 - accuracy: 0.9260 - val_loss: 0.3211 - val_accuracy: 0.8868\n",
      "Epoch 36/50\n",
      "25/25 [==============================] - 0s 2ms/step - loss: 0.2447 - accuracy: 0.9260 - val_loss: 0.2944 - val_accuracy: 0.8821\n",
      "Epoch 37/50\n",
      "25/25 [==============================] - 0s 2ms/step - loss: 0.2402 - accuracy: 0.9273 - val_loss: 0.3078 - val_accuracy: 0.8821\n",
      "Epoch 38/50\n",
      "25/25 [==============================] - 0s 2ms/step - loss: 0.2363 - accuracy: 0.9311 - val_loss: 0.2783 - val_accuracy: 0.8821\n",
      "Epoch 39/50\n",
      "25/25 [==============================] - 0s 3ms/step - loss: 0.2323 - accuracy: 0.9311 - val_loss: 0.2844 - val_accuracy: 0.8915\n",
      "Epoch 40/50\n",
      "25/25 [==============================] - 0s 2ms/step - loss: 0.2286 - accuracy: 0.9337 - val_loss: 0.2748 - val_accuracy: 0.8915\n",
      "Epoch 41/50\n",
      "25/25 [==============================] - 0s 3ms/step - loss: 0.2253 - accuracy: 0.9343 - val_loss: 0.2821 - val_accuracy: 0.8868\n",
      "Epoch 42/50\n",
      "25/25 [==============================] - 0s 3ms/step - loss: 0.2234 - accuracy: 0.9369 - val_loss: 0.2843 - val_accuracy: 0.8962\n",
      "Epoch 43/50\n",
      "25/25 [==============================] - 0s 3ms/step - loss: 0.2193 - accuracy: 0.9337 - val_loss: 0.2756 - val_accuracy: 0.8868\n",
      "Epoch 44/50\n",
      "25/25 [==============================] - 0s 3ms/step - loss: 0.2164 - accuracy: 0.9375 - val_loss: 0.3044 - val_accuracy: 0.8868\n",
      "Epoch 45/50\n",
      "25/25 [==============================] - 0s 3ms/step - loss: 0.2136 - accuracy: 0.9388 - val_loss: 0.2766 - val_accuracy: 0.8915\n",
      "Epoch 46/50\n",
      "25/25 [==============================] - 0s 2ms/step - loss: 0.2112 - accuracy: 0.9381 - val_loss: 0.2859 - val_accuracy: 0.8868\n",
      "Epoch 47/50\n",
      "25/25 [==============================] - 0s 2ms/step - loss: 0.2096 - accuracy: 0.9394 - val_loss: 0.2963 - val_accuracy: 0.8868\n",
      "Epoch 48/50\n",
      "25/25 [==============================] - 0s 2ms/step - loss: 0.2066 - accuracy: 0.9401 - val_loss: 0.2775 - val_accuracy: 0.9009\n",
      "Epoch 49/50\n",
      "25/25 [==============================] - 0s 2ms/step - loss: 0.2047 - accuracy: 0.9439 - val_loss: 0.2588 - val_accuracy: 0.9009\n",
      "Epoch 50/50\n",
      "25/25 [==============================] - 0s 2ms/step - loss: 0.2048 - accuracy: 0.9413 - val_loss: 0.2621 - val_accuracy: 0.9009\n"
     ]
    }
   ],
   "source": [
    "# X_train_rescaled: Scaled features of the training set\n",
    "# y_train_resampled: Binary classes (after oversampling) corresponding to the training set\n",
    "# validation_data=(X_eval_rescaled, y_eval_class): Data used for validation during training\n",
    "history = model.fit(X_train_rescaled, y_train_resampled, shuffle=True, epochs=50, batch_size=64,\n",
    "                    validation_data=(X_eval_rescaled, y_eval_class))"
   ],
   "metadata": {
    "collapsed": false,
    "ExecuteTime": {
     "end_time": "2024-02-01T16:19:46.705719860Z",
     "start_time": "2024-02-01T16:19:43.430240913Z"
    }
   },
   "id": "84eadf83b271445c",
   "execution_count": 39
  },
  {
   "cell_type": "markdown",
   "source": [
    "### Plot the accuracy of the model for the Training and Validation data"
   ],
   "metadata": {
    "collapsed": false
   },
   "id": "1fbf2b847d6c21b3"
  },
  {
   "cell_type": "code",
   "outputs": [
    {
     "data": {
      "text/plain": "<Figure size 640x480 with 1 Axes>",
      "image/png": "[encoded data removed]"
     },
     "metadata": {},
     "output_type": "display_data"
    }
   ],
   "source": [
    "plt.plot(history.history['accuracy'])\n",
    "plt.plot(history.history['val_accuracy'])\n",
    "plt.title('Model Accuracy')\n",
    "plt.ylabel('Accuracy')\n",
    "plt.xlabel('Epochs')\n",
    "plt.legend(['Training', 'Validation'], loc='upper left')\n",
    "\n",
    "# Set y-axis limits from 0 to 1\n",
    "plt.ylim(0, 1)\n",
    "\n",
    "# Show figure\n",
    "plt.show()"
   ],
   "metadata": {
    "collapsed": false,
    "ExecuteTime": {
     "end_time": "2024-02-01T16:19:46.967936089Z",
     "start_time": "2024-02-01T16:19:46.737533036Z"
    }
   },
   "id": "ed6346688ad6d634",
   "execution_count": 40
  },
  {
   "cell_type": "markdown",
   "source": [
    "### Plot the loss of the model for the Training and Validation data"
   ],
   "metadata": {
    "collapsed": false
   },
   "id": "28f0d59a00a4a097"
  },
  {
   "cell_type": "code",
   "outputs": [
    {
     "data": {
      "text/plain": "<Figure size 640x480 with 1 Axes>",
      "image/png": "[encoded data removed]"
     },
     "metadata": {},
     "output_type": "display_data"
    }
   ],
   "source": [
    "plt.plot(history.history['loss'])\n",
    "plt.plot(history.history['val_loss'])\n",
    "plt.title('model loss')\n",
    "plt.ylabel('loss')\n",
    "plt.xlabel('Epochs')\n",
    "plt.legend(['Training', 'Validation'], loc='upper left')\n",
    "\n",
    "# Show figure\n",
    "plt.show()"
   ],
   "metadata": {
    "collapsed": false,
    "ExecuteTime": {
     "end_time": "2024-02-01T16:19:47.248316635Z",
     "start_time": "2024-02-01T16:19:46.986751150Z"
    }
   },
   "id": "fb6c4ef71f33f459",
   "execution_count": 41
  },
  {
   "cell_type": "markdown",
   "source": [
    "## c) Predicting the model"
   ],
   "metadata": {
    "collapsed": false
   },
   "id": "1408a513198c53ce"
  },
  {
   "cell_type": "code",
   "outputs": [
    {
     "name": "stdout",
     "output_type": "stream",
     "text": [
      "9/9 [==============================] - 0s 877us/step\n"
     ]
    }
   ],
   "source": [
    "# Predict using the trained model on rescaled testing data\n",
    "risk_predictions = model.predict(X_test_rescaled)"
   ],
   "metadata": {
    "collapsed": false,
    "ExecuteTime": {
     "end_time": "2024-02-01T16:19:47.343082921Z",
     "start_time": "2024-02-01T16:19:47.252861535Z"
    }
   },
   "id": "905b8ce15425ac4b",
   "execution_count": 42
  },
  {
   "cell_type": "markdown",
   "source": [
    "### High/low risk distribution of predicted risk without classification"
   ],
   "metadata": {
    "collapsed": false
   },
   "id": "97ced0701ed306a8"
  },
  {
   "cell_type": "code",
   "outputs": [
    {
     "data": {
      "text/plain": "<Axes: ylabel='Count'>"
     },
     "execution_count": 43,
     "metadata": {},
     "output_type": "execute_result"
    },
    {
     "data": {
      "text/plain": "<Figure size 640x480 with 1 Axes>",
      "image/png": "[encoded data removed]"
     },
     "metadata": {},
     "output_type": "display_data"
    }
   ],
   "source": [
    "# Display the distribution of the predicted risk\n",
    "plot_distribution(risk_predictions, classification=False)"
   ],
   "metadata": {
    "collapsed": false,
    "ExecuteTime": {
     "end_time": "2024-02-01T16:19:47.907893513Z",
     "start_time": "2024-02-01T16:19:47.342495388Z"
    }
   },
   "id": "375ebdaf9288d1b0",
   "execution_count": 43
  },
  {
   "cell_type": "markdown",
   "source": [
    "### Find best threshold for binary classification for F-beta score"
   ],
   "metadata": {
    "collapsed": false
   },
   "id": "42b73501323ff082"
  },
  {
   "cell_type": "code",
   "outputs": [
    {
     "name": "stdout",
     "output_type": "stream",
     "text": [
      "Best Threshold: 0.5735735735735735\n",
      "Best F-beta Score: 0.6967213114754097\n"
     ]
    }
   ],
   "source": [
    "from sklearn.metrics import fbeta_score\n",
    "\n",
    "# Initialize variables to store the best threshold and its corresponding F-beta score\n",
    "best_threshold = None\n",
    "best_score = -1\n",
    "\n",
    "# Iterate over a range of thresholds\n",
    "for threshold in np.linspace(0, 1, 1000):\n",
    "    \n",
    "    # Convert risk predictions to binary predictions based on the current threshold\n",
    "    y_pred = np.where(risk_predictions >= threshold, 1, 0)\n",
    "    \n",
    "    # Calculate the F-beta score for the current threshold\n",
    "    score = fbeta_score(y_test_class, y_pred, beta=2)\n",
    "\n",
    "    # Update the best threshold and score if the current score is better\n",
    "    if score > best_score:\n",
    "        best_score = score\n",
    "        best_threshold = threshold\n",
    "\n",
    "print(\"Best Threshold:\", best_threshold)\n",
    "print(\"Best F-beta Score:\", best_score)"
   ],
   "metadata": {
    "collapsed": false,
    "ExecuteTime": {
     "end_time": "2024-02-01T16:19:50.613082864Z",
     "start_time": "2024-02-01T16:19:47.915280974Z"
    }
   },
   "id": "942f75cb853cb6c2",
   "execution_count": 44
  },
  {
   "cell_type": "markdown",
   "source": [
    "### High/low risk distribution of risk predictions with computed threshold"
   ],
   "metadata": {
    "collapsed": false
   },
   "id": "2c8eec3d277bdb34"
  },
  {
   "cell_type": "code",
   "outputs": [
    {
     "name": "stdout",
     "output_type": "stream",
     "text": [
      "Risk Distribution Statistics:\n",
      "High Risk: 46\n",
      "Low Risk: 219\n",
      "Percent High Risk: 17.358490566037737\n"
     ]
    },
    {
     "data": {
      "text/plain": "{'High Risk': 46, 'Low Risk': 219, 'Percent High Risk': 17.358490566037737}"
     },
     "execution_count": 45,
     "metadata": {},
     "output_type": "execute_result"
    },
    {
     "data": {
      "text/plain": "<Figure size 640x480 with 1 Axes>",
      "image/png": "[encoded data removed]"
     },
     "metadata": {},
     "output_type": "display_data"
    }
   ],
   "source": [
    "# Display the distribution of the resampled binary classes\n",
    "plot_distribution(risk_predictions, threshold=best_threshold)"
   ],
   "metadata": {
    "collapsed": false,
    "ExecuteTime": {
     "end_time": "2024-02-01T16:19:51.062852912Z",
     "start_time": "2024-02-01T16:19:50.658113768Z"
    }
   },
   "id": "4577a5037c42f04a",
   "execution_count": 45
  },
  {
   "cell_type": "markdown",
   "source": [
    "# 3) Evaluation of the model"
   ],
   "metadata": {
    "collapsed": false
   },
   "id": "1b2ed0b7600efdca"
  },
  {
   "cell_type": "markdown",
   "source": [
    "**F-beta score**:\n",
    "\n",
    "It's a metric that balances precision and recall, with the emphasis on recall. By using the beta parameter (here, set to 2), we're placing more importance on recall than precision. This is crucial in scenarios where false negatives (missed positive cases) are more costly than false positives.\n",
    "\n",
    "**MSE_HR score**:\n",
    "\n",
    "It's a modified mean squared error (MSE) metric that's adapted to handle high-risk scenarios. It penalizes predictions that fall below a certain threshold (here, -6) more severely, as these are considered high-risk predictions.\n"
   ],
   "metadata": {
    "collapsed": false
   },
   "id": "457933cfef959001"
  },
  {
   "cell_type": "markdown",
   "source": [
    "**Explanation for the values [-5, -6.0001]:**\n",
    "\n",
    "Took from the [Case Study](https://github.com/jaimeperezsanchez/Collision_Avoidance_Challenge_Deep_Learning/blob/master/Technical_Report.pdf):\n",
    "For the MSE computation, we set all the low-risk prediction as close as possible to the threshold (risk greater or equal to -6). This makes the scores improve a lot as the maximum difference while computing the MSE between two values is now -6 (the high-risk range) instead of -30 (the total risk range)."
   ],
   "metadata": {
    "collapsed": false
   },
   "id": "73957dd01fec3104"
  },
  {
   "cell_type": "code",
   "outputs": [
    {
     "name": "stdout",
     "output_type": "stream",
     "text": [
      "F-beta Score: 0.6967213114754097\n",
      "MSE_HR Score: 0.30245601270948397\n",
      "L-Score: 0.4341133358889065\n"
     ]
    }
   ],
   "source": [
    "from src.utils.calculate_statistics import calculate_statistics_for_evaluation\n",
    "predictions_real = np.where(risk_predictions >= best_threshold, -5, -6.0001)\n",
    "\n",
    "# Calculate F-beta and MSE_HR scores\n",
    "f_beta, mse_hr, L_score = calculate_statistics_for_evaluation(y_pred=predictions_real, y_true=y_test)\n",
    "\n",
    "# Print the calculated scores\n",
    "print(f\"F-beta Score: {f_beta}\")\n",
    "print(f\"MSE_HR Score: {mse_hr}\")\n",
    "print(f\"L-Score: {L_score}\")"
   ],
   "metadata": {
    "collapsed": false,
    "ExecuteTime": {
     "end_time": "2024-02-01T16:23:15.270712429Z",
     "start_time": "2024-02-01T16:23:15.205421996Z"
    }
   },
   "id": "c9fb7c5ed2eeed62",
   "execution_count": 48
  },
  {
   "cell_type": "markdown",
   "source": [
    "sss## END"
   ],
   "metadata": {
    "collapsed": false
   },
   "id": "42a425d1e0585002"
  },
  {
   "cell_type": "code",
   "outputs": [],
   "source": [],
   "metadata": {
    "collapsed": false,
    "ExecuteTime": {
     "end_time": "2024-02-01T16:19:51.064918963Z",
     "start_time": "2024-02-01T16:19:51.054435908Z"
    }
   },
   "id": "7cc9063504e5bc61",
   "execution_count": 46
  }
 ],
 "metadata": {
  "kernelspec": {
   "display_name": "Python 3",
   "language": "python",
   "name": "python3"
  },
  "language_info": {
   "codemirror_mode": {
    "name": "ipython",
    "version": 2
   },
   "file_extension": ".py",
   "mimetype": "text/x-python",
   "name": "python",
   "nbconvert_exporter": "python",
   "pygments_lexer": "ipython2",
   "version": "2.7.6"
  }
 },
 "nbformat": 4,
 "nbformat_minor": 5
}
