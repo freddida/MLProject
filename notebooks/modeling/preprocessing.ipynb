{
 "cells": [
  {
   "cell_type": "markdown",
   "source": [
    "# Data Preprocessing"
   ],
   "metadata": {
    "collapsed": false
   },
   "id": "b61773d0f514bee1"
  },
  {
   "cell_type": "code",
   "outputs": [],
   "source": [
    "from src.utils.check_mps_device import check_mps_device\n",
    "import pandas as pd\n",
    "\n",
    "import seaborn as sns\n",
    "import matplotlib.pyplot as plt\n",
    "\n",
    "from src.utils.data_loading import load_data\n",
    "from src.utils.filtering import filter_data\n",
    "from src.utils.label_encoding import label_encode_column\n",
    "\n",
    "# Check if PyTorch Multi-Process Service (MPS) is available (GPU)\n",
    "check_mps_device()"
   ],
   "metadata": {
    "collapsed": false
   },
   "id": "d834ac15d9c4d3ee",
   "execution_count": null
  },
  {
   "cell_type": "code",
   "outputs": [],
   "source": [
    "selected_features = [\n",
    "    \"geocentric_latitude\",  # Latitude of conjunction point [deg]\n",
    "    \"c_sigma_rdot\",  # covariance; radial velocity standard deviation (sigma) of chaser [m/s]\n",
    "    \"c_obs_used\",  # number of observations used for orbit determination (per CDM) of chaser\n",
    "    \"c_time_lastob_start\",\n",
    "    # start of the time in days of the last accepted observation used in the orbit determination of chaser\n",
    "    \"c_time_lastob_end\",\n",
    "    # end of the time interval in days of the last accepted observation used in the orbit determination of chaser\n",
    "    \"mahalanobis_distance\",  # The distance between the chaser and target\n",
    "    \"miss_distance\",  # relative position between chaser & target at tca [m\n",
    "    \"time_to_tca\",  # Time interval between CDM creation and time-of-closest approach [days]\n",
    "    \"t_cndot_r\",\n",
    "    # covariance; correlation of normal (cross-track) velocity vs radial position of chaser\n",
    "    \"c_cr_area_over_mass\",\n",
    "    # solar radiation coefficient . A/m (ballistic coefficient equivalent) of chaser\n",
    "    \"max_risk_estimate\",  # maximum collision probability obtained by scaling combined covariance\n",
    "    \"c_span\",  # size used by the collision risk computation algorithm of chaser [m]\n",
    "    \"max_risk_scaling\",  # scaling factor used to compute maximum collision probability\n",
    "    \"t_rcs_estimate\",  # radar cross-sectional area [m2m2] of target\n",
    "    \"c_sigma_t\",\n",
    "    # covariance; transverse (along-track) position standard deviation (sigma) of chaser [m]\n",
    "    \"c_obs_available\",  # number of observations available for orbit determination (per CDM),\n",
    "    \"risk\",\n",
    "]"
   ],
   "metadata": {
    "collapsed": false
   },
   "id": "9963e8a01f5ea97b",
   "execution_count": null
  },
  {
   "cell_type": "markdown",
   "source": [],
   "metadata": {
    "collapsed": false
   },
   "id": "b1d90c55e9a68bc"
  },
  {
   "cell_type": "markdown",
   "source": [
    "### a. Data Exploration:"
   ],
   "metadata": {
    "collapsed": false
   },
   "id": "84c6a2069eb3aa80"
  },
  {
   "cell_type": "code",
   "outputs": [],
   "source": [
    "# Load and data and filter it\n",
    "df = load_data()\n",
    "df_filtered = filter_data(df)\n",
    "\n",
    "# Label encode the categorical column \"c_object_type\"\n",
    "label_encode_column(df_filtered, \"c_object_type\")"
   ],
   "metadata": {
    "collapsed": false
   },
   "id": "8243e9b56b1ed7",
   "execution_count": null
  },
  {
   "cell_type": "code",
   "outputs": [],
   "source": [
    "# Explore the target variable distribution\n",
    "df_filtered[\"risk\"].hist(bins=30)\n",
    "plt.title(\"Distribution of Risk\")\n",
    "plt.xlabel(\"Risk\")\n",
    "plt.ylabel(\"Frequency\")\n",
    "plt.show()"
   ],
   "metadata": {
    "collapsed": false
   },
   "id": "783dfb37b8eb6ca9",
   "execution_count": null
  },
  {
   "cell_type": "code",
   "outputs": [],
   "source": [
    "# Explore the distribution of selected features\n",
    "df_filtered[selected_features].hist(bins=20, figsize=(15, 12))\n",
    "plt.suptitle(\"Distribution of Selected Features\")\n",
    "plt.show()"
   ],
   "metadata": {
    "collapsed": false
   },
   "id": "868d355e34b29c2b",
   "execution_count": null
  },
  {
   "cell_type": "markdown",
   "source": [
    "### b. Handling Missing Values (NaN)"
   ],
   "metadata": {
    "collapsed": false
   },
   "id": "c2c94d8e9c52e081"
  },
  {
   "cell_type": "code",
   "outputs": [],
   "source": [
    "df_filtered_selected = df_filtered[selected_features]\n",
    "\n",
    "missing_before_imputation = df_filtered_selected.isnull().sum()\n",
    "print(\"Missing values before imputation:\")\n",
    "print(missing_before_imputation[missing_before_imputation > 0])"
   ],
   "metadata": {
    "collapsed": false
   },
   "id": "49800de4c4b9d20f",
   "execution_count": null
  },
  {
   "cell_type": "code",
   "outputs": [],
   "source": [
    "# Create a heatmap to visualize missing values\n",
    "plt.figure(figsize=(8, 8))\n",
    "sns.heatmap(df_filtered_selected.isnull(), cbar=False, cmap=\"inferno\")\n",
    "plt.title(\"Missing Values Heatmap\")\n",
    "plt.show()"
   ],
   "metadata": {
    "collapsed": false
   },
   "id": "e8c44378d0a79640",
   "execution_count": null
  },
  {
   "cell_type": "markdown",
   "source": [
    "## Imputing with RandomForestRegressor"
   ],
   "metadata": {
    "collapsed": false
   },
   "id": "1ed05767c84250c6"
  },
  {
   "cell_type": "code",
   "outputs": [],
   "source": [
    "from sklearn.experimental import enable_iterative_imputer  # noqa\n",
    "from sklearn.impute import IterativeImputer\n",
    "from sklearn.ensemble import RandomForestRegressor\n",
    "\n",
    "# Assuming df_filtered_selected contains your DataFrame and selected_features contains the columns with missing values\n",
    "features_with_nan = [\"c_sigma_rdot\", \"t_cndot_r\", \"t_rcs_estimate\"]\n",
    "\n",
    "# Create an instance of IterativeImputer with RandomForestRegressor\n",
    "imputer = IterativeImputer(\n",
    "    estimator=RandomForestRegressor(), max_iter=10, random_state=42\n",
    ")\n",
    "\n",
    "# Use the copy method to create a copy of the DataFrame\n",
    "df_filtered_selected_copy = df_filtered_selected.copy()\n",
    "\n",
    "# Fit and transform the imputer on the original dataset\n",
    "df_filtered_imputed = pd.DataFrame(\n",
    "    imputer.fit_transform(df_filtered_selected_copy[features_with_nan]),\n",
    "    columns=features_with_nan,\n",
    ")\n",
    "\n",
    "# Update the original DataFrame with the imputed values\n",
    "df_filtered_selected_copy[features_with_nan] = df_filtered_imputed"
   ],
   "metadata": {
    "collapsed": false
   },
   "id": "ca7408ddbef1f99d",
   "execution_count": null
  },
  {
   "cell_type": "code",
   "outputs": [],
   "source": [
    "df_new = df_filtered_selected_copy.copy()\n",
    "\n",
    "# Check missing values after imputation on the imputed DataFrame\n",
    "missing_after_imputation = df_new.isnull().sum()\n",
    "print(\"Missing values after imputation:\")\n",
    "print(missing_after_imputation[missing_after_imputation > 0])"
   ],
   "metadata": {
    "collapsed": false
   },
   "id": "9f5a62dbab9f60d9",
   "execution_count": null
  },
  {
   "cell_type": "code",
   "outputs": [],
   "source": [
    "# Descriptive statistics before imputation\n",
    "# Load and filter original data for comparison\n",
    "df = load_data()\n",
    "df_filtered_comp = filter_data(df)\n",
    "df_filtered_selected_comp = df_filtered_comp[selected_features]\n",
    "\n",
    "stats_before_imputation = df_filtered_selected_comp[features_with_nan].describe()\n",
    "\n",
    "# Descriptive statistics after imputation\n",
    "stats_after_imputation = df_new[features_with_nan].describe()\n",
    "\n",
    "# Calculate percentage change for each statistic\n",
    "percentage_change = (\n",
    "                            (stats_after_imputation - stats_before_imputation) / stats_before_imputation\n",
    "                    ) * 100\n",
    "\n",
    "# Display the results\n",
    "print(\"\\nPercentage Change After Imputation:\")\n",
    "print(percentage_change)"
   ],
   "metadata": {
    "collapsed": false
   },
   "id": "eacace1445b6f52f",
   "execution_count": null
  },
  {
   "cell_type": "code",
   "outputs": [],
   "source": [],
   "metadata": {
    "collapsed": false
   },
   "id": "b57fea8645a1931"
  }
 ],
 "metadata": {
  "kernelspec": {
   "display_name": "Python 3",
   "language": "python",
   "name": "python3"
  },
  "language_info": {
   "codemirror_mode": {
    "name": "ipython",
    "version": 2
   },
   "file_extension": ".py",
   "mimetype": "text/x-python",
   "name": "python",
   "nbconvert_exporter": "python",
   "pygments_lexer": "ipython2",
   "version": "2.7.6"
  }
 },
 "nbformat": 4,
 "nbformat_minor": 5
}
