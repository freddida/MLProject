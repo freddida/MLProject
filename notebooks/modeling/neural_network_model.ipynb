{
 "cells": [
  {
   "cell_type": "markdown",
   "source": [
    "# Notebook for a Neural Network Model"
   ],
   "metadata": {
    "collapsed": false
   },
   "id": "b0df0795dd2cde5b"
  },
  {
   "cell_type": "code",
   "execution_count": 1,
   "id": "initial_id",
   "metadata": {
    "collapsed": true,
    "ExecuteTime": {
     "end_time": "2024-01-31T14:57:09.094117518Z",
     "start_time": "2024-01-31T14:56:56.545852991Z"
    }
   },
   "outputs": [
    {
     "name": "stdout",
     "output_type": "stream",
     "text": [
      "MPS device not found.\n"
     ]
    }
   ],
   "source": [
    "from matplotlib import pyplot as plt\n",
    "\n",
    "# Import necessary functions and modules\n",
    "from src.utils.check_mps_device import check_mps_device\n",
    "from src.utils.data_loading import load_data\n",
    "from src.utils.filtering import filter_data\n",
    "from src.utils.label_encoding import label_encode_column\n",
    "import numpy as np\n",
    "\n",
    "# Check if PyTorch Multi-Process Service (MPS) is available (GPU)\n",
    "check_mps_device()"
   ]
  },
  {
   "cell_type": "markdown",
   "source": [
    "# 1) Preprocessing"
   ],
   "metadata": {
    "collapsed": false
   },
   "id": "d02b4b2bfed554f4"
  },
  {
   "cell_type": "markdown",
   "source": [
    "## a) Selected Features"
   ],
   "metadata": {
    "collapsed": false
   },
   "id": "cc2be1747f70623f"
  },
  {
   "cell_type": "code",
   "outputs": [],
   "source": [
    "# Define a list of selected features for analysis from the feature_selection notebook\n",
    "selected_features = [\n",
    "    \"geocentric_latitude\",  # Latitude of conjunction point [deg]\n",
    "    \"c_sigma_rdot\",  # Covariance: radial velocity standard deviation (sigma) of chaser [m/s]\n",
    "    \"c_obs_used\",  # Number of observations used for orbit determination (per CDM) of chaser\n",
    "    \"c_time_lastob_start\",\n",
    "    # Start of the time in days of the last accepted observation used in the orbit determination of chaser\n",
    "    \"c_time_lastob_end\",\n",
    "    # End of the time interval in days of the last accepted observation used in the orbit determination of chaser\n",
    "    \"mahalanobis_distance\",  # The distance between the chaser and target\n",
    "    \"miss_distance\",  # Relative position between chaser & target at TCA [m]\n",
    "    \"time_to_tca\",  # Time interval between CDM creation and time-of-closest approach [days]\n",
    "    \"t_cndot_r\",  # Covariance: correlation of normal (cross-track) velocity vs radial position of chaser\n",
    "    \"c_cr_area_over_mass\",  # Solar radiation coefficient . A/m (ballistic coefficient equivalent) of chaser\n",
    "    \"max_risk_estimate\",  # Maximum collision probability obtained by scaling combined covariance\n",
    "    \"c_span\",  # Size used by the collision risk computation algorithm of chaser [m]\n",
    "    \"max_risk_scaling\",  # Scaling factor used to compute maximum collision probability\n",
    "    \"t_rcs_estimate\",  # Radar cross-sectional area [m^2] of target\n",
    "    \"c_sigma_t\",  # Covariance: transverse (along-track) position standard deviation (sigma) of chaser [m]\n",
    "    \"c_obs_available\",  # Number of observations available for orbit determination (per CDM)\n",
    "    \"risk\",  # Risk value\n",
    "]\n"
   ],
   "metadata": {
    "collapsed": false,
    "ExecuteTime": {
     "end_time": "2024-01-31T15:00:31.816341409Z",
     "start_time": "2024-01-31T15:00:31.771668884Z"
    }
   },
   "id": "efaacfa08cb5d5f1",
   "execution_count": 2
  },
  {
   "cell_type": "markdown",
   "source": [
    "## b) Data Loading"
   ],
   "metadata": {
    "collapsed": false
   },
   "id": "47418c5418c1d6f0"
  },
  {
   "cell_type": "code",
   "outputs": [
    {
     "name": "stdout",
     "output_type": "stream",
     "text": [
      "Raw data\n",
      "<class 'pandas.core.frame.DataFrame'>\n",
      "RangeIndex: 162634 entries, 0 to 162633\n",
      "Columns: 103 entries, event_id to AP\n",
      "dtypes: float64(98), int64(4), object(1)\n",
      "memory usage: 127.8+ MB\n",
      "Filtered data\n",
      "<class 'pandas.core.frame.DataFrame'>\n",
      "RangeIndex: 3032 entries, 0 to 3031\n",
      "Columns: 103 entries, event_id to AP\n",
      "dtypes: float64(98), int64(4), object(1)\n",
      "memory usage: 2.4+ MB\n"
     ]
    }
   ],
   "source": [
    "# Load the data and filter it\n",
    "df = load_data()  # Load the raw data into a DataFrame\n",
    "df_filtered = filter_data(df)  # Filter the data according to criteria stated in the challenge\n",
    "\n",
    "# Remove rows with missing values\n",
    "df_filtered.dropna(axis=0, how=\"any\", inplace=True)\n",
    "\n",
    "# Label encode the categorical column \"c_object_type\"\n",
    "label_encode_column(df_filtered, \"c_object_type\")  # Convert categorical column to numerical values\n",
    "\n",
    "# Extract the selected features and target variable\n",
    "df_processed = df_filtered[selected_features]  # Select only the specified features for analysis\n",
    "\n",
    "# Separate features (X) and target variable (y)\n",
    "X = df_processed.drop('risk', axis=1)  # Features (17 columns)\n",
    "y = df_processed['risk']  # Target variable (risk)\n"
   ],
   "metadata": {
    "collapsed": false,
    "ExecuteTime": {
     "end_time": "2024-01-31T15:01:04.424788767Z",
     "start_time": "2024-01-31T15:00:58.212447198Z"
    }
   },
   "id": "fd101080fa6f3345",
   "execution_count": 4
  },
  {
   "cell_type": "markdown",
   "source": [
    "### High/low risk distribution of original and preprocessed data"
   ],
   "metadata": {
    "collapsed": false
   },
   "id": "9bc4642d9e1f46c9"
  },
  {
   "cell_type": "code",
   "outputs": [
    {
     "name": "stdout",
     "output_type": "stream",
     "text": [
      "Risk Distribution Statistics:\n",
      "High Risk: 96\n",
      "Low Risk: 1227\n",
      "Percent High Risk: 7.2562358276643995\n"
     ]
    },
    {
     "data": {
      "text/plain": "{'High Risk': 96, 'Low Risk': 1227, 'Percent High Risk': 7.2562358276643995}"
     },
     "execution_count": 5,
     "metadata": {},
     "output_type": "execute_result"
    },
    {
     "data": {
      "text/plain": "<Figure size 640x480 with 1 Axes>",
      "image/png": "[encoded data removed]"
     },
     "metadata": {},
     "output_type": "display_data"
    }
   ],
   "source": [
    "from src.utils.plot_distrubution import plot_distribution\n",
    "\n",
    "plot_distribution(y, threshold=-6)"
   ],
   "metadata": {
    "collapsed": false,
    "ExecuteTime": {
     "end_time": "2024-01-31T15:01:09.431005313Z",
     "start_time": "2024-01-31T15:01:08.330124239Z"
    }
   },
   "id": "51b459f47195e41a",
   "execution_count": 5
  },
  {
   "cell_type": "markdown",
   "source": [
    "## c) Data Splitting into Training, Evaluation and Testing"
   ],
   "metadata": {
    "collapsed": false
   },
   "id": "b5b68c4f46055cdb"
  },
  {
   "cell_type": "code",
   "outputs": [
    {
     "name": "stdout",
     "output_type": "stream",
     "text": [
      "Training and Evaluation Set Shapes:\n",
      "(1058, 16)\n",
      "(1058,)\n",
      "\n",
      "Testing Set Shapes:\n",
      "(265, 16)\n",
      "(265,)\n"
     ]
    }
   ],
   "source": [
    "from sklearn.model_selection import train_test_split\n",
    "\n",
    "# Convert risk values into binary classes based on the threshold specified in the challenge\n",
    "y_class = np.where(y >= -6, 1, 0)\n",
    "\n",
    "# Split the data into training and testing sets (80% training, 20% testing)\n",
    "# 'stratify' ensures proportional class distribution in train-test split using 'y_class'.\n",
    "X_train_eval, X_test, y_train_eval, y_test = train_test_split(X, y, test_size=0.2, random_state=42, shuffle=True,\n",
    "                                                              stratify=y_class)\n",
    "\n",
    "print(\"Training and Evaluation Set Shapes:\")\n",
    "print(X_train_eval.shape)  # Shape of the features in the training and evaluation set\n",
    "print(y_train_eval.shape)  # Shape of the target variable in the training and evaluation set\n",
    "print(\"\\nTesting Set Shapes:\")\n",
    "print(X_test.shape)  # Shape of the features in the testing set\n",
    "print(y_test.shape)  # Shape of the target variable in the testing set"
   ],
   "metadata": {
    "collapsed": false,
    "ExecuteTime": {
     "end_time": "2024-01-31T15:01:35.188147211Z",
     "start_time": "2024-01-31T15:01:34.572487868Z"
    }
   },
   "id": "5148189349077432",
   "execution_count": 6
  },
  {
   "cell_type": "code",
   "outputs": [
    {
     "name": "stdout",
     "output_type": "stream",
     "text": [
      "Training Set Shapes:\n",
      "(846, 16)\n",
      "(846,)\n",
      "\n",
      "Validation Set Shapes:\n",
      "(212, 16)\n",
      "(212,)\n"
     ]
    }
   ],
   "source": [
    "# Convert risk values into binary classes based on the threshold specified in the challenge\n",
    "y_class_val = np.where(y_train_eval >= -6, 1, 0)\n",
    "\n",
    "# Split the remaining 80% into training and evaluation/validation sets (80/20 split) using stratify again\n",
    "X_train, X_val, y_train, y_val = train_test_split(X_train_eval, y_train_eval,\n",
    "                                                  test_size=0.20,\n",
    "                                                  random_state=21,\n",
    "                                                  shuffle=True,\n",
    "                                                  stratify=y_class_val)\n",
    "\n",
    "print(\"Training Set Shapes:\")\n",
    "print(X_train.shape)  # Shape of the features in the training set\n",
    "print(y_train.shape)  # Shape of the target variable in the training set\n",
    "print(\"\\nValidation Set Shapes:\")\n",
    "print(X_val.shape)  # Shape of the features in the validation set\n",
    "print(y_val.shape)  # Shape of the target variable in the validation set"
   ],
   "metadata": {
    "collapsed": false,
    "ExecuteTime": {
     "end_time": "2024-01-31T15:01:46.713557340Z",
     "start_time": "2024-01-31T15:01:46.682510625Z"
    }
   },
   "id": "3ca23e74ce819dca",
   "execution_count": 7
  },
  {
   "cell_type": "markdown",
   "source": [
    "### High/low risk distribution of training set"
   ],
   "metadata": {
    "collapsed": false
   },
   "id": "20baa9fba383b7bb"
  },
  {
   "cell_type": "code",
   "outputs": [
    {
     "name": "stdout",
     "output_type": "stream",
     "text": [
      "Shape of y_train_class: (846,)\n",
      "Risk Distribution Statistics:\n",
      "High Risk: 62\n",
      "Low Risk: 784\n",
      "Percent High Risk: 7.328605200945627\n"
     ]
    },
    {
     "data": {
      "text/plain": "{'High Risk': 62, 'Low Risk': 784, 'Percent High Risk': 7.328605200945627}"
     },
     "execution_count": 8,
     "metadata": {},
     "output_type": "execute_result"
    },
    {
     "data": {
      "text/plain": "<Figure size 640x480 with 1 Axes>",
      "image/png": "[encoded data removed]"
     },
     "metadata": {},
     "output_type": "display_data"
    }
   ],
   "source": [
    "# Convert risk values into binary classes for the training set\n",
    "y_train_class = np.where(y_train >= -6, 1, 0)\n",
    "\n",
    "# Print the shape of the binary classes array\n",
    "print(\"Shape of y_train_class:\", y_train_class.shape)\n",
    "\n",
    "# Display the distribution of the binary classes\n",
    "plot_distribution(y_train_class, threshold=0.5)"
   ],
   "metadata": {
    "collapsed": false,
    "ExecuteTime": {
     "end_time": "2024-01-31T15:01:55.521805902Z",
     "start_time": "2024-01-31T15:01:55.117329773Z"
    }
   },
   "id": "35a2bb0db61bc48d",
   "execution_count": 8
  },
  {
   "cell_type": "markdown",
   "source": [
    "### High/low risk distribution of validation set"
   ],
   "metadata": {
    "collapsed": false
   },
   "id": "79a3727d34e73f7b"
  },
  {
   "cell_type": "code",
   "outputs": [
    {
     "name": "stdout",
     "output_type": "stream",
     "text": [
      "Shape of y_eval_class: (212,)\n",
      "Risk Distribution Statistics:\n",
      "High Risk: 15\n",
      "Low Risk: 197\n",
      "Percent High Risk: 7.0754716981132075\n"
     ]
    },
    {
     "data": {
      "text/plain": "{'High Risk': 15, 'Low Risk': 197, 'Percent High Risk': 7.0754716981132075}"
     },
     "execution_count": 9,
     "metadata": {},
     "output_type": "execute_result"
    },
    {
     "data": {
      "text/plain": "<Figure size 640x480 with 1 Axes>",
      "image/png": "[encoded data removed]"
     },
     "metadata": {},
     "output_type": "display_data"
    }
   ],
   "source": [
    "# Convert risk values into binary classes for the validation set\n",
    "y_eval_class = np.where(y_val >= -6, 1, 0)\n",
    "\n",
    "# Print the shape of the binary classes array\n",
    "print(\"Shape of y_eval_class:\", y_eval_class.shape)\n",
    "\n",
    "# Display the distribution of the binary classes\n",
    "plot_distribution(y_eval_class, threshold=0.5)\n"
   ],
   "metadata": {
    "collapsed": false,
    "ExecuteTime": {
     "end_time": "2024-01-31T15:02:11.954190792Z",
     "start_time": "2024-01-31T15:02:11.462090369Z"
    }
   },
   "id": "930d1003f35ca620",
   "execution_count": 9
  },
  {
   "cell_type": "markdown",
   "source": [
    "### High/low risk distribution of testing set"
   ],
   "metadata": {
    "collapsed": false
   },
   "id": "f523764f614851bc"
  },
  {
   "cell_type": "code",
   "outputs": [
    {
     "name": "stdout",
     "output_type": "stream",
     "text": [
      "Shape of y_test_class: (265,)\n",
      "Risk Distribution Statistics:\n",
      "High Risk: 19\n",
      "Low Risk: 246\n",
      "Percent High Risk: 7.169811320754717\n"
     ]
    },
    {
     "data": {
      "text/plain": "{'High Risk': 19, 'Low Risk': 246, 'Percent High Risk': 7.169811320754717}"
     },
     "execution_count": 10,
     "metadata": {},
     "output_type": "execute_result"
    },
    {
     "data": {
      "text/plain": "<Figure size 640x480 with 1 Axes>",
      "image/png": "[encoded data removed]"
     },
     "metadata": {},
     "output_type": "display_data"
    }
   ],
   "source": [
    "# Convert risk values into binary classes for the testing set\n",
    "y_test_class = np.where(y_test >= -6, 1, 0)\n",
    "\n",
    "# Print the shape of the binary classes array\n",
    "print(\"Shape of y_test_class:\", y_test_class.shape)\n",
    "\n",
    "# Display the distribution of the binary classes\n",
    "plot_distribution(y_test_class, threshold=0.5)"
   ],
   "metadata": {
    "collapsed": false,
    "ExecuteTime": {
     "end_time": "2024-01-31T15:02:21.335706499Z",
     "start_time": "2024-01-31T15:02:20.935064544Z"
    }
   },
   "id": "1a31895cbc1aa5ae",
   "execution_count": 10
  },
  {
   "cell_type": "markdown",
   "source": [
    "## d) Over Sampling with SMOTE (Synthetic Minority Over-sampling Technique)"
   ],
   "metadata": {
    "collapsed": false
   },
   "id": "1187a18766ac3523"
  },
  {
   "cell_type": "markdown",
   "source": [
    "[SMOTE](https://www.jair.org/index.php/jair/article/view/11192) is a technique used to address class imbalance in machine learning datasets, particularly in classification tasks. It works by generating synthetic samples for the minority class, thereby balancing the class distribution. SMOTE selects minority class instances and generates synthetic samples by interpolating between these instances and their nearest neighbors. This helps in mitigating the problem of class imbalance and improving the performance of machine learning models, especially those sensitive to class distribution."
   ],
   "metadata": {
    "collapsed": false
   },
   "id": "b35e06f61c43b550"
  },
  {
   "cell_type": "code",
   "outputs": [
    {
     "name": "stdout",
     "output_type": "stream",
     "text": [
      "Resampled Training Set Shapes:\n",
      "(1568, 16)\n",
      "(1568,)\n"
     ]
    }
   ],
   "source": [
    "from imblearn.over_sampling import SMOTE\n",
    "\n",
    "# Initialize the SMOTE object with specified parameters\n",
    "smote = SMOTE(random_state=42, k_neighbors=20)  # Number of nearest neighbors to use for generating synthetic samples\n",
    "\n",
    "# Resample the training data using SMOTE using unscaled training features and binary representation of trained targets\n",
    "X_train_resampled, y_train_resampled = smote.fit_resample(X_train, y_train_class)\n",
    "\n",
    "# Print the shapes of the resampled training data\n",
    "print(\"Resampled Training Set Shapes:\")\n",
    "print(X_train_resampled.shape)  # Shape of the resampled features in the training set\n",
    "print(y_train_resampled.shape)  # Shape of the resampled target variable in the training set"
   ],
   "metadata": {
    "collapsed": false,
    "ExecuteTime": {
     "end_time": "2024-01-31T15:03:04.380026480Z",
     "start_time": "2024-01-31T15:03:02.685978387Z"
    }
   },
   "id": "af3e8e5105f8a454",
   "execution_count": 11
  },
  {
   "cell_type": "markdown",
   "source": [
    "### High/low risk distribution of resampled training set"
   ],
   "metadata": {
    "collapsed": false
   },
   "id": "34a9a97b8b148cdd"
  },
  {
   "cell_type": "code",
   "outputs": [
    {
     "name": "stdout",
     "output_type": "stream",
     "text": [
      "Risk Distribution Statistics:\n",
      "High Risk: 784\n",
      "Low Risk: 784\n",
      "Percent High Risk: 50.0\n"
     ]
    },
    {
     "data": {
      "text/plain": "{'High Risk': 784, 'Low Risk': 784, 'Percent High Risk': 50.0}"
     },
     "execution_count": 12,
     "metadata": {},
     "output_type": "execute_result"
    },
    {
     "data": {
      "text/plain": "<Figure size 640x480 with 1 Axes>",
      "image/png": "[encoded data removed]"
     },
     "metadata": {},
     "output_type": "display_data"
    }
   ],
   "source": [
    "# Display the distribution of the resampled binary classes\n",
    "plot_distribution(y_train_resampled, threshold=0.5)"
   ],
   "metadata": {
    "collapsed": false,
    "ExecuteTime": {
     "end_time": "2024-01-31T15:03:12.699501035Z",
     "start_time": "2024-01-31T15:03:12.267066170Z"
    }
   },
   "id": "ee6868cd92d80a1",
   "execution_count": 12
  },
  {
   "cell_type": "markdown",
   "source": [
    "## e) Scaling"
   ],
   "metadata": {
    "collapsed": false
   },
   "id": "5c330ed38fb2e4b0"
  },
  {
   "cell_type": "code",
   "outputs": [
    {
     "name": "stdout",
     "output_type": "stream",
     "text": [
      "Resampled Training Set Shape: (1568,)\n",
      "Evaluation Set Shape: (1058,)\n",
      "Validation Set Shape: (212,)\n",
      "Testing Set Shape: (265,)\n"
     ]
    }
   ],
   "source": [
    "print(\"Resampled Training Set Shape:\", y_train_resampled.shape)\n",
    "print(\"Evaluation Set Shape:\", y_train_eval.shape)\n",
    "print(\"Validation Set Shape:\", y_val.shape)\n",
    "print(\"Testing Set Shape:\", y_test.shape)"
   ],
   "metadata": {
    "collapsed": false,
    "ExecuteTime": {
     "end_time": "2024-01-31T15:03:20.697348717Z",
     "start_time": "2024-01-31T15:03:20.651609401Z"
    }
   },
   "id": "75cb0220c39a909",
   "execution_count": 13
  },
  {
   "cell_type": "code",
   "outputs": [
    {
     "name": "stdout",
     "output_type": "stream",
     "text": [
      "Shape of X_train_rescaled: (1568, 16)\n",
      "Shape of X_train_eval_rescaled: (1058, 16)\n",
      "Shape of X_eval_rescaled: (212, 16)\n",
      "Shape of X_test_rescaled: (265, 16)\n"
     ]
    }
   ],
   "source": [
    "from sklearn.preprocessing import MinMaxScaler\n",
    "\n",
    "# Initialize the MinMaxScaler\n",
    "# MinMaxScaler is used to scale the features to a range between 0 and 1 (uniformity across features)\n",
    "feature_scaler = MinMaxScaler()\n",
    "\n",
    "# Reshape X to ensure it's a 2D array for the scaler's fit_transform method\n",
    "X_train_rescaled = feature_scaler.fit_transform(X_train_resampled)\n",
    "X_train_eval_rescaled = feature_scaler.transform(X_train_eval)\n",
    "X_eval_rescaled = feature_scaler.transform(X_val)\n",
    "X_test_rescaled = feature_scaler.transform(X_test)\n",
    "\n",
    "print(\"Shape of X_train_rescaled:\", X_train_rescaled.shape)\n",
    "print(\"Shape of X_train_eval_rescaled:\", X_train_eval_rescaled.shape)\n",
    "print(\"Shape of X_eval_rescaled:\", X_eval_rescaled.shape)\n",
    "print(\"Shape of X_test_rescaled:\", X_test_rescaled.shape)"
   ],
   "metadata": {
    "collapsed": false,
    "ExecuteTime": {
     "end_time": "2024-01-31T15:03:28.602632841Z",
     "start_time": "2024-01-31T15:03:28.571224409Z"
    }
   },
   "id": "e0aef9202a035b94",
   "execution_count": 14
  },
  {
   "cell_type": "markdown",
   "source": [
    "# 2) Modeling"
   ],
   "metadata": {
    "collapsed": false
   },
   "id": "9cc6da3b1416d044"
  },
  {
   "cell_type": "markdown",
   "source": [
    "This model is a feedforward neural network with an input layer, one hidden layer, and an output layer. The architecture includes:\n",
    "\n",
    "- **Input Layer**: 64 neurons with ReLU activation.\n",
    "- **Hidden Layer**: 32 neurons with ReLU activation.\n",
    "- **Output Layer**: 1 neuron with linear activation for regression.\n",
    "\n",
    "The model is compiled using the Adam optimizer (learning rate = 0.001) and mean squared error loss."
   ],
   "metadata": {
    "collapsed": false
   },
   "id": "13ecf5f6d1390839"
  },
  {
   "cell_type": "markdown",
   "source": [
    "## a) Build Neural Network Model"
   ],
   "metadata": {
    "collapsed": false
   },
   "id": "d578cc0825e42ccf"
  },
  {
   "cell_type": "markdown",
   "source": [
    "Here you can input your models and comment out the others"
   ],
   "metadata": {
    "collapsed": false
   },
   "id": "ff4a2ded6fc3da7d"
  },
  {
   "cell_type": "markdown",
   "source": [
    "### v1.0.0"
   ],
   "metadata": {
    "collapsed": false
   },
   "id": "32448f7ca7c2e0b5"
  },
  {
   "cell_type": "code",
   "outputs": [],
   "source": [
    "# from tensorflow.keras import Sequential\n",
    "# from tensorflow.keras.layers import Dense\n",
    "# from tensorflow.keras.optimizers.legacy import Adam\n",
    "# \n",
    "# # Define the neural network model: linear stack of layers\n",
    "# model = Sequential()\n",
    "# \n",
    "# # Add input layer and hidden layers\n",
    "# model.add(Dense(64, input_dim=X_train_rescaled.shape[1],\n",
    "#                 activation='relu'))  # Input layer with 64 neurons and ReLU activation\n",
    "# model.add(Dense(32, activation='relu'))  # Hidden layer with 32 neurons and ReLU activation\n",
    "# \n",
    "# # Add output layer\n",
    "# # sigmoid for binary classification\n",
    "# model.add(Dense(1, activation='sigmoid'))  # Output layer with linear activation for regression task\n",
    "# \n",
    "# # Compile the model\n",
    "# # binary_crossentropy: Used for binary classification problems, computes loss based on probability distributions of binary classes.\n",
    "# model.compile(optimizer=Adam(learning_rate=0.001),  # Adam optimizer with learning rate of 0.001\n",
    "#               loss='binary_crossentropy', metrics=['accuracy'])  # Mean squared error loss for regression\n",
    "# \n",
    "# # Print model summary\n",
    "# model.summary()  # Display the architecture and parameters of the neural network model"
   ],
   "metadata": {
    "collapsed": false,
    "ExecuteTime": {
     "end_time": "2024-01-30T16:55:25.369342Z",
     "start_time": "2024-01-30T16:55:25.245703Z"
    }
   },
   "id": "5cb4c226d9ea9097",
   "execution_count": 14
  },
  {
   "cell_type": "markdown",
   "source": [
    "### v2.0.0"
   ],
   "metadata": {
    "collapsed": false
   },
   "id": "9d6873ce9ed41654"
  },
  {
   "cell_type": "code",
   "outputs": [
    {
     "name": "stderr",
     "output_type": "stream",
     "text": [
      "2024-01-31 16:12:52.660116: I tensorflow/tsl/cuda/cudart_stub.cc:28] Could not find cuda drivers on your machine, GPU will not be used.\n",
      "2024-01-31 16:12:52.761479: I tensorflow/core/platform/cpu_feature_guard.cc:182] This TensorFlow binary is optimized to use available CPU instructions in performance-critical operations.\n",
      "To enable the following instructions: AVX2 FMA, in other operations, rebuild TensorFlow with the appropriate compiler flags.\n",
      "2024-01-31 16:12:56.059123: W tensorflow/compiler/tf2tensorrt/utils/py_utils.cc:38] TF-TRT Warning: Could not find TensorRT\n"
     ]
    },
    {
     "name": "stdout",
     "output_type": "stream",
     "text": [
      "Model: \"sequential\"\n",
      "_________________________________________________________________\n",
      " Layer (type)                Output Shape              Param #   \n",
      "=================================================================\n",
      " dense (Dense)               (None, 128)               2176      \n",
      "                                                                 \n",
      " batch_normalization (Batch  (None, 128)               512       \n",
      " Normalization)                                                  \n",
      "                                                                 \n",
      " dropout (Dropout)           (None, 128)               0         \n",
      "                                                                 \n",
      " dense_1 (Dense)             (None, 64)                8256      \n",
      "                                                                 \n",
      " batch_normalization_1 (Bat  (None, 64)                256       \n",
      " chNormalization)                                                \n",
      "                                                                 \n",
      " dropout_1 (Dropout)         (None, 64)                0         \n",
      "                                                                 \n",
      " dense_2 (Dense)             (None, 1)                 65        \n",
      "                                                                 \n",
      "=================================================================\n",
      "Total params: 11265 (44.00 KB)\n",
      "Trainable params: 10881 (42.50 KB)\n",
      "Non-trainable params: 384 (1.50 KB)\n",
      "_________________________________________________________________\n"
     ]
    }
   ],
   "source": [
    "from tensorflow.keras import Sequential\n",
    "from tensorflow.keras.layers import Dense, Dropout, BatchNormalization\n",
    "from tensorflow.keras.optimizers.legacy import Adam\n",
    "from tensorflow.keras.callbacks import EarlyStopping, ReduceLROnPlateau\n",
    "\n",
    "# Define the neural network model\n",
    "model = Sequential()\n",
    "\n",
    "# Add input layer and hidden layers\n",
    "model.add(Dense(128, input_dim=X_train_rescaled.shape[1], activation='relu'))\n",
    "model.add(BatchNormalization())  # Batch normalization layer\n",
    "model.add(Dropout(0.5))  # Dropout layer to prevent overfitting\n",
    "model.add(Dense(64, activation='relu'))\n",
    "model.add(BatchNormalization())\n",
    "model.add(Dropout(0.5))\n",
    "\n",
    "# Add output layer\n",
    "# sigmoid for binary classification\n",
    "model.add(Dense(1, activation='sigmoid'))  # Linear activation for regression task\n",
    "\n",
    "# Compile the model\n",
    "# binary_crossentropy: Used for binary classification problems, computes loss based on probability distributions of binary classes.\n",
    "model.compile(optimizer=Adam(learning_rate=0.001),  # Adam optimizer with learning rate of 0.001\n",
    "              loss='binary_crossentropy', metrics=['accuracy'])  # Mean squared error loss for regression\n",
    "\n",
    "# Print model summary\n",
    "model.summary()"
   ],
   "metadata": {
    "collapsed": false,
    "ExecuteTime": {
     "end_time": "2024-01-31T15:13:00.332152267Z",
     "start_time": "2024-01-31T15:12:51.459292932Z"
    }
   },
   "id": "3719779c376e0d8a",
   "execution_count": 16
  },
  {
   "cell_type": "markdown",
   "source": [
    "### v3.0.0"
   ],
   "metadata": {
    "collapsed": false
   },
   "id": "45da1a0f2316f211"
  },
  {
   "cell_type": "markdown",
   "source": [
    "## b) Train the model"
   ],
   "metadata": {
    "collapsed": false
   },
   "id": "4d03641093328002"
  },
  {
   "cell_type": "markdown",
   "source": [
    "**fit():**\n",
    "- During training, the model is repeatedly exposed to batches of training data (X_train_rescaled and y_train_resampled). For each batch, the model computes predictions, calculates the loss (difference between predicted and actual values), and updates the model's parameters (weights and biases) using an optimization algorithm (e.g., Adam optimizer) to minimize the loss.\n",
    "\n",
    "- The validation data (X_eval_rescaled and y_eval_class) are used periodically (after each epoch) to evaluate the model's performance on unseen data. This helps monitor the model's generalization ability and detect overfitting."
   ],
   "metadata": {
    "collapsed": false
   },
   "id": "fe5165e986dc8263"
  },
  {
   "cell_type": "code",
   "outputs": [
    {
     "name": "stdout",
     "output_type": "stream",
     "text": [
      "Epoch 1/50\n",
      "25/25 [==============================] - 4s 28ms/step - loss: 0.8272 - accuracy: 0.5944 - val_loss: 0.6986 - val_accuracy: 0.4623\n",
      "Epoch 2/50\n",
      "25/25 [==============================] - 0s 7ms/step - loss: 0.5287 - accuracy: 0.7500 - val_loss: 0.7497 - val_accuracy: 0.2123\n",
      "Epoch 3/50\n",
      "25/25 [==============================] - 0s 7ms/step - loss: 0.4134 - accuracy: 0.8055 - val_loss: 0.7861 - val_accuracy: 0.1698\n",
      "Epoch 4/50\n",
      "25/25 [==============================] - 0s 7ms/step - loss: 0.3565 - accuracy: 0.8489 - val_loss: 0.7935 - val_accuracy: 0.2311\n",
      "Epoch 5/50\n",
      "25/25 [==============================] - 0s 10ms/step - loss: 0.3326 - accuracy: 0.8648 - val_loss: 0.7471 - val_accuracy: 0.3726\n",
      "Epoch 6/50\n",
      "25/25 [==============================] - 0s 7ms/step - loss: 0.2955 - accuracy: 0.8731 - val_loss: 0.6982 - val_accuracy: 0.5566\n",
      "Epoch 7/50\n",
      "25/25 [==============================] - 0s 8ms/step - loss: 0.2725 - accuracy: 0.8871 - val_loss: 0.6729 - val_accuracy: 0.6179\n",
      "Epoch 8/50\n",
      "25/25 [==============================] - 0s 6ms/step - loss: 0.2621 - accuracy: 0.8980 - val_loss: 0.6083 - val_accuracy: 0.6887\n",
      "Epoch 9/50\n",
      "25/25 [==============================] - 0s 7ms/step - loss: 0.2739 - accuracy: 0.8929 - val_loss: 0.5334 - val_accuracy: 0.7830\n",
      "Epoch 10/50\n",
      "25/25 [==============================] - 0s 8ms/step - loss: 0.2541 - accuracy: 0.9005 - val_loss: 0.4668 - val_accuracy: 0.8491\n",
      "Epoch 11/50\n",
      "25/25 [==============================] - 0s 6ms/step - loss: 0.2417 - accuracy: 0.9062 - val_loss: 0.4175 - val_accuracy: 0.8491\n",
      "Epoch 12/50\n",
      "25/25 [==============================] - 0s 7ms/step - loss: 0.2290 - accuracy: 0.9024 - val_loss: 0.3966 - val_accuracy: 0.8585\n",
      "Epoch 13/50\n",
      "25/25 [==============================] - 0s 8ms/step - loss: 0.2160 - accuracy: 0.9196 - val_loss: 0.3543 - val_accuracy: 0.8632\n",
      "Epoch 14/50\n",
      "25/25 [==============================] - 0s 8ms/step - loss: 0.2008 - accuracy: 0.9209 - val_loss: 0.3123 - val_accuracy: 0.8774\n",
      "Epoch 15/50\n",
      "25/25 [==============================] - 0s 8ms/step - loss: 0.2130 - accuracy: 0.9139 - val_loss: 0.2687 - val_accuracy: 0.8915\n",
      "Epoch 16/50\n",
      "25/25 [==============================] - 0s 6ms/step - loss: 0.2234 - accuracy: 0.9184 - val_loss: 0.2568 - val_accuracy: 0.9009\n",
      "Epoch 17/50\n",
      "25/25 [==============================] - 0s 6ms/step - loss: 0.1828 - accuracy: 0.9381 - val_loss: 0.2460 - val_accuracy: 0.8915\n",
      "Epoch 18/50\n",
      "25/25 [==============================] - 0s 8ms/step - loss: 0.1703 - accuracy: 0.9324 - val_loss: 0.2445 - val_accuracy: 0.9009\n",
      "Epoch 19/50\n",
      "25/25 [==============================] - 0s 8ms/step - loss: 0.1929 - accuracy: 0.9260 - val_loss: 0.2437 - val_accuracy: 0.8915\n",
      "Epoch 20/50\n",
      "25/25 [==============================] - 0s 7ms/step - loss: 0.1802 - accuracy: 0.9311 - val_loss: 0.2457 - val_accuracy: 0.8915\n",
      "Epoch 21/50\n",
      "25/25 [==============================] - 0s 7ms/step - loss: 0.1952 - accuracy: 0.9343 - val_loss: 0.2467 - val_accuracy: 0.8915\n",
      "Epoch 22/50\n",
      "25/25 [==============================] - 0s 8ms/step - loss: 0.1764 - accuracy: 0.9324 - val_loss: 0.2519 - val_accuracy: 0.8962\n",
      "Epoch 23/50\n",
      "25/25 [==============================] - 0s 7ms/step - loss: 0.1926 - accuracy: 0.9235 - val_loss: 0.2747 - val_accuracy: 0.8821\n",
      "Epoch 24/50\n",
      "25/25 [==============================] - 0s 7ms/step - loss: 0.1746 - accuracy: 0.9318 - val_loss: 0.2905 - val_accuracy: 0.8821\n",
      "Epoch 25/50\n",
      "25/25 [==============================] - 0s 7ms/step - loss: 0.1858 - accuracy: 0.9356 - val_loss: 0.2812 - val_accuracy: 0.8868\n",
      "Epoch 26/50\n",
      "25/25 [==============================] - 0s 7ms/step - loss: 0.1676 - accuracy: 0.9407 - val_loss: 0.3025 - val_accuracy: 0.8726\n",
      "Epoch 27/50\n",
      "25/25 [==============================] - 0s 6ms/step - loss: 0.1731 - accuracy: 0.9362 - val_loss: 0.2733 - val_accuracy: 0.8962\n",
      "Epoch 28/50\n",
      "25/25 [==============================] - 0s 6ms/step - loss: 0.1598 - accuracy: 0.9349 - val_loss: 0.2797 - val_accuracy: 0.8915\n",
      "Epoch 29/50\n",
      "25/25 [==============================] - 0s 6ms/step - loss: 0.1657 - accuracy: 0.9452 - val_loss: 0.2957 - val_accuracy: 0.8962\n",
      "Epoch 30/50\n",
      "25/25 [==============================] - 0s 8ms/step - loss: 0.1777 - accuracy: 0.9324 - val_loss: 0.3052 - val_accuracy: 0.8915\n",
      "Epoch 31/50\n",
      "25/25 [==============================] - 0s 7ms/step - loss: 0.1666 - accuracy: 0.9420 - val_loss: 0.2999 - val_accuracy: 0.8915\n",
      "Epoch 32/50\n",
      "25/25 [==============================] - 0s 7ms/step - loss: 0.1635 - accuracy: 0.9432 - val_loss: 0.3064 - val_accuracy: 0.8915\n",
      "Epoch 33/50\n",
      "25/25 [==============================] - 0s 8ms/step - loss: 0.1563 - accuracy: 0.9490 - val_loss: 0.2964 - val_accuracy: 0.8962\n",
      "Epoch 34/50\n",
      "25/25 [==============================] - 0s 8ms/step - loss: 0.1605 - accuracy: 0.9407 - val_loss: 0.3088 - val_accuracy: 0.8915\n",
      "Epoch 35/50\n",
      "25/25 [==============================] - 0s 6ms/step - loss: 0.1665 - accuracy: 0.9445 - val_loss: 0.3111 - val_accuracy: 0.9057\n",
      "Epoch 36/50\n",
      "25/25 [==============================] - 0s 8ms/step - loss: 0.1764 - accuracy: 0.9362 - val_loss: 0.3231 - val_accuracy: 0.8915\n",
      "Epoch 37/50\n",
      "25/25 [==============================] - 0s 7ms/step - loss: 0.1505 - accuracy: 0.9515 - val_loss: 0.2892 - val_accuracy: 0.9151\n",
      "Epoch 38/50\n",
      "25/25 [==============================] - 0s 8ms/step - loss: 0.1544 - accuracy: 0.9483 - val_loss: 0.2808 - val_accuracy: 0.9104\n",
      "Epoch 39/50\n",
      "25/25 [==============================] - 0s 7ms/step - loss: 0.1894 - accuracy: 0.9279 - val_loss: 0.2620 - val_accuracy: 0.9198\n",
      "Epoch 40/50\n",
      "25/25 [==============================] - 0s 6ms/step - loss: 0.1463 - accuracy: 0.9445 - val_loss: 0.2735 - val_accuracy: 0.9198\n",
      "Epoch 41/50\n",
      "25/25 [==============================] - 0s 7ms/step - loss: 0.1550 - accuracy: 0.9445 - val_loss: 0.2563 - val_accuracy: 0.9292\n",
      "Epoch 42/50\n",
      "25/25 [==============================] - 0s 7ms/step - loss: 0.1441 - accuracy: 0.9534 - val_loss: 0.2654 - val_accuracy: 0.9245\n",
      "Epoch 43/50\n",
      "25/25 [==============================] - 0s 8ms/step - loss: 0.1572 - accuracy: 0.9445 - val_loss: 0.2664 - val_accuracy: 0.9292\n",
      "Epoch 44/50\n",
      "25/25 [==============================] - 0s 7ms/step - loss: 0.1398 - accuracy: 0.9566 - val_loss: 0.2712 - val_accuracy: 0.9245\n",
      "Epoch 45/50\n",
      "25/25 [==============================] - 0s 7ms/step - loss: 0.1481 - accuracy: 0.9477 - val_loss: 0.2877 - val_accuracy: 0.9151\n",
      "Epoch 46/50\n",
      "25/25 [==============================] - 0s 7ms/step - loss: 0.1395 - accuracy: 0.9522 - val_loss: 0.2945 - val_accuracy: 0.9198\n",
      "Epoch 47/50\n",
      "25/25 [==============================] - 0s 7ms/step - loss: 0.1511 - accuracy: 0.9490 - val_loss: 0.2900 - val_accuracy: 0.9057\n",
      "Epoch 48/50\n",
      "25/25 [==============================] - 0s 7ms/step - loss: 0.1586 - accuracy: 0.9445 - val_loss: 0.3187 - val_accuracy: 0.8915\n",
      "Epoch 49/50\n",
      "25/25 [==============================] - 0s 7ms/step - loss: 0.1531 - accuracy: 0.9464 - val_loss: 0.3216 - val_accuracy: 0.8915\n",
      "Epoch 50/50\n",
      "25/25 [==============================] - 0s 7ms/step - loss: 0.1465 - accuracy: 0.9458 - val_loss: 0.3021 - val_accuracy: 0.8915\n"
     ]
    }
   ],
   "source": [
    "# X_train_rescaled: Scaled features of the training set\n",
    "# y_train_resampled: Binary classes (after oversampling) corresponding to the training set\n",
    "# validation_data=(X_eval_rescaled, y_eval_class): Data used for validation during training\n",
    "history = model.fit(X_train_rescaled, y_train_resampled, shuffle=True, epochs=50, batch_size=64,\n",
    "                    validation_data=(X_eval_rescaled, y_eval_class))"
   ],
   "metadata": {
    "collapsed": false,
    "ExecuteTime": {
     "end_time": "2024-01-31T15:14:07.244146989Z",
     "start_time": "2024-01-31T15:13:54.156641182Z"
    }
   },
   "id": "84eadf83b271445c",
   "execution_count": 17
  },
  {
   "cell_type": "markdown",
   "source": [
    "### Plot the accuracy of the model for the Training and Validation data"
   ],
   "metadata": {
    "collapsed": false
   },
   "id": "1fbf2b847d6c21b3"
  },
  {
   "cell_type": "code",
   "outputs": [
    {
     "data": {
      "text/plain": "<Figure size 640x480 with 1 Axes>",
      "image/png": "[encoded data removed]"
     },
     "metadata": {},
     "output_type": "display_data"
    }
   ],
   "source": [
    "plt.plot(history.history['accuracy'])\n",
    "plt.plot(history.history['val_accuracy'])\n",
    "plt.title('Model Accuracy')\n",
    "plt.ylabel('Accuracy')\n",
    "plt.xlabel('Epochs')\n",
    "plt.legend(['Training', 'Validation'], loc='upper left')\n",
    "\n",
    "# Set y-axis limits from 0 to 1\n",
    "plt.ylim(0, 1)\n",
    "\n",
    "# Show figure\n",
    "plt.show()"
   ],
   "metadata": {
    "collapsed": false,
    "ExecuteTime": {
     "end_time": "2024-01-31T15:14:22.878380443Z",
     "start_time": "2024-01-31T15:14:21.594699271Z"
    }
   },
   "id": "ed6346688ad6d634",
   "execution_count": 18
  },
  {
   "cell_type": "markdown",
   "source": [
    "### Plot the loss of the model for the Training and Validation data"
   ],
   "metadata": {
    "collapsed": false
   },
   "id": "28f0d59a00a4a097"
  },
  {
   "cell_type": "code",
   "outputs": [
    {
     "data": {
      "text/plain": "<Figure size 640x480 with 1 Axes>",
      "image/png": "[encoded data removed]"
     },
     "metadata": {},
     "output_type": "display_data"
    }
   ],
   "source": [
    "plt.plot(history.history['loss'])\n",
    "plt.plot(history.history['val_loss'])\n",
    "plt.title('model loss')\n",
    "plt.ylabel('loss')\n",
    "plt.xlabel('Epochs')\n",
    "plt.legend(['Training', 'Validation'], loc='upper left')\n",
    "\n",
    "# Show figure\n",
    "plt.show()"
   ],
   "metadata": {
    "collapsed": false,
    "ExecuteTime": {
     "end_time": "2024-01-31T15:14:46.680923828Z",
     "start_time": "2024-01-31T15:14:45.813905131Z"
    }
   },
   "id": "fb6c4ef71f33f459",
   "execution_count": 19
  },
  {
   "cell_type": "markdown",
   "source": [
    "## c) Predicting the model"
   ],
   "metadata": {
    "collapsed": false
   },
   "id": "1408a513198c53ce"
  },
  {
   "cell_type": "code",
   "outputs": [
    {
     "name": "stdout",
     "output_type": "stream",
     "text": [
      "9/9 [==============================] - 0s 2ms/step\n"
     ]
    }
   ],
   "source": [
    "# Predict using the trained model on rescaled testing data\n",
    "risk_predictions = model.predict(X_test_rescaled)"
   ],
   "metadata": {
    "collapsed": false,
    "ExecuteTime": {
     "end_time": "2024-01-31T15:15:02.113142219Z",
     "start_time": "2024-01-31T15:15:01.758781998Z"
    }
   },
   "id": "905b8ce15425ac4b",
   "execution_count": 20
  },
  {
   "cell_type": "markdown",
   "source": [
    "### High/low risk distribution of predicted risk without classification"
   ],
   "metadata": {
    "collapsed": false
   },
   "id": "97ced0701ed306a8"
  },
  {
   "cell_type": "code",
   "outputs": [
    {
     "data": {
      "text/plain": "<Axes: ylabel='Count'>"
     },
     "execution_count": 21,
     "metadata": {},
     "output_type": "execute_result"
    },
    {
     "data": {
      "text/plain": "<Figure size 640x480 with 1 Axes>",
      "image/png": "[encoded data removed]"
     },
     "metadata": {},
     "output_type": "display_data"
    }
   ],
   "source": [
    "# Display the distribution of the predicted risk\n",
    "plot_distribution(risk_predictions, classification=False)"
   ],
   "metadata": {
    "collapsed": false,
    "ExecuteTime": {
     "end_time": "2024-01-31T15:15:10.592469004Z",
     "start_time": "2024-01-31T15:15:08.736792783Z"
    }
   },
   "id": "375ebdaf9288d1b0",
   "execution_count": 21
  },
  {
   "cell_type": "markdown",
   "source": [
    "### Find best threshold for binary classification for F-beta score"
   ],
   "metadata": {
    "collapsed": false
   },
   "id": "42b73501323ff082"
  },
  {
   "cell_type": "code",
   "outputs": [
    {
     "name": "stdout",
     "output_type": "stream",
     "text": [
      "Best Threshold: 0.1921921921921922\n",
      "Best F-beta Score: 0.6923076923076922\n"
     ]
    }
   ],
   "source": [
    "from sklearn.metrics import fbeta_score\n",
    "\n",
    "# Initialize variables to store the best threshold and its corresponding F-beta score\n",
    "best_threshold = None\n",
    "best_score = -1\n",
    "\n",
    "# Iterate over a range of thresholds\n",
    "for threshold in np.linspace(0, 1, 1000):\n",
    "    \n",
    "    # Convert risk predictions to binary predictions based on the current threshold\n",
    "    y_pred = np.where(risk_predictions >= threshold, 1, 0)\n",
    "    \n",
    "    # Calculate the F-beta score for the current threshold\n",
    "    score = fbeta_score(y_test_class, y_pred, beta=2)\n",
    "\n",
    "    # Update the best threshold and score if the current score is better\n",
    "    if score > best_score:\n",
    "        best_score = score\n",
    "        best_threshold = threshold\n",
    "\n",
    "print(\"Best Threshold:\", best_threshold)\n",
    "print(\"Best F-beta Score:\", best_score)"
   ],
   "metadata": {
    "collapsed": false,
    "ExecuteTime": {
     "end_time": "2024-01-31T15:15:32.583449141Z",
     "start_time": "2024-01-31T15:15:27.660951527Z"
    }
   },
   "id": "942f75cb853cb6c2",
   "execution_count": 22
  },
  {
   "cell_type": "markdown",
   "source": [
    "### High/low risk distribution of risk predictions with computed threshold"
   ],
   "metadata": {
    "collapsed": false
   },
   "id": "2c8eec3d277bdb34"
  },
  {
   "cell_type": "code",
   "outputs": [
    {
     "name": "stdout",
     "output_type": "stream",
     "text": [
      "Risk Distribution Statistics:\n",
      "High Risk: 54\n",
      "Low Risk: 211\n",
      "Percent High Risk: 20.37735849056604\n"
     ]
    },
    {
     "data": {
      "text/plain": "{'High Risk': 54, 'Low Risk': 211, 'Percent High Risk': 20.37735849056604}"
     },
     "execution_count": 23,
     "metadata": {},
     "output_type": "execute_result"
    },
    {
     "data": {
      "text/plain": "<Figure size 640x480 with 1 Axes>",
      "image/png": "[encoded data removed]"
     },
     "metadata": {},
     "output_type": "display_data"
    }
   ],
   "source": [
    "# Display the distribution of the resampled binary classes\n",
    "plot_distribution(risk_predictions, threshold=best_threshold)"
   ],
   "metadata": {
    "collapsed": false,
    "ExecuteTime": {
     "end_time": "2024-01-31T15:15:57.162866153Z",
     "start_time": "2024-01-31T15:15:56.313527433Z"
    }
   },
   "id": "4577a5037c42f04a",
   "execution_count": 23
  },
  {
   "cell_type": "markdown",
   "source": [
    "# 3) Evaluation of the model"
   ],
   "metadata": {
    "collapsed": false
   },
   "id": "1b2ed0b7600efdca"
  },
  {
   "cell_type": "markdown",
   "source": [
    "**F-beta score**:\n",
    "\n",
    "It's a metric that balances precision and recall, with the emphasis on recall. By using the beta parameter (here, set to 2), we're placing more importance on recall than precision. This is crucial in scenarios where false negatives (missed positive cases) are more costly than false positives.\n",
    "\n",
    "**MSE_HR score**:\n",
    "\n",
    "It's a modified mean squared error (MSE) metric that's adapted to handle high-risk scenarios. It penalizes predictions that fall below a certain threshold (here, -6) more severely, as these are considered high-risk predictions.\n"
   ],
   "metadata": {
    "collapsed": false
   },
   "id": "457933cfef959001"
  },
  {
   "cell_type": "markdown",
   "source": [
    "**Explanation for the values [-5, -6.0001]:**\n",
    "\n",
    "Took from the [Case Study](https://github.com/jaimeperezsanchez/Collision_Avoidance_Challenge_Deep_Learning/blob/master/Technical_Report.pdf):\n",
    "For the MSE computation, we set all the low-risk prediction as close as possible to the threshold (risk greater or equal to -6). This makes the scores improve a lot as the maximum difference while computing the MSE between two values is now -6 (the high-risk range) instead of -30 (the total risk range)."
   ],
   "metadata": {
    "collapsed": false
   },
   "id": "73957dd01fec3104"
  },
  {
   "cell_type": "code",
   "outputs": [
    {
     "name": "stdout",
     "output_type": "stream",
     "text": [
      "F-beta Score: 0.38297872340425526\n",
      "MSE_HR Score: 63.781092615010486\n",
      "L-Score: 166.53951960586073\n"
     ]
    }
   ],
   "source": [
    "from src.utils.calculate_statistics import calculate_statistics_for_evaluation\n",
    "\n",
    "predictions_real = np.where(risk_predictions >= best_threshold, -5, -6.0001)\n",
    "\n",
    "# Calculate F-beta and MSE_HR scores\n",
    "f_beta, mse_hr, L_score = calculate_statistics_for_evaluation(predictions_real, y_test)\n",
    "\n",
    "# Print the calculated scores\n",
    "print(f\"F-beta Score: {f_beta}\")\n",
    "print(f\"MSE_HR Score: {mse_hr}\")\n",
    "print(f\"L-Score: {L_score}\")"
   ],
   "metadata": {
    "collapsed": false,
    "ExecuteTime": {
     "end_time": "2024-01-31T15:17:08.644848026Z",
     "start_time": "2024-01-31T15:17:08.528285599Z"
    }
   },
   "id": "c9fb7c5ed2eeed62",
   "execution_count": 24
  },
  {
   "cell_type": "markdown",
   "source": [
    "## END"
   ],
   "metadata": {
    "collapsed": false
   },
   "id": "42a425d1e0585002"
  }
 ],
 "metadata": {
  "kernelspec": {
   "display_name": "Python 3",
   "language": "python",
   "name": "python3"
  },
  "language_info": {
   "codemirror_mode": {
    "name": "ipython",
    "version": 2
   },
   "file_extension": ".py",
   "mimetype": "text/x-python",
   "name": "python",
   "nbconvert_exporter": "python",
   "pygments_lexer": "ipython2",
   "version": "2.7.6"
  }
 },
 "nbformat": 4,
 "nbformat_minor": 5
}
