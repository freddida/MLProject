{
 "cells": [
  {
   "cell_type": "markdown",
   "id": "b0df0795dd2cde5b",
   "metadata": {
    "collapsed": false
   },
   "source": [
    "# Notebook for a Neural Network Model"
   ]
  },
  {
   "cell_type": "code",
   "execution_count": 8,
   "id": "initial_id",
   "metadata": {
    "ExecuteTime": {
     "end_time": "2024-02-05T09:06:32.919614Z",
     "start_time": "2024-02-05T09:06:32.834124Z"
    },
    "collapsed": true
   },
   "outputs": [
    {
     "name": "stdout",
     "output_type": "stream",
     "text": [
      "tensor([1.], device='mps:0')\n"
     ]
    }
   ],
   "source": [
    "from matplotlib import pyplot as plt\n",
    "\n",
    "# Import necessary functions and modules\n",
    "from src.utils.check_mps_device import check_mps_device\n",
    "from src.utils.data_loading import load_data\n",
    "from src.utils.filtering import filter_data\n",
    "from src.utils.label_encoding import label_encode_column\n",
    "import numpy as np\n",
    "\n",
    "# Check if PyTorch Multi-Process Service (MPS) is available (GPU)\n",
    "check_mps_device()"
   ]
  },
  {
   "cell_type": "markdown",
   "id": "d02b4b2bfed554f4",
   "metadata": {
    "collapsed": false
   },
   "source": [
    "# 1) Preprocessing"
   ]
  },
  {
   "cell_type": "markdown",
   "id": "cc2be1747f70623f",
   "metadata": {
    "collapsed": false
   },
   "source": [
    "## a) Selected Features"
   ]
  },
  {
   "cell_type": "code",
   "execution_count": 9,
   "id": "efaacfa08cb5d5f1",
   "metadata": {
    "ExecuteTime": {
     "end_time": "2024-02-05T09:06:32.942674Z",
     "start_time": "2024-02-05T09:06:32.922509Z"
    },
    "collapsed": false
   },
   "outputs": [],
   "source": [
    "# Define a list of selected features for analysis from the feature_selection notebook\n",
    "selected_features = [\n",
    "    \"geocentric_latitude\",  # Latitude of conjunction point [deg]\n",
    "    \"c_sigma_rdot\",  # Covariance: radial velocity standard deviation (sigma) of chaser [m/s]\n",
    "    \"c_obs_used\",  # Number of observations used for orbit determination (per CDM) of chaser\n",
    "    \"c_time_lastob_start\",\n",
    "    # Start of the time in days of the last accepted observation used in the orbit determination of chaser\n",
    "    \"c_time_lastob_end\",\n",
    "    # End of the time interval in days of the last accepted observation used in the orbit determination of chaser\n",
    "    \"mahalanobis_distance\",  # The distance between the chaser and target\n",
    "    # \"miss_distance\",  # Relative position between chaser & target at TCA [m]\n",
    "    # \"time_to_tca\",  # Time interval between CDM creation and time-of-closest approach [days]\n",
    "    # \"t_cndot_r\",  # Covariance: correlation of normal (cross-track) velocity vs radial position of chaser\n",
    "    # \"c_cr_area_over_mass\",  # Solar radiation coefficient . A/m (ballistic coefficient equivalent) of chaser\n",
    "    # \"max_risk_estimate\",  # Maximum collision probability obtained by scaling combined covariance\n",
    "    # \"c_span\",  # Size used by the collision risk computation algorithm of chaser [m]\n",
    "    # \"max_risk_scaling\",  # Scaling factor used to compute maximum collision probability\n",
    "    # \"t_rcs_estimate\",  # Radar cross-sectional area [m^2] of target\n",
    "    # \"c_sigma_t\",  # Covariance: transverse (along-track) position standard deviation (sigma) of chaser [m]\n",
    "    # \"c_obs_available\",  # Number of observations available for orbit determination (per CDM)\n",
    "    \"risk\",  # Risk value\n",
    "]"
   ]
  },
  {
   "cell_type": "markdown",
   "id": "47418c5418c1d6f0",
   "metadata": {
    "collapsed": false
   },
   "source": [
    "## b) Data Loading"
   ]
  },
  {
   "cell_type": "code",
   "execution_count": 10,
   "id": "fd101080fa6f3345",
   "metadata": {
    "ExecuteTime": {
     "end_time": "2024-02-05T09:06:35.330365Z",
     "start_time": "2024-02-05T09:06:32.945849Z"
    },
    "collapsed": false
   },
   "outputs": [
    {
     "name": "stdout",
     "output_type": "stream",
     "text": [
      "Raw data\n",
      "<class 'pandas.core.frame.DataFrame'>\n",
      "RangeIndex: 162634 entries, 0 to 162633\n",
      "Columns: 103 entries, event_id to AP\n",
      "dtypes: float64(98), int64(4), object(1)\n",
      "memory usage: 127.8+ MB\n",
      "Filtered data\n",
      "<class 'pandas.core.frame.DataFrame'>\n",
      "RangeIndex: 3032 entries, 0 to 3031\n",
      "Columns: 103 entries, event_id to AP\n",
      "dtypes: float64(98), int64(4), object(1)\n",
      "memory usage: 2.4+ MB\n"
     ]
    }
   ],
   "source": [
    "# Load the data and filter it\n",
    "df = load_data()  # Load the raw data into a DataFrame\n",
    "df_filtered = filter_data(\n",
    "    df\n",
    ")  # Filter the data according to criteria stated in the challenge\n",
    "\n",
    "# Remove rows with missing values\n",
    "df_filtered.dropna(axis=0, how=\"any\", inplace=True)\n",
    "\n",
    "# Label encode the categorical column \"c_object_type\"\n",
    "label_encode_column(\n",
    "    df_filtered, \"c_object_type\"\n",
    ")  # Convert categorical column to numerical values\n",
    "\n",
    "# Extract the selected features and target variable\n",
    "df_processed = df_filtered[\n",
    "    selected_features\n",
    "]  # Select only the specified features for analysis\n",
    "\n",
    "# Separate features (X) and target variable (y)\n",
    "X = df_processed.drop(\"risk\", axis=1)  # Features (17 columns)\n",
    "y = df_processed[\"risk\"]  # Target variable (risk)"
   ]
  },
  {
   "cell_type": "markdown",
   "id": "9bc4642d9e1f46c9",
   "metadata": {
    "collapsed": false
   },
   "source": [
    "### High/low risk distribution of original and preprocessed data"
   ]
  },
  {
   "cell_type": "code",
   "execution_count": 11,
   "id": "51b459f47195e41a",
   "metadata": {
    "ExecuteTime": {
     "end_time": "2024-02-05T09:06:35.612970Z",
     "start_time": "2024-02-05T09:06:35.332693Z"
    },
    "collapsed": false
   },
   "outputs": [
    {
     "name": "stdout",
     "output_type": "stream",
     "text": [
      "Risk Distribution Statistics:\n",
      "High Risk: 96\n",
      "Low Risk: 1227\n",
      "Percent High Risk: 7.2562358276643995\n"
     ]
    },
    {
     "data": {
      "text/plain": [
       "{'High Risk': 96, 'Low Risk': 1227, 'Percent High Risk': 7.2562358276643995}"
      ]
     },
     "execution_count": 11,
     "metadata": {},
     "output_type": "execute_result"
    },
    {
     "data": {
      "image/png": "[encoded data removed]",
      "text/plain": [
       "<Figure size 640x480 with 1 Axes>"
      ]
     },
     "metadata": {},
     "output_type": "display_data"
    }
   ],
   "source": [
    "from src.utils.plot_distrubution import plot_distribution\n",
    "\n",
    "plot_distribution(y, threshold=-6)"
   ]
  },
  {
   "cell_type": "markdown",
   "id": "b5b68c4f46055cdb",
   "metadata": {
    "collapsed": false
   },
   "source": [
    "## c) Data Splitting into Training, Evaluation and Testing"
   ]
  },
  {
   "cell_type": "code",
   "execution_count": 12,
   "id": "5148189349077432",
   "metadata": {
    "ExecuteTime": {
     "end_time": "2024-02-05T09:06:35.623626Z",
     "start_time": "2024-02-05T09:06:35.615630Z"
    },
    "collapsed": false
   },
   "outputs": [
    {
     "name": "stdout",
     "output_type": "stream",
     "text": [
      "Training and Evaluation Set Shapes:\n",
      "(1058, 6)\n",
      "(1058,)\n",
      "\n",
      "Testing Set Shapes:\n",
      "(265, 6)\n",
      "(265,)\n"
     ]
    }
   ],
   "source": [
    "from sklearn.model_selection import train_test_split\n",
    "\n",
    "# Convert risk values into binary classes based on the threshold specified in the challenge\n",
    "y_class = np.where(y >= -6, 1, 0)\n",
    "\n",
    "# Split the data into training and testing sets (80% training, 20% testing)\n",
    "# 'stratify' ensures proportional class distribution in train-test split using 'y_class'.\n",
    "X_train_eval, X_test, y_train_eval, y_test = train_test_split(\n",
    "    X, y, test_size=0.2, random_state=42, shuffle=True, stratify=y_class\n",
    ")\n",
    "\n",
    "print(\"Training and Evaluation Set Shapes:\")\n",
    "print(X_train_eval.shape)  # Shape of the features in the training and evaluation set\n",
    "print(\n",
    "    y_train_eval.shape\n",
    ")  # Shape of the target variable in the training and evaluation set\n",
    "print(\"\\nTesting Set Shapes:\")\n",
    "print(X_test.shape)  # Shape of the features in the testing set\n",
    "print(y_test.shape)  # Shape of the target variable in the testing set"
   ]
  },
  {
   "cell_type": "code",
   "execution_count": 13,
   "id": "3ca23e74ce819dca",
   "metadata": {
    "ExecuteTime": {
     "end_time": "2024-02-05T09:06:35.631731Z",
     "start_time": "2024-02-05T09:06:35.626517Z"
    },
    "collapsed": false
   },
   "outputs": [
    {
     "name": "stdout",
     "output_type": "stream",
     "text": [
      "Training Set Shapes:\n",
      "(846, 6)\n",
      "(846,)\n",
      "\n",
      "Validation Set Shapes:\n",
      "(212, 6)\n",
      "(212,)\n"
     ]
    }
   ],
   "source": [
    "# Convert risk values into binary classes based on the threshold specified in the challenge\n",
    "y_class_val = np.where(y_train_eval >= -6, 1, 0)\n",
    "\n",
    "# Split the remaining 80% into training and evaluation/validation sets (80/20 split) using stratify again\n",
    "X_train, X_val, y_train, y_val = train_test_split(\n",
    "    X_train_eval,\n",
    "    y_train_eval,\n",
    "    test_size=0.20,\n",
    "    random_state=21,\n",
    "    shuffle=True,\n",
    "    stratify=y_class_val,\n",
    ")\n",
    "\n",
    "print(\"Training Set Shapes:\")\n",
    "print(X_train.shape)  # Shape of the features in the training set\n",
    "print(y_train.shape)  # Shape of the target variable in the training set\n",
    "print(\"\\nValidation Set Shapes:\")\n",
    "print(X_val.shape)  # Shape of the features in the validation set\n",
    "print(y_val.shape)  # Shape of the target variable in the validation set"
   ]
  },
  {
   "cell_type": "markdown",
   "id": "20baa9fba383b7bb",
   "metadata": {
    "collapsed": false
   },
   "source": [
    "### High/low risk distribution of training set"
   ]
  },
  {
   "cell_type": "code",
   "execution_count": 14,
   "id": "35a2bb0db61bc48d",
   "metadata": {
    "ExecuteTime": {
     "end_time": "2024-02-05T09:06:35.946094Z",
     "start_time": "2024-02-05T09:06:35.632961Z"
    },
    "collapsed": false
   },
   "outputs": [
    {
     "name": "stdout",
     "output_type": "stream",
     "text": [
      "Shape of y_train_class: (846,)\n",
      "Risk Distribution Statistics:\n",
      "High Risk: 62\n",
      "Low Risk: 784\n",
      "Percent High Risk: 7.328605200945627\n"
     ]
    },
    {
     "data": {
      "text/plain": [
       "{'High Risk': 62, 'Low Risk': 784, 'Percent High Risk': 7.328605200945627}"
      ]
     },
     "execution_count": 14,
     "metadata": {},
     "output_type": "execute_result"
    },
    {
     "data": {
      "image/png": "[encoded data removed]",
      "text/plain": [
       "<Figure size 640x480 with 1 Axes>"
      ]
     },
     "metadata": {},
     "output_type": "display_data"
    }
   ],
   "source": [
    "# Convert risk values into binary classes for the training set\n",
    "y_train_class = np.where(y_train >= -6, 1, 0)\n",
    "\n",
    "# Print the shape of the binary classes array\n",
    "print(\"Shape of y_train_class:\", y_train_class.shape)\n",
    "\n",
    "# Display the distribution of the binary classes\n",
    "plot_distribution(y_train_class, threshold=0.5)"
   ]
  },
  {
   "cell_type": "markdown",
   "id": "79a3727d34e73f7b",
   "metadata": {
    "collapsed": false
   },
   "source": [
    "### High/low risk distribution of validation set"
   ]
  },
  {
   "cell_type": "code",
   "execution_count": 15,
   "id": "930d1003f35ca620",
   "metadata": {
    "ExecuteTime": {
     "end_time": "2024-02-05T09:06:36.255115Z",
     "start_time": "2024-02-05T09:06:35.955045Z"
    },
    "collapsed": false
   },
   "outputs": [
    {
     "name": "stdout",
     "output_type": "stream",
     "text": [
      "Shape of y_eval_class: (212,)\n",
      "Risk Distribution Statistics:\n",
      "High Risk: 15\n",
      "Low Risk: 197\n",
      "Percent High Risk: 7.0754716981132075\n"
     ]
    },
    {
     "data": {
      "text/plain": [
       "{'High Risk': 15, 'Low Risk': 197, 'Percent High Risk': 7.0754716981132075}"
      ]
     },
     "execution_count": 15,
     "metadata": {},
     "output_type": "execute_result"
    },
    {
     "data": {
      "image/png": "[encoded data removed]",
      "text/plain": [
       "<Figure size 640x480 with 1 Axes>"
      ]
     },
     "metadata": {},
     "output_type": "display_data"
    }
   ],
   "source": [
    "# Convert risk values into binary classes for the validation set\n",
    "y_eval_class = np.where(y_val >= -6, 1, 0)\n",
    "\n",
    "# Print the shape of the binary classes array\n",
    "print(\"Shape of y_eval_class:\", y_eval_class.shape)\n",
    "\n",
    "# Display the distribution of the binary classes\n",
    "plot_distribution(y_eval_class, threshold=0.5)"
   ]
  },
  {
   "cell_type": "markdown",
   "id": "f523764f614851bc",
   "metadata": {
    "collapsed": false
   },
   "source": [
    "### High/low risk distribution of testing set"
   ]
  },
  {
   "cell_type": "code",
   "execution_count": 16,
   "id": "1a31895cbc1aa5ae",
   "metadata": {
    "ExecuteTime": {
     "end_time": "2024-02-05T09:06:36.571996Z",
     "start_time": "2024-02-05T09:06:36.257046Z"
    },
    "collapsed": false
   },
   "outputs": [
    {
     "name": "stdout",
     "output_type": "stream",
     "text": [
      "Shape of y_test_class: (265,)\n",
      "Risk Distribution Statistics:\n",
      "High Risk: 19\n",
      "Low Risk: 246\n",
      "Percent High Risk: 7.169811320754717\n"
     ]
    },
    {
     "data": {
      "text/plain": [
       "{'High Risk': 19, 'Low Risk': 246, 'Percent High Risk': 7.169811320754717}"
      ]
     },
     "execution_count": 16,
     "metadata": {},
     "output_type": "execute_result"
    },
    {
     "data": {
      "image/png": "[encoded data removed]",
      "text/plain": [
       "<Figure size 640x480 with 1 Axes>"
      ]
     },
     "metadata": {},
     "output_type": "display_data"
    }
   ],
   "source": [
    "# Convert risk values into binary classes for the testing set\n",
    "y_test_class = np.where(y_test >= -6, 1, 0)\n",
    "\n",
    "# Print the shape of the binary classes array\n",
    "print(\"Shape of y_test_class:\", y_test_class.shape)\n",
    "\n",
    "# Display the distribution of the binary classes\n",
    "plot_distribution(y_test_class, threshold=0.5)"
   ]
  },
  {
   "cell_type": "markdown",
   "id": "1187a18766ac3523",
   "metadata": {
    "collapsed": false
   },
   "source": [
    "## d) Over Sampling with SMOTE (Synthetic Minority Over-sampling Technique)"
   ]
  },
  {
   "cell_type": "markdown",
   "id": "b35e06f61c43b550",
   "metadata": {
    "collapsed": false
   },
   "source": [
    "[SMOTE](https://www.jair.org/index.php/jair/article/view/11192) is a technique used to address class imbalance in machine learning datasets, particularly in classification tasks. It works by generating synthetic samples for the minority class, thereby balancing the class distribution. SMOTE selects minority class instances and generates synthetic samples by interpolating between these instances and their nearest neighbors. This helps in mitigating the problem of class imbalance and improving the performance of machine learning models, especially those sensitive to class distribution."
   ]
  },
  {
   "cell_type": "code",
   "execution_count": 17,
   "id": "af3e8e5105f8a454",
   "metadata": {
    "ExecuteTime": {
     "end_time": "2024-02-05T09:06:37.028899Z",
     "start_time": "2024-02-05T09:06:36.573254Z"
    },
    "collapsed": false
   },
   "outputs": [
    {
     "name": "stdout",
     "output_type": "stream",
     "text": [
      "Resampled Training Set Shapes:\n",
      "(1568, 6)\n",
      "(1568,)\n"
     ]
    }
   ],
   "source": [
    "from imblearn.over_sampling import SMOTE\n",
    "\n",
    "# Initialize the SMOTE object with specified parameters\n",
    "smote = SMOTE(\n",
    "    random_state=42, k_neighbors=30\n",
    ")  # Number of nearest neighbors to use for generating synthetic samples\n",
    "\n",
    "# Resample the training data using SMOTE using unscaled training features and binary representation of trained targets\n",
    "X_train_resampled, y_train_resampled = smote.fit_resample(X_train, y_train_class)\n",
    "\n",
    "# Print the shapes of the resampled training data\n",
    "print(\"Resampled Training Set Shapes:\")\n",
    "print(X_train_resampled.shape)  # Shape of the resampled features in the training set\n",
    "print(\n",
    "    y_train_resampled.shape\n",
    ")  # Shape of the resampled target variable in the training set"
   ]
  },
  {
   "cell_type": "markdown",
   "id": "34a9a97b8b148cdd",
   "metadata": {
    "collapsed": false
   },
   "source": [
    "### High/low risk distribution of resampled training set"
   ]
  },
  {
   "cell_type": "code",
   "execution_count": 18,
   "id": "ee6868cd92d80a1",
   "metadata": {
    "ExecuteTime": {
     "end_time": "2024-02-05T09:06:37.368859Z",
     "start_time": "2024-02-05T09:06:37.030004Z"
    },
    "collapsed": false
   },
   "outputs": [
    {
     "name": "stdout",
     "output_type": "stream",
     "text": [
      "Risk Distribution Statistics:\n",
      "High Risk: 784\n",
      "Low Risk: 784\n",
      "Percent High Risk: 50.0\n"
     ]
    },
    {
     "data": {
      "text/plain": [
       "{'High Risk': 784, 'Low Risk': 784, 'Percent High Risk': 50.0}"
      ]
     },
     "execution_count": 18,
     "metadata": {},
     "output_type": "execute_result"
    },
    {
     "data": {
      "image/png": "[encoded data removed]",
      "text/plain": [
       "<Figure size 640x480 with 1 Axes>"
      ]
     },
     "metadata": {},
     "output_type": "display_data"
    }
   ],
   "source": [
    "# Display the distribution of the resampled binary classes\n",
    "plot_distribution(y_train_resampled, threshold=0.5)"
   ]
  },
  {
   "cell_type": "markdown",
   "id": "5c330ed38fb2e4b0",
   "metadata": {
    "collapsed": false
   },
   "source": [
    "## e) Scaling"
   ]
  },
  {
   "cell_type": "code",
   "execution_count": 19,
   "id": "75cb0220c39a909",
   "metadata": {
    "ExecuteTime": {
     "end_time": "2024-02-05T09:06:37.374826Z",
     "start_time": "2024-02-05T09:06:37.371948Z"
    },
    "collapsed": false
   },
   "outputs": [
    {
     "name": "stdout",
     "output_type": "stream",
     "text": [
      "Resampled Training Set Shape: (1568,)\n",
      "Evaluation Set Shape: (1058,)\n",
      "Validation Set Shape: (212,)\n",
      "Testing Set Shape: (265,)\n"
     ]
    }
   ],
   "source": [
    "print(\"Resampled Training Set Shape:\", y_train_resampled.shape)\n",
    "print(\"Evaluation Set Shape:\", y_train_eval.shape)\n",
    "print(\"Validation Set Shape:\", y_val.shape)\n",
    "print(\"Testing Set Shape:\", y_test.shape)"
   ]
  },
  {
   "cell_type": "code",
   "execution_count": 20,
   "id": "e0aef9202a035b94",
   "metadata": {
    "ExecuteTime": {
     "end_time": "2024-02-05T09:06:37.383476Z",
     "start_time": "2024-02-05T09:06:37.377059Z"
    },
    "collapsed": false
   },
   "outputs": [
    {
     "name": "stdout",
     "output_type": "stream",
     "text": [
      "Shape of X_train_rescaled: (1568, 6)\n",
      "Shape of X_train_eval_rescaled: (1058, 6)\n",
      "Shape of X_eval_rescaled: (212, 6)\n",
      "Shape of X_test_rescaled: (265, 6)\n"
     ]
    }
   ],
   "source": [
    "from sklearn.preprocessing import MinMaxScaler\n",
    "\n",
    "# Initialize the MinMaxScaler\n",
    "# MinMaxScaler is used to scale the features to a range between 0 and 1 (uniformity across features)\n",
    "feature_scaler = MinMaxScaler()\n",
    "\n",
    "# Reshape X to ensure it's a 2D array for the scaler's fit_transform method\n",
    "X_train_rescaled = feature_scaler.fit_transform(X_train_resampled)\n",
    "X_train_eval_rescaled = feature_scaler.transform(X_train_eval)\n",
    "X_eval_rescaled = feature_scaler.transform(X_val)\n",
    "X_test_rescaled = feature_scaler.transform(X_test)\n",
    "\n",
    "print(\"Shape of X_train_rescaled:\", X_train_rescaled.shape)\n",
    "print(\"Shape of X_train_eval_rescaled:\", X_train_eval_rescaled.shape)\n",
    "print(\"Shape of X_eval_rescaled:\", X_eval_rescaled.shape)\n",
    "print(\"Shape of X_test_rescaled:\", X_test_rescaled.shape)"
   ]
  },
  {
   "cell_type": "markdown",
   "id": "9cc6da3b1416d044",
   "metadata": {
    "collapsed": false
   },
   "source": [
    "# 2) Modeling"
   ]
  },
  {
   "cell_type": "markdown",
   "id": "13ecf5f6d1390839",
   "metadata": {
    "collapsed": false
   },
   "source": [
    "This model is a feedforward neural network with an input layer, one hidden layer, and an output layer. The architecture includes:\n",
    "\n",
    "- **Input Layer**: 64 neurons with ReLU activation.\n",
    "- **Hidden Layer**: 32 neurons with ReLU activation.\n",
    "- **Output Layer**: 1 neuron with linear activation for regression.\n",
    "\n",
    "The model is compiled using the Adam optimizer (learning rate = 0.001) and mean squared error loss."
   ]
  },
  {
   "cell_type": "markdown",
   "id": "d578cc0825e42ccf",
   "metadata": {
    "collapsed": false
   },
   "source": [
    "## a) Build Neural Network Model"
   ]
  },
  {
   "cell_type": "markdown",
   "id": "32448f7ca7c2e0b5",
   "metadata": {
    "collapsed": false
   },
   "source": [
    "### v1.0.0"
   ]
  },
  {
   "cell_type": "code",
   "execution_count": 21,
   "id": "5cb4c226d9ea9097",
   "metadata": {
    "ExecuteTime": {
     "end_time": "2024-02-05T09:06:37.386824Z",
     "start_time": "2024-02-05T09:06:37.384624Z"
    },
    "collapsed": false
   },
   "outputs": [],
   "source": [
    "# from tensorflow.keras import Sequential\n",
    "# from tensorflow.keras.layers import Dense\n",
    "# from tensorflow.keras.optimizers.legacy import Adam\n",
    "#\n",
    "# # Define the neural network model: linear stack of layers\n",
    "# model = Sequential()\n",
    "#\n",
    "# # Add input layer and hidden layers\n",
    "# model.add(Dense(64, input_dim=X_train_rescaled.shape[1],\n",
    "#                 activation='relu'))  # Input layer with 64 neurons and ReLU activation\n",
    "# model.add(Dense(32, activation='relu'))  # Hidden layer with 32 neurons and ReLU activation\n",
    "#\n",
    "# # Add output layer\n",
    "# # sigmoid for binary classification\n",
    "# model.add(Dense(1, activation='sigmoid'))  # Output layer with linear activation for regression task\n",
    "#\n",
    "# # Compile the model\n",
    "# # binary_crossentropy: Used for binary classification problems, computes loss based on probability distributions of binary classes.\n",
    "# model.compile(optimizer=Adam(learning_rate=0.001),  # Adam optimizer with learning rate of 0.001\n",
    "#               loss='binary_crossentropy', metrics=['accuracy'])  # Mean squared error loss for regression\n",
    "#\n",
    "# # Print model summary\n",
    "# model.summary()  # Display the architecture and parameters of the neural network model"
   ]
  },
  {
   "cell_type": "markdown",
   "id": "9d6873ce9ed41654",
   "metadata": {
    "collapsed": false
   },
   "source": [
    "### v2.0.0"
   ]
  },
  {
   "cell_type": "code",
   "execution_count": 22,
   "id": "3719779c376e0d8a",
   "metadata": {
    "ExecuteTime": {
     "end_time": "2024-02-05T09:06:43.997494Z",
     "start_time": "2024-02-05T09:06:37.388944Z"
    },
    "collapsed": false
   },
   "outputs": [
    {
     "name": "stdout",
     "output_type": "stream",
     "text": [
      "Model: \"sequential\"\n",
      "_________________________________________________________________\n",
      " Layer (type)                Output Shape              Param #   \n",
      "=================================================================\n",
      " dense (Dense)               (None, 124)               868       \n",
      "                                                                 \n",
      " batch_normalization (Batch  (None, 124)               496       \n",
      " Normalization)                                                  \n",
      "                                                                 \n",
      " dropout (Dropout)           (None, 124)               0         \n",
      "                                                                 \n",
      " dense_1 (Dense)             (None, 64)                8000      \n",
      "                                                                 \n",
      " batch_normalization_1 (Bat  (None, 64)                256       \n",
      " chNormalization)                                                \n",
      "                                                                 \n",
      " dropout_1 (Dropout)         (None, 64)                0         \n",
      "                                                                 \n",
      " dense_2 (Dense)             (None, 1)                 65        \n",
      "                                                                 \n",
      "=================================================================\n",
      "Total params: 9685 (37.83 KB)\n",
      "Trainable params: 9309 (36.36 KB)\n",
      "Non-trainable params: 376 (1.47 KB)\n",
      "_________________________________________________________________\n"
     ]
    },
    {
     "name": "stderr",
     "output_type": "stream",
     "text": [
      "2024-02-05 10:06:43.822269: I metal_plugin/src/device/metal_device.cc:1154] Metal device set to: Apple M2\n",
      "2024-02-05 10:06:43.822320: I metal_plugin/src/device/metal_device.cc:296] systemMemory: 16.00 GB\n",
      "2024-02-05 10:06:43.822324: I metal_plugin/src/device/metal_device.cc:313] maxCacheSize: 5.33 GB\n",
      "2024-02-05 10:06:43.822572: I tensorflow/core/common_runtime/pluggable_device/pluggable_device_factory.cc:306] Could not identify NUMA node of platform GPU ID 0, defaulting to 0. Your kernel may not have been built with NUMA support.\n",
      "2024-02-05 10:06:43.822961: I tensorflow/core/common_runtime/pluggable_device/pluggable_device_factory.cc:272] Created TensorFlow device (/job:localhost/replica:0/task:0/device:GPU:0 with 0 MB memory) -> physical PluggableDevice (device: 0, name: METAL, pci bus id: <undefined>)\n"
     ]
    }
   ],
   "source": [
    "from tensorflow.keras import Sequential\n",
    "from tensorflow.keras.layers import Dense, Dropout, BatchNormalization\n",
    "from tensorflow.keras.optimizers.legacy import SGD\n",
    "\n",
    "# Define the neural network model\n",
    "model = Sequential()\n",
    "\n",
    "# Add input layer and hidden layers\n",
    "model.add(Dense(124, input_dim=X_train_rescaled.shape[1], activation=\"relu\"))\n",
    "model.add(BatchNormalization())  # Batch normalization layer\n",
    "model.add(Dropout(0.5))  # Dropout layer to prevent overfitting\n",
    "model.add(Dense(64, activation=\"relu\"))\n",
    "model.add(BatchNormalization())\n",
    "model.add(Dropout(0.5))\n",
    "\n",
    "# Add output layer\n",
    "# sigmoid for binary classification\n",
    "model.add(Dense(1, activation=\"sigmoid\"))  # Linear activation for regression task\n",
    "\n",
    "# Compile the model\n",
    "# binary_crossentropy: Used for binary classification problems, computes loss based on probability distributions of binary classes.\n",
    "model.compile(\n",
    "    optimizer=SGD(learning_rate=0.01, momentum=0.9),\n",
    "    loss=\"binary_crossentropy\",\n",
    "    metrics=[\"accuracy\"],\n",
    ")  # Mean squared error loss for regression\n",
    "\n",
    "\n",
    "# Print model summary\n",
    "model.summary()"
   ]
  },
  {
   "cell_type": "markdown",
   "id": "4d03641093328002",
   "metadata": {
    "collapsed": false
   },
   "source": [
    "## b) Train the model"
   ]
  },
  {
   "cell_type": "markdown",
   "id": "fe5165e986dc8263",
   "metadata": {
    "collapsed": false
   },
   "source": [
    "**fit():**\n",
    "- During training, the model is repeatedly exposed to batches of training data (X_train_rescaled and y_train_resampled). For each batch, the model computes predictions, calculates the loss (difference between predicted and actual values), and updates the model's parameters (weights and biases) using an optimization algorithm (e.g., Adam optimizer) to minimize the loss.\n",
    "\n",
    "- The validation data (X_eval_rescaled and y_eval_class) are used periodically (after each epoch) to evaluate the model's performance on unseen data. This helps monitor the model's generalization ability and detect overfitting."
   ]
  },
  {
   "cell_type": "code",
   "execution_count": 23,
   "id": "84eadf83b271445c",
   "metadata": {
    "ExecuteTime": {
     "end_time": "2024-02-05T09:06:57.283672Z",
     "start_time": "2024-02-05T09:06:44.001866Z"
    },
    "collapsed": false
   },
   "outputs": [
    {
     "name": "stdout",
     "output_type": "stream",
     "text": [
      "Epoch 1/30\n"
     ]
    },
    {
     "name": "stderr",
     "output_type": "stream",
     "text": [
      "2024-02-05 10:06:44.391476: I tensorflow/core/grappler/optimizers/custom_graph_optimizer_registry.cc:117] Plugin optimizer for device_type GPU is enabled.\n"
     ]
    },
    {
     "name": "stdout",
     "output_type": "stream",
     "text": [
      "25/25 [==============================] - 2s 38ms/step - loss: 0.9099 - accuracy: 0.5045 - val_loss: 0.6669 - val_accuracy: 0.5943\n",
      "Epoch 2/30\n",
      "25/25 [==============================] - 0s 16ms/step - loss: 0.7543 - accuracy: 0.5159 - val_loss: 0.6904 - val_accuracy: 0.5472\n",
      "Epoch 3/30\n",
      "25/25 [==============================] - 0s 17ms/step - loss: 0.7032 - accuracy: 0.5364 - val_loss: 0.7009 - val_accuracy: 0.3962\n",
      "Epoch 4/30\n",
      "25/25 [==============================] - 0s 16ms/step - loss: 0.6949 - accuracy: 0.5402 - val_loss: 0.6900 - val_accuracy: 0.5000\n",
      "Epoch 5/30\n",
      "25/25 [==============================] - 0s 16ms/step - loss: 0.6932 - accuracy: 0.5395 - val_loss: 0.7031 - val_accuracy: 0.2028\n",
      "Epoch 6/30\n",
      "25/25 [==============================] - 0s 16ms/step - loss: 0.7048 - accuracy: 0.5051 - val_loss: 0.6933 - val_accuracy: 0.4245\n",
      "Epoch 7/30\n",
      "25/25 [==============================] - 0s 15ms/step - loss: 0.6899 - accuracy: 0.5440 - val_loss: 0.7043 - val_accuracy: 0.3915\n",
      "Epoch 8/30\n",
      "25/25 [==============================] - 0s 15ms/step - loss: 0.6985 - accuracy: 0.5210 - val_loss: 0.6920 - val_accuracy: 0.5000\n",
      "Epoch 9/30\n",
      "25/25 [==============================] - 0s 15ms/step - loss: 0.6942 - accuracy: 0.5281 - val_loss: 0.6962 - val_accuracy: 0.4387\n",
      "Epoch 10/30\n",
      "25/25 [==============================] - 0s 15ms/step - loss: 0.6840 - accuracy: 0.5555 - val_loss: 0.7016 - val_accuracy: 0.4151\n",
      "Epoch 11/30\n",
      "25/25 [==============================] - 0s 15ms/step - loss: 0.6856 - accuracy: 0.5491 - val_loss: 0.6903 - val_accuracy: 0.6179\n",
      "Epoch 12/30\n",
      "25/25 [==============================] - 0s 15ms/step - loss: 0.6953 - accuracy: 0.5242 - val_loss: 0.6874 - val_accuracy: 0.6509\n",
      "Epoch 13/30\n",
      "25/25 [==============================] - 0s 16ms/step - loss: 0.6872 - accuracy: 0.5497 - val_loss: 0.7110 - val_accuracy: 0.6132\n",
      "Epoch 14/30\n",
      "25/25 [==============================] - 0s 16ms/step - loss: 0.6865 - accuracy: 0.5434 - val_loss: 0.7095 - val_accuracy: 0.4104\n",
      "Epoch 15/30\n",
      "25/25 [==============================] - 0s 16ms/step - loss: 0.6926 - accuracy: 0.5472 - val_loss: 0.6905 - val_accuracy: 0.5094\n",
      "Epoch 16/30\n",
      "25/25 [==============================] - 0s 16ms/step - loss: 0.6885 - accuracy: 0.5555 - val_loss: 0.6947 - val_accuracy: 0.5283\n",
      "Epoch 17/30\n",
      "25/25 [==============================] - 0s 16ms/step - loss: 0.6911 - accuracy: 0.5536 - val_loss: 0.6968 - val_accuracy: 0.5000\n",
      "Epoch 18/30\n",
      "25/25 [==============================] - 0s 16ms/step - loss: 0.6845 - accuracy: 0.5695 - val_loss: 0.6986 - val_accuracy: 0.5189\n",
      "Epoch 19/30\n",
      "25/25 [==============================] - 0s 16ms/step - loss: 0.6847 - accuracy: 0.5568 - val_loss: 0.6726 - val_accuracy: 0.5708\n",
      "Epoch 20/30\n",
      "25/25 [==============================] - 0s 16ms/step - loss: 0.6813 - accuracy: 0.5574 - val_loss: 0.7061 - val_accuracy: 0.4528\n",
      "Epoch 21/30\n",
      "25/25 [==============================] - 0s 16ms/step - loss: 0.6838 - accuracy: 0.5517 - val_loss: 0.6731 - val_accuracy: 0.5236\n",
      "Epoch 22/30\n",
      "25/25 [==============================] - 0s 16ms/step - loss: 0.6801 - accuracy: 0.5676 - val_loss: 0.6738 - val_accuracy: 0.5566\n",
      "Epoch 23/30\n",
      "25/25 [==============================] - 0s 16ms/step - loss: 0.6883 - accuracy: 0.5568 - val_loss: 0.6772 - val_accuracy: 0.5094\n",
      "Epoch 24/30\n",
      "25/25 [==============================] - 0s 16ms/step - loss: 0.6861 - accuracy: 0.5568 - val_loss: 0.6892 - val_accuracy: 0.5189\n",
      "Epoch 25/30\n",
      "25/25 [==============================] - 0s 16ms/step - loss: 0.6851 - accuracy: 0.5599 - val_loss: 0.7032 - val_accuracy: 0.5047\n",
      "Epoch 26/30\n",
      "25/25 [==============================] - 0s 15ms/step - loss: 0.6860 - accuracy: 0.5574 - val_loss: 0.6581 - val_accuracy: 0.5660\n",
      "Epoch 27/30\n",
      "25/25 [==============================] - 0s 16ms/step - loss: 0.6770 - accuracy: 0.5740 - val_loss: 0.6560 - val_accuracy: 0.6179\n",
      "Epoch 28/30\n",
      "25/25 [==============================] - 0s 16ms/step - loss: 0.6773 - accuracy: 0.5651 - val_loss: 0.6541 - val_accuracy: 0.6462\n",
      "Epoch 29/30\n",
      "25/25 [==============================] - 0s 16ms/step - loss: 0.6786 - accuracy: 0.5446 - val_loss: 0.6790 - val_accuracy: 0.5189\n",
      "Epoch 30/30\n",
      "25/25 [==============================] - 0s 16ms/step - loss: 0.6749 - accuracy: 0.5753 - val_loss: 0.6776 - val_accuracy: 0.5094\n"
     ]
    }
   ],
   "source": [
    "# X_train_rescaled: Scaled features of the training set\n",
    "# y_train_resampled: Binary classes (after oversampling) corresponding to the training set\n",
    "# validation_data=(X_eval_rescaled, y_eval_class): Data used for validation during training\n",
    "\n",
    "history = model.fit(\n",
    "    X_train_rescaled,\n",
    "    y_train_resampled,\n",
    "    shuffle=True,\n",
    "    epochs=30,\n",
    "    batch_size=64,\n",
    "    validation_data=(X_eval_rescaled, y_eval_class),\n",
    ")"
   ]
  },
  {
   "cell_type": "markdown",
   "id": "1fbf2b847d6c21b3",
   "metadata": {
    "collapsed": false
   },
   "source": [
    "### Plot the accuracy of the model for the Training and Validation data"
   ]
  },
  {
   "cell_type": "code",
   "execution_count": 24,
   "id": "ed6346688ad6d634",
   "metadata": {
    "ExecuteTime": {
     "end_time": "2024-02-05T09:06:57.464640Z",
     "start_time": "2024-02-05T09:06:57.281816Z"
    },
    "collapsed": false
   },
   "outputs": [
    {
     "data": {
      "image/png": "[encoded data removed]",
      "text/plain": [
       "<Figure size 640x480 with 1 Axes>"
      ]
     },
     "metadata": {},
     "output_type": "display_data"
    }
   ],
   "source": [
    "plt.plot(history.history[\"accuracy\"])\n",
    "plt.plot(history.history[\"val_accuracy\"])\n",
    "plt.title(\"Model Accuracy with six features\")\n",
    "plt.ylabel(\"Accuracy\")\n",
    "plt.xlabel(\"Epochs\")\n",
    "plt.legend([\"Training\", \"Validation\"], loc=\"upper left\")\n",
    "\n",
    "# Set y-axis limits from 0 to 1\n",
    "plt.ylim(0, 1)\n",
    "\n",
    "# Show figure\n",
    "# Set the facecolor to white\n",
    "plt.gcf().set_facecolor(\"white\")\n",
    "\n",
    "# Save the figure with a white background\n",
    "plt.savefig(\"model_accuracy_feature_6.png\", facecolor='white')\n",
    "\n",
    "# Show figure\n",
    "plt.show()"
   ]
  },
  {
   "cell_type": "markdown",
   "id": "28f0d59a00a4a097",
   "metadata": {
    "collapsed": false
   },
   "source": [
    "### Plot the loss of the model for the Training and Validation data"
   ]
  },
  {
   "cell_type": "code",
   "execution_count": 25,
   "id": "fb6c4ef71f33f459",
   "metadata": {
    "ExecuteTime": {
     "end_time": "2024-02-05T09:06:57.665259Z",
     "start_time": "2024-02-05T09:06:57.464251Z"
    },
    "collapsed": false
   },
   "outputs": [
    {
     "data": {
      "image/png": "[encoded data removed]",
      "text/plain": [
       "<Figure size 640x480 with 1 Axes>"
      ]
     },
     "metadata": {},
     "output_type": "display_data"
    }
   ],
   "source": [
    "plt.plot(history.history[\"loss\"])\n",
    "plt.plot(history.history[\"val_loss\"])\n",
    "plt.title(\"Loss with six features\")\n",
    "plt.ylabel(\"loss\")\n",
    "plt.xlabel(\"Epochs\")\n",
    "plt.legend([\"Training\", \"Validation\"], loc=\"upper left\")\n",
    "\n",
    "# Show figure\n",
    "plt.gcf().set_facecolor(\"white\")\n",
    "\n",
    "# Save the figure with a white background\n",
    "plt.savefig(\"loss_feature_6.png\", facecolor='white')\n",
    "\n",
    "plt.show()"
   ]
  },
  {
   "cell_type": "markdown",
   "id": "1408a513198c53ce",
   "metadata": {
    "collapsed": false
   },
   "source": [
    "## c) Predicting the model"
   ]
  },
  {
   "cell_type": "code",
   "execution_count": 26,
   "id": "905b8ce15425ac4b",
   "metadata": {
    "ExecuteTime": {
     "end_time": "2024-02-05T09:06:57.909195Z",
     "start_time": "2024-02-05T09:06:57.666804Z"
    },
    "collapsed": false
   },
   "outputs": [
    {
     "name": "stdout",
     "output_type": "stream",
     "text": [
      "9/9 [==============================] - 0s 8ms/step\n"
     ]
    }
   ],
   "source": [
    "# Predict using the trained model on rescaled testing data\n",
    "risk_predictions = model.predict(X_test_rescaled)"
   ]
  },
  {
   "cell_type": "markdown",
   "id": "97ced0701ed306a8",
   "metadata": {
    "collapsed": false
   },
   "source": [
    "### High/low risk distribution of predicted risk without classification"
   ]
  },
  {
   "cell_type": "code",
   "execution_count": 27,
   "id": "375ebdaf9288d1b0",
   "metadata": {
    "ExecuteTime": {
     "end_time": "2024-02-05T09:06:58.169977Z",
     "start_time": "2024-02-05T09:06:57.910668Z"
    },
    "collapsed": false
   },
   "outputs": [
    {
     "data": {
      "text/plain": [
       "<Axes: ylabel='Count'>"
      ]
     },
     "execution_count": 27,
     "metadata": {},
     "output_type": "execute_result"
    },
    {
     "data": {
      "image/png": "[encoded data removed]",
      "text/plain": [
       "<Figure size 640x480 with 1 Axes>"
      ]
     },
     "metadata": {},
     "output_type": "display_data"
    }
   ],
   "source": [
    "# Display the distribution of the predicted risk\n",
    "plot_distribution(risk_predictions, classification=False)"
   ]
  },
  {
   "cell_type": "markdown",
   "id": "42b73501323ff082",
   "metadata": {
    "collapsed": false
   },
   "source": [
    "### Find best threshold for binary classification for F-beta score"
   ]
  },
  {
   "cell_type": "code",
   "execution_count": 28,
   "id": "942f75cb853cb6c2",
   "metadata": {
    "ExecuteTime": {
     "end_time": "2024-02-05T09:06:58.985394Z",
     "start_time": "2024-02-05T09:06:58.160824Z"
    },
    "collapsed": false
   },
   "outputs": [
    {
     "name": "stdout",
     "output_type": "stream",
     "text": [
      "Best Threshold: 0.42042042042042044\n",
      "Best F-beta Score: 0.299625468164794\n"
     ]
    }
   ],
   "source": [
    "from src.utils.calculate_threshold import find_best_threshold\n",
    "\n",
    "best_threshold, best_score = find_best_threshold(y_test_class, risk_predictions)\n",
    "\n",
    "print(\"Best Threshold:\", best_threshold)\n",
    "print(\"Best F-beta Score:\", best_score)"
   ]
  },
  {
   "cell_type": "markdown",
   "id": "2c8eec3d277bdb34",
   "metadata": {
    "collapsed": false
   },
   "source": [
    "### High/low risk distribution of risk predictions with computed threshold"
   ]
  },
  {
   "cell_type": "code",
   "execution_count": 29,
   "id": "4577a5037c42f04a",
   "metadata": {
    "ExecuteTime": {
     "end_time": "2024-02-05T09:06:59.310324Z",
     "start_time": "2024-02-05T09:06:58.994546Z"
    },
    "collapsed": false
   },
   "outputs": [
    {
     "name": "stdout",
     "output_type": "stream",
     "text": [
      "Risk Distribution Statistics:\n",
      "High Risk: 191\n",
      "Low Risk: 74\n",
      "Percent High Risk: 72.0754716981132\n"
     ]
    },
    {
     "data": {
      "text/plain": [
       "{'High Risk': 191, 'Low Risk': 74, 'Percent High Risk': 72.0754716981132}"
      ]
     },
     "execution_count": 29,
     "metadata": {},
     "output_type": "execute_result"
    },
    {
     "data": {
      "image/png": "[encoded data removed]",
      "text/plain": [
       "<Figure size 640x480 with 1 Axes>"
      ]
     },
     "metadata": {},
     "output_type": "display_data"
    }
   ],
   "source": [
    "# Display the distribution of the resampled binary classes\n",
    "plot_distribution(risk_predictions, threshold=best_threshold)"
   ]
  },
  {
   "cell_type": "markdown",
   "id": "1b2ed0b7600efdca",
   "metadata": {
    "collapsed": false
   },
   "source": [
    "# 3) Evaluation of the model"
   ]
  },
  {
   "cell_type": "markdown",
   "id": "457933cfef959001",
   "metadata": {
    "collapsed": false
   },
   "source": [
    "**F-beta score**:\n",
    "\n",
    "It's a metric that balances precision and recall, with the emphasis on recall. By using the beta parameter (here, set to 2), we're placing more importance on recall than precision. This is crucial in scenarios where false negatives (missed positive cases) are more costly than false positives."
   ]
  },
  {
   "cell_type": "markdown",
   "id": "73957dd01fec3104",
   "metadata": {
    "collapsed": false
   },
   "source": [
    "**Explanation for the values [-5, -6.0001]:**\n",
    "\n",
    "Took from the [Case Study](https://github.com/jaimeperezsanchez/Collision_Avoidance_Challenge_Deep_Learning/blob/master/Technical_Report.pdf):\n",
    "For the MSE computation, we set all the low-risk prediction as close as possible to the threshold (risk greater or equal to -6). This makes the scores improve a lot as the maximum difference while computing the MSE between two values is now -6 (the high-risk range) instead of -30 (the total risk range)."
   ]
  },
  {
   "cell_type": "code",
   "execution_count": 30,
   "id": "c9fb7c5ed2eeed62",
   "metadata": {
    "ExecuteTime": {
     "end_time": "2024-02-05T09:06:59.315569Z",
     "start_time": "2024-02-05T09:06:59.307929Z"
    },
    "collapsed": false
   },
   "outputs": [
    {
     "name": "stdout",
     "output_type": "stream",
     "text": [
      "F-beta score:  0.299625468164794\n"
     ]
    }
   ],
   "source": [
    "from src.utils.calculate_statistics import calculate_statistics_for_evaluation\n",
    "\n",
    "predictions_real = np.where(risk_predictions >= best_threshold, -5, -6.0001)\n",
    "\n",
    "# Calculate F-beta and MSE_HR scores\n",
    "f_beta = calculate_statistics_for_evaluation(y_pred=predictions_real, y_true=y_test)\n",
    "print(\"F-beta score: \", f_beta)"
   ]
  }
 ],
 "metadata": {
  "kernelspec": {
   "display_name": "Python 3",
   "language": "python",
   "name": "python3"
  },
  "language_info": {
   "codemirror_mode": {
    "name": "ipython",
    "version": 2
   },
   "file_extension": ".py",
   "mimetype": "text/x-python",
   "name": "python",
   "nbconvert_exporter": "python",
   "pygments_lexer": "ipython2",
   "version": "2.7.6"
  }
 },
 "nbformat": 4,
 "nbformat_minor": 5
}
