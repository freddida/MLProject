{
 "cells": [
  {
   "cell_type": "code",
   "execution_count": 17,
   "id": "initial_id",
   "metadata": {
    "collapsed": true,
    "ExecuteTime": {
     "end_time": "2024-01-29T14:31:34.092226Z",
     "start_time": "2024-01-29T14:31:34.059098Z"
    }
   },
   "outputs": [
    {
     "name": "stdout",
     "output_type": "stream",
     "text": [
      "tensor([1.], device='mps:0')\n"
     ]
    }
   ],
   "source": [
    "from src.utils.check_mps_device import check_mps_device\n",
    "\n",
    "from src.utils.data_loading import load_data\n",
    "from src.utils.filtering import filter_data\n",
    "\n",
    "from src.utils.label_encoding import label_encode_column\n",
    "\n",
    "import numpy as np\n",
    "\n",
    "# Check if PyTorch Multi-Process Service (MPS) is available (GPU)\n",
    "check_mps_device()"
   ]
  },
  {
   "cell_type": "code",
   "outputs": [],
   "source": [
    "selected_features = [\n",
    "    \"geocentric_latitude\",  # Latitude of conjunction point [deg]\n",
    "    \"c_sigma_rdot\",  # covariance; radial velocity standard deviation (sigma) of chaser [m/s]\n",
    "    \"c_obs_used\",  # number of observations used for orbit determination (per CDM) of chaser\n",
    "    \"c_time_lastob_start\",\n",
    "    # start of the time in days of the last accepted observation used in the orbit determination of chaser\n",
    "    \"c_time_lastob_end\",\n",
    "    # end of the time interval in days of the last accepted observation used in the orbit determination of chaser\n",
    "    \"mahalanobis_distance\",  # The distance between the chaser and target\n",
    "    \"miss_distance\",  # relative position between chaser & target at tca [m\n",
    "    \"time_to_tca\",  # Time interval between CDM creation and time-of-closest approach [days]\n",
    "    \"t_cndot_r\",\n",
    "    # covariance; correlation of normal (cross-track) velocity vs radial position of chaser\n",
    "    \"c_cr_area_over_mass\",\n",
    "    # solar radiation coefficient . A/m (ballistic coefficient equivalent) of chaser\n",
    "    \"max_risk_estimate\",  # maximum collision probability obtained by scaling combined covariance\n",
    "    \"c_span\",  # size used by the collision risk computation algorithm of chaser [m]\n",
    "    \"max_risk_scaling\",  # scaling factor used to compute maximum collision probability\n",
    "    \"t_rcs_estimate\",  # radar cross-sectional area [m2m2] of target\n",
    "    \"c_sigma_t\",\n",
    "    # covariance; transverse (along-track) position standard deviation (sigma) of chaser [m]\n",
    "    \"c_obs_available\",  # number of observations available for orbit determination (per CDM),\n",
    "    \"risk\",\n",
    "]"
   ],
   "metadata": {
    "collapsed": false,
    "ExecuteTime": {
     "end_time": "2024-01-29T14:31:34.101220Z",
     "start_time": "2024-01-29T14:31:34.083729Z"
    }
   },
   "id": "efaacfa08cb5d5f1",
   "execution_count": 18
  },
  {
   "cell_type": "code",
   "outputs": [
    {
     "name": "stdout",
     "output_type": "stream",
     "text": [
      "Raw data\n",
      "<class 'pandas.core.frame.DataFrame'>\n",
      "RangeIndex: 162634 entries, 0 to 162633\n",
      "Columns: 103 entries, event_id to AP\n",
      "dtypes: float64(98), int64(4), object(1)\n",
      "memory usage: 127.8+ MB\n",
      "Filtered data\n",
      "<class 'pandas.core.frame.DataFrame'>\n",
      "RangeIndex: 3032 entries, 0 to 3031\n",
      "Columns: 103 entries, event_id to AP\n",
      "dtypes: float64(98), int64(4), object(1)\n",
      "memory usage: 2.4+ MB\n"
     ]
    }
   ],
   "source": [
    "# Load and data and filter it\n",
    "df = load_data()\n",
    "df_filtered = filter_data(df)\n",
    "\n",
    "# Remove rows with missing values\n",
    "df_filtered.dropna(axis=0, how=\"any\", inplace=True)\n",
    "\n",
    "# Label encode the categorical column \"c_object_type\"\n",
    "label_encode_column(df_filtered, \"c_object_type\")\n",
    "\n",
    "# Call the function to get the processed DataFrame\n",
    "df_processed = df_filtered[selected_features]\n",
    "\n",
    "# Separate features and target variable\n",
    "X = df_processed.drop('risk', axis=1)  # features (17)\n",
    "y = df_processed['risk']  # target"
   ],
   "metadata": {
    "collapsed": false,
    "ExecuteTime": {
     "end_time": "2024-01-29T14:31:36.791975Z",
     "start_time": "2024-01-29T14:31:34.105765Z"
    }
   },
   "id": "fd101080fa6f3345",
   "execution_count": 19
  },
  {
   "cell_type": "code",
   "outputs": [
    {
     "name": "stdout",
     "output_type": "stream",
     "text": [
      "(1058, 16)\n",
      "(1058,)\n",
      "(265, 16)\n",
      "(265,)\n"
     ]
    }
   ],
   "source": [
    "from sklearn.model_selection import train_test_split\n",
    "\n",
    "y_class = np.where(y >= -6, 1, 0)\n",
    "# Split the data into training and testing sets\n",
    "X_train, X_test, y_train, y_test = train_test_split(X, y, test_size=0.2, random_state=42, shuffle=True,\n",
    "                                                    stratify=y_class)\n",
    "# \n",
    "# X_train, X_val, y_train_real, y_val_real = train_test_split(X_t, y_t_real, \n",
    "#                                                             test_size=0.20, \n",
    "#                                                             random_state=21,  \n",
    "#                                                             shuffle=True,\n",
    "#                                                             stratify=y_t_class)\n",
    "# \n",
    "print(X_train.shape)\n",
    "print(y_train.shape)\n",
    "print(X_test.shape)\n",
    "print(y_test.shape)"
   ],
   "metadata": {
    "collapsed": false,
    "ExecuteTime": {
     "end_time": "2024-01-29T14:31:36.804291Z",
     "start_time": "2024-01-29T14:31:36.783761Z"
    }
   },
   "id": "5148189349077432",
   "execution_count": 20
  },
  {
   "cell_type": "markdown",
   "source": [
    "## SMOTE"
   ],
   "metadata": {
    "collapsed": false
   },
   "id": "1187a18766ac3523"
  },
  {
   "cell_type": "code",
   "outputs": [],
   "source": [
    "from imblearn.over_sampling import SMOTE\n",
    "\n",
    "# Apply SMOTE to the training data to balance the classes\n",
    "y_train = np.where(y_train >= -6, 1, 0)\n",
    "\n",
    "smote = SMOTE(random_state=42, k_neighbors=20)\n",
    "X_train_resampled, y_train_resampled = smote.fit_resample(X_train, y_train)"
   ],
   "metadata": {
    "collapsed": false,
    "ExecuteTime": {
     "end_time": "2024-01-29T14:31:36.804986Z",
     "start_time": "2024-01-29T14:31:36.789740Z"
    }
   },
   "id": "af3e8e5105f8a454",
   "execution_count": 21
  },
  {
   "cell_type": "code",
   "outputs": [
    {
     "name": "stdout",
     "output_type": "stream",
     "text": [
      "Testing set shape: (265, 16) (265,)\n",
      "Training set shape: (1962, 16) (1962,)\n"
     ]
    }
   ],
   "source": [
    "from sklearn.preprocessing import StandardScaler\n",
    "\n",
    "# Perform scaling after splitting the data\n",
    "scaler = StandardScaler()\n",
    "\n",
    "# Fit the scaler on the training set\n",
    "X_train_final = scaler.fit_transform(X_train_resampled)\n",
    "y_train_final = y_train_resampled\n",
    "\n",
    "X_test_final = scaler.transform(X_test)\n",
    "y_test_final = y_test\n",
    "# # Display the shapes of the sets\n",
    "print(\"Testing set shape:\", X_test_final.shape, y_test_final.shape)\n",
    "print(\"Training set shape:\", X_train_final.shape, y_train_final.shape)"
   ],
   "metadata": {
    "collapsed": false,
    "ExecuteTime": {
     "end_time": "2024-01-29T14:31:36.812536Z",
     "start_time": "2024-01-29T14:31:36.800364Z"
    }
   },
   "id": "3351adb4efae986c",
   "execution_count": 22
  },
  {
   "cell_type": "markdown",
   "source": [
    "## Model Selection"
   ],
   "metadata": {
    "collapsed": false
   },
   "id": "9cc6da3b1416d044"
  },
  {
   "cell_type": "code",
   "outputs": [],
   "source": [
    "from sklearn.ensemble import RandomForestRegressor\n",
    "from sklearn.model_selection import GridSearchCV\n",
    "\n",
    "# Hyperparameter Tuning\n",
    "param_grid = {\n",
    "    'Random Forest': {\n",
    "        'n_estimators': [50, 100],\n",
    "        'max_depth': [None, 10],\n",
    "        'min_samples_split': [2, 5],\n",
    "        'min_samples_leaf': [1, 2]\n",
    "    }\n",
    "}\n",
    "\n",
    "best_models = {}\n",
    "\n",
    "# Only consider Random Forest Regressor\n",
    "model_name = 'Random Forest'\n",
    "model = RandomForestRegressor()\n",
    "\n",
    "if model_name in param_grid:\n",
    "    # Use GridSearchCV for hyperparameter tuning\n",
    "    grid_search = GridSearchCV(model, param_grid[model_name], scoring='neg_mean_squared_error', cv=5)\n",
    "    grid_search.fit(X_train_final, y_train_final)\n",
    "    best_models[model_name] = grid_search.best_estimator_\n",
    "else:\n",
    "    # For Random Forest Regressor without hyperparameters, use the default configuration\n",
    "    best_models[model_name] = model.fit(X_train_final, y_train_final)"
   ],
   "metadata": {
    "collapsed": false,
    "ExecuteTime": {
     "end_time": "2024-01-29T14:32:19.089948Z",
     "start_time": "2024-01-29T14:31:36.814024Z"
    }
   },
   "id": "cbda91954976dd80",
   "execution_count": 23
  },
  {
   "cell_type": "code",
   "outputs": [
    {
     "name": "stdout",
     "output_type": "stream",
     "text": [
      "Shapes before calculation for Random Forest:\n",
      "y_test_final shape: (265,)\n",
      "y_pred shape: (265,)\n",
      "Best Model: Random Forest\n",
      "Score: 1.289534146107888\n",
      "F-beta Score: 0.2785923753665689\n",
      "MSE_HR Score: 0.3592543808804966\n"
     ]
    }
   ],
   "source": [
    "from src.utils.f_beta import calculate_f_beta_sklearn\n",
    "\n",
    "# Create dictionaries to store results\n",
    "f_beta_scores = {}\n",
    "mse_hr_scores = {}\n",
    "\n",
    "# Train the Random Forest model\n",
    "best_model_name = 'Random Forest'\n",
    "\n",
    "# Predict on the test set\n",
    "y_pred_test = best_models[model_name].predict(X_test_final)\n",
    "y_pred = np.where(y_pred_test >= -6, -5, -6.00001)\n",
    "\n",
    "# Check the shapes before calculating the scores\n",
    "print(f\"Shapes before calculation for {best_model_name}:\")\n",
    "print(\"y_test_final shape:\", y_test_final.shape)\n",
    "print(\"y_pred shape:\", y_pred.shape)\n",
    "\n",
    "# Calculate F-beta and MSE_HR scores\n",
    "score2, f_beta2, mse_hr2 = calculate_f_beta_sklearn(y_test_final, y_pred, beta=2, threshold=-6)\n",
    "\n",
    "print(f\"Best Model: {best_model_name}\")\n",
    "print(f\"Score: {score2}\")\n",
    "print(f\"F-beta Score: {f_beta2}\")\n",
    "print(f\"MSE_HR Score: {mse_hr2}\")"
   ],
   "metadata": {
    "collapsed": false,
    "ExecuteTime": {
     "end_time": "2024-01-29T14:32:19.104067Z",
     "start_time": "2024-01-29T14:32:19.093246Z"
    }
   },
   "id": "d4e7b5176a62f90",
   "execution_count": 24
  },
  {
   "cell_type": "code",
   "outputs": [
    {
     "name": "stdout",
     "output_type": "stream",
     "text": [
      "[-5. -5. -5. -5. -5. -5. -5. -5. -5. -5. -5. -5. -5. -5. -5. -5. -5. -5.\n",
      " -5. -5. -5. -5. -5. -5. -5. -5. -5. -5. -5. -5. -5. -5. -5. -5. -5. -5.\n",
      " -5. -5. -5. -5. -5. -5. -5. -5. -5. -5. -5. -5. -5. -5. -5. -5. -5. -5.\n",
      " -5. -5. -5. -5. -5. -5. -5. -5. -5. -5. -5. -5. -5. -5. -5. -5. -5. -5.\n",
      " -5. -5. -5. -5. -5. -5. -5. -5. -5. -5. -5. -5. -5. -5. -5. -5. -5. -5.\n",
      " -5. -5. -5. -5. -5. -5. -5. -5. -5. -5. -5. -5. -5. -5. -5. -5. -5. -5.\n",
      " -5. -5. -5. -5. -5. -5. -5. -5. -5. -5. -5. -5. -5. -5. -5. -5. -5. -5.\n",
      " -5. -5. -5. -5. -5. -5. -5. -5. -5. -5. -5. -5. -5. -5. -5. -5. -5. -5.\n",
      " -5. -5. -5. -5. -5. -5. -5. -5. -5. -5. -5. -5. -5. -5. -5. -5. -5. -5.\n",
      " -5. -5. -5. -5. -5. -5. -5. -5. -5. -5. -5. -5. -5. -5. -5. -5. -5. -5.\n",
      " -5. -5. -5. -5. -5. -5. -5. -5. -5. -5. -5. -5. -5. -5. -5. -5. -5. -5.\n",
      " -5. -5. -5. -5. -5. -5. -5. -5. -5. -5. -5. -5. -5. -5. -5. -5. -5. -5.\n",
      " -5. -5. -5. -5. -5. -5. -5. -5. -5. -5. -5. -5. -5. -5. -5. -5. -5. -5.\n",
      " -5. -5. -5. -5. -5. -5. -5. -5. -5. -5. -5. -5. -5. -5. -5. -5. -5. -5.\n",
      " -5. -5. -5. -5. -5. -5. -5. -5. -5. -5. -5. -5. -5.]\n"
     ]
    }
   ],
   "source": [
    "print(y_pred)"
   ],
   "metadata": {
    "collapsed": false,
    "ExecuteTime": {
     "end_time": "2024-01-29T14:32:19.108743Z",
     "start_time": "2024-01-29T14:32:19.103496Z"
    }
   },
   "id": "451f97ed8d5b2376",
   "execution_count": 25
  },
  {
   "cell_type": "code",
   "outputs": [
    {
     "name": "stdout",
     "output_type": "stream",
     "text": [
      "[0.   0.   0.   0.   0.   0.   0.   0.   0.   0.   0.   0.   0.   0.\n",
      " 0.   0.98 0.   0.   0.   0.   0.   0.   0.   0.   0.02 0.   0.   0.\n",
      " 0.   0.   0.   1.   0.   0.   0.   0.   0.01 0.   0.02 0.   0.   0.\n",
      " 0.   0.   0.   0.   0.   0.   0.   0.   0.   0.   0.   0.   0.   0.\n",
      " 0.   0.   0.   0.   0.   0.   0.58 0.02 0.   0.   0.   0.   1.   0.\n",
      " 0.01 0.   0.   0.   0.   0.   0.   0.   0.   0.5  0.   0.   0.   0.27\n",
      " 0.13 0.   0.   0.   0.   0.   0.   0.   1.   0.   0.   0.   0.   0.\n",
      " 0.03 1.   0.   0.   0.   0.   0.   0.   0.   0.   0.   0.   0.   0.\n",
      " 0.   0.   0.56 0.   0.   0.   0.   0.   0.   0.   0.   0.   0.   0.\n",
      " 0.   0.   0.   0.   0.   0.   0.   0.   0.   0.   0.   0.   0.   0.\n",
      " 0.96 0.   0.   0.   0.   0.   0.   0.   0.   0.   0.   0.   0.   0.\n",
      " 0.   0.   0.   0.   0.   0.   0.   0.   0.99 0.   0.   0.   0.   0.\n",
      " 0.   0.   0.   0.   0.   0.   0.   0.   1.   0.   0.   0.   0.   0.\n",
      " 0.   0.   1.   0.   0.   0.   0.   0.   0.   0.   1.   0.   0.   0.\n",
      " 0.   0.   0.   0.   0.   0.   1.   1.   0.   0.   0.   0.   0.   1.\n",
      " 0.   0.   0.   0.   0.   0.   0.   0.   0.   0.   0.   0.   0.   0.\n",
      " 0.   0.   0.   0.   0.   0.   0.   0.   0.   0.   0.   0.   0.   0.\n",
      " 0.   0.   0.   0.   0.   0.   0.   0.   0.   0.   0.   1.   0.02 1.\n",
      " 0.   0.   0.   1.   0.   0.   0.   0.27 0.98 0.   1.   0.   1.  ]\n"
     ]
    }
   ],
   "source": [
    "print(y_pred_test)"
   ],
   "metadata": {
    "collapsed": false,
    "ExecuteTime": {
     "end_time": "2024-01-29T14:48:25.602683Z",
     "start_time": "2024-01-29T14:48:25.563473Z"
    }
   },
   "id": "d7fa119d4ea1a910",
   "execution_count": 33
  },
  {
   "cell_type": "code",
   "outputs": [
    {
     "data": {
      "text/plain": "2790    -8.111821\n1921   -30.000000\n1990   -30.000000\n556    -10.236048\n1829    -9.498804\n          ...    \n249     -5.264880\n2387   -30.000000\n1391    -5.813326\n2202   -11.787280\n1982    -4.388595\nName: risk, Length: 265, dtype: float64"
     },
     "execution_count": 31,
     "metadata": {},
     "output_type": "execute_result"
    }
   ],
   "source": [
    "y_test_final"
   ],
   "metadata": {
    "collapsed": false,
    "ExecuteTime": {
     "end_time": "2024-01-29T14:48:01.619926Z",
     "start_time": "2024-01-29T14:48:01.614821Z"
    }
   },
   "id": "dfcedc2e4b6117d9",
   "execution_count": 31
  },
  {
   "cell_type": "code",
   "outputs": [],
   "source": [],
   "metadata": {
    "collapsed": false
   },
   "id": "3fb40420da8343f7"
  }
 ],
 "metadata": {
  "kernelspec": {
   "display_name": "Python 3",
   "language": "python",
   "name": "python3"
  },
  "language_info": {
   "codemirror_mode": {
    "name": "ipython",
    "version": 2
   },
   "file_extension": ".py",
   "mimetype": "text/x-python",
   "name": "python",
   "nbconvert_exporter": "python",
   "pygments_lexer": "ipython2",
   "version": "2.7.6"
  }
 },
 "nbformat": 4,
 "nbformat_minor": 5
}
