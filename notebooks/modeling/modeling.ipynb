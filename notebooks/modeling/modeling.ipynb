{
 "cells": [
  {
   "cell_type": "code",
   "execution_count": 1,
   "id": "initial_id",
   "metadata": {
    "collapsed": true,
    "ExecuteTime": {
     "end_time": "2024-01-10T09:41:18.159411Z",
     "start_time": "2024-01-10T09:41:16.939321Z"
    }
   },
   "outputs": [],
   "source": [
    "import torch\n",
    "import torch.nn as nn\n",
    "import torch.optim as optim\n",
    "from src.data_loading import create_dataloader"
   ]
  },
  {
   "cell_type": "code",
   "outputs": [],
   "source": [
    "# Define a simple regression model\n",
    "class RegressionModel(nn.Module):\n",
    "    def __init__(self, input_size):\n",
    "        super(RegressionModel, self).__init__()\n",
    "        self.fc = nn.Linear(input_size, 1)\n",
    "\n",
    "    def forward(self, x):\n",
    "        return self.fc(x)\n",
    "depricated"
   ],
   "metadata": {
    "collapsed": false,
    "ExecuteTime": {
     "end_time": "2024-01-10T09:41:19.706533Z",
     "start_time": "2024-01-10T09:41:19.702832Z"
    }
   },
   "id": "63644d48c5534662",
   "execution_count": 2
  },
  {
   "cell_type": "code",
   "outputs": [],
   "source": [
    "def train_model(model, train_loader, criterion, optimizer, num_epochs=10):\n",
    "    model.train()\n",
    "    for epoch in range(num_epochs):\n",
    "        running_loss = 0.0\n",
    "        for inputs, labels in train_loader:\n",
    "            optimizer.zero_grad()\n",
    "            outputs = model(inputs)\n",
    "            loss = criterion(outputs.squeeze(), labels)\n",
    "            loss.backward()\n",
    "            optimizer.step()\n",
    "            running_loss += loss.item()\n",
    "\n",
    "        epoch_loss = running_loss / len(train_loader)\n",
    "        print(f\"Epoch {epoch + 1}/{num_epochs}, Loss: {epoch_loss:.4f}\")"
   ],
   "metadata": {
    "collapsed": false,
    "ExecuteTime": {
     "end_time": "2024-01-10T09:41:19.851160Z",
     "start_time": "2024-01-10T09:41:19.847573Z"
    }
   },
   "id": "67067b803f62d62b",
   "execution_count": 3
  },
  {
   "cell_type": "code",
   "outputs": [],
   "source": [
    "# Set random seed for reproducibility\n",
    "torch.manual_seed(42)\n",
    "selected_features = ['time_to_tca', 'max_risk_estimate', 'c_time_lastob_start', 'c_time_lastob_end', 'c_ctdot_r']\n",
    "\n",
    "# Hyperparameters\n",
    "input_size = len(selected_features)  # Adjust based on your selected features\n",
    "learning_rate = 0.001\n",
    "num_epochs = 10"
   ],
   "metadata": {
    "collapsed": false,
    "ExecuteTime": {
     "end_time": "2024-01-10T09:41:20.011179Z",
     "start_time": "2024-01-10T09:41:20.005306Z"
    }
   },
   "id": "49795cc34aae2a20",
   "execution_count": 4
  },
  {
   "cell_type": "code",
   "outputs": [
    {
     "name": "stdout",
     "output_type": "stream",
     "text": [
      "Columns in the dataset: Index(['time_to_tca', 'risk', 'max_risk_estimate', 'c_time_lastob_start',\n",
      "       'c_time_lastob_end', 'c_ctdot_r'],\n",
      "      dtype='object')\n",
      "Length of features_train: 122714\n",
      "Length of features_val: 30679\n",
      "Length of train_dataloader.dataset: 122714\n"
     ]
    },
    {
     "data": {
      "text/plain": "   time_to_tca       risk  max_risk_estimate  c_time_lastob_start  \\\n0     1.566798 -10.204955          -7.834756                180.0   \n1     1.207494 -10.355758          -7.848937                180.0   \n2     0.952193 -10.345631          -7.847406                180.0   \n3     0.579669 -10.337809          -7.845880                180.0   \n4     0.257806 -10.391260          -7.852942                180.0   \n\n   c_time_lastob_end  c_ctdot_r  \n0                2.0  -0.732954  \n1                2.0  -0.728759  \n2                2.0  -0.729083  \n3                2.0  -0.728092  \n4                2.0  -0.727257  ",
      "text/html": "<div>\n<style scoped>\n    .dataframe tbody tr th:only-of-type {\n        vertical-align: middle;\n    }\n\n    .dataframe tbody tr th {\n        vertical-align: top;\n    }\n\n    .dataframe thead th {\n        text-align: right;\n    }\n</style>\n<table border=\"1\" class=\"dataframe\">\n  <thead>\n    <tr style=\"text-align: right;\">\n      <th></th>\n      <th>time_to_tca</th>\n      <th>risk</th>\n      <th>max_risk_estimate</th>\n      <th>c_time_lastob_start</th>\n      <th>c_time_lastob_end</th>\n      <th>c_ctdot_r</th>\n    </tr>\n  </thead>\n  <tbody>\n    <tr>\n      <th>0</th>\n      <td>1.566798</td>\n      <td>-10.204955</td>\n      <td>-7.834756</td>\n      <td>180.0</td>\n      <td>2.0</td>\n      <td>-0.732954</td>\n    </tr>\n    <tr>\n      <th>1</th>\n      <td>1.207494</td>\n      <td>-10.355758</td>\n      <td>-7.848937</td>\n      <td>180.0</td>\n      <td>2.0</td>\n      <td>-0.728759</td>\n    </tr>\n    <tr>\n      <th>2</th>\n      <td>0.952193</td>\n      <td>-10.345631</td>\n      <td>-7.847406</td>\n      <td>180.0</td>\n      <td>2.0</td>\n      <td>-0.729083</td>\n    </tr>\n    <tr>\n      <th>3</th>\n      <td>0.579669</td>\n      <td>-10.337809</td>\n      <td>-7.845880</td>\n      <td>180.0</td>\n      <td>2.0</td>\n      <td>-0.728092</td>\n    </tr>\n    <tr>\n      <th>4</th>\n      <td>0.257806</td>\n      <td>-10.391260</td>\n      <td>-7.852942</td>\n      <td>180.0</td>\n      <td>2.0</td>\n      <td>-0.727257</td>\n    </tr>\n  </tbody>\n</table>\n</div>"
     },
     "execution_count": 7,
     "metadata": {},
     "output_type": "execute_result"
    }
   ],
   "source": [
    "selected_columns = ['time_to_tca', 'max_risk_estimate', 'c_time_lastob_start', 'c_time_lastob_end', 'c_ctdot_r']\n",
    "batch_size = 32\n",
    "\n",
    "# Training DataLoader\n",
    "train_dataloader = create_dataloader(\n",
    "    csv_file='../../data/training/train_data.csv',\n",
    "    selected_columns=selected_columns,\n",
    "    is_train=True,\n",
    "    batch_size=batch_size\n",
    ")\n",
    "print(f\"Length of train_dataloader.dataset: {len(train_dataloader.dataset)}\")\n",
    "df = train_dataloader.dataset.data\n",
    "df.head()\n",
    "\n"
   ],
   "metadata": {
    "collapsed": false,
    "ExecuteTime": {
     "end_time": "2024-01-10T09:41:47.836050Z",
     "start_time": "2024-01-10T09:41:46.615229Z"
    }
   },
   "id": "55ff068a5d4fd419",
   "execution_count": 7
  },
  {
   "cell_type": "code",
   "outputs": [
    {
     "name": "stdout",
     "output_type": "stream",
     "text": [
      "Columns in the dataset: Index(['time_to_tca', 'risk', 'max_risk_estimate', 'c_time_lastob_start',\n",
      "       'c_time_lastob_end', 'c_ctdot_r'],\n",
      "      dtype='object')\n",
      "Length of features_train: 122714\n",
      "Length of features_val: 30679\n",
      "Length of val_dataloader.dataset: 30679\n"
     ]
    },
    {
     "data": {
      "text/plain": "   time_to_tca       risk  max_risk_estimate  c_time_lastob_start  \\\n0     1.566798 -10.204955          -7.834756                180.0   \n1     1.207494 -10.355758          -7.848937                180.0   \n2     0.952193 -10.345631          -7.847406                180.0   \n3     0.579669 -10.337809          -7.845880                180.0   \n4     0.257806 -10.391260          -7.852942                180.0   \n\n   c_time_lastob_end  c_ctdot_r  \n0                2.0  -0.732954  \n1                2.0  -0.728759  \n2                2.0  -0.729083  \n3                2.0  -0.728092  \n4                2.0  -0.727257  ",
      "text/html": "<div>\n<style scoped>\n    .dataframe tbody tr th:only-of-type {\n        vertical-align: middle;\n    }\n\n    .dataframe tbody tr th {\n        vertical-align: top;\n    }\n\n    .dataframe thead th {\n        text-align: right;\n    }\n</style>\n<table border=\"1\" class=\"dataframe\">\n  <thead>\n    <tr style=\"text-align: right;\">\n      <th></th>\n      <th>time_to_tca</th>\n      <th>risk</th>\n      <th>max_risk_estimate</th>\n      <th>c_time_lastob_start</th>\n      <th>c_time_lastob_end</th>\n      <th>c_ctdot_r</th>\n    </tr>\n  </thead>\n  <tbody>\n    <tr>\n      <th>0</th>\n      <td>1.566798</td>\n      <td>-10.204955</td>\n      <td>-7.834756</td>\n      <td>180.0</td>\n      <td>2.0</td>\n      <td>-0.732954</td>\n    </tr>\n    <tr>\n      <th>1</th>\n      <td>1.207494</td>\n      <td>-10.355758</td>\n      <td>-7.848937</td>\n      <td>180.0</td>\n      <td>2.0</td>\n      <td>-0.728759</td>\n    </tr>\n    <tr>\n      <th>2</th>\n      <td>0.952193</td>\n      <td>-10.345631</td>\n      <td>-7.847406</td>\n      <td>180.0</td>\n      <td>2.0</td>\n      <td>-0.729083</td>\n    </tr>\n    <tr>\n      <th>3</th>\n      <td>0.579669</td>\n      <td>-10.337809</td>\n      <td>-7.845880</td>\n      <td>180.0</td>\n      <td>2.0</td>\n      <td>-0.728092</td>\n    </tr>\n    <tr>\n      <th>4</th>\n      <td>0.257806</td>\n      <td>-10.391260</td>\n      <td>-7.852942</td>\n      <td>180.0</td>\n      <td>2.0</td>\n      <td>-0.727257</td>\n    </tr>\n  </tbody>\n</table>\n</div>"
     },
     "execution_count": 6,
     "metadata": {},
     "output_type": "execute_result"
    }
   ],
   "source": [
    "# Validation DataLoader\n",
    "val_dataloader = create_dataloader(\n",
    "    csv_file='../../data/training/train_data.csv',\n",
    "    selected_columns=selected_columns,\n",
    "    is_train=False,\n",
    "    batch_size=batch_size\n",
    ")\n",
    "print(f\"Length of val_dataloader.dataset: {len(val_dataloader.dataset)}\")\n",
    "df2 = val_dataloader.dataset.data\n",
    "df2.head()\n"
   ],
   "metadata": {
    "collapsed": false,
    "ExecuteTime": {
     "end_time": "2024-01-10T09:23:20.337769Z",
     "start_time": "2024-01-10T09:23:19.183822Z"
    }
   },
   "id": "626b1287636229e7",
   "execution_count": 6
  },
  {
   "cell_type": "code",
   "outputs": [
    {
     "name": "stdout",
     "output_type": "stream",
     "text": [
      "Columns in the dataset: Index(['time_to_tca', 'risk', 'max_risk_estimate', 'c_time_lastob_start',\n",
      "       'c_time_lastob_end', 'c_ctdot_r'],\n",
      "      dtype='object')\n",
      "Length of features_train: 18608\n",
      "Length of features_val: 4653\n",
      "Length of val_dataloader.dataset: 4653\n"
     ]
    },
    {
     "data": {
      "text/plain": "   time_to_tca      risk  max_risk_estimate  c_time_lastob_start  \\\n0     6.842095 -7.296967          -7.208941                180.0   \n1     6.571818 -7.282496          -7.199833                180.0   \n2     6.112986 -7.316053          -7.217886                180.0   \n3     5.921955 -7.334138          -7.228707                180.0   \n4     2.228761 -7.332267          -7.227312                180.0   \n\n   c_time_lastob_end  c_ctdot_r  \n0                2.0  -0.999539  \n1                2.0  -0.999553  \n2                2.0  -0.999520  \n3                2.0  -0.999501  \n4                2.0  -0.999495  ",
      "text/html": "<div>\n<style scoped>\n    .dataframe tbody tr th:only-of-type {\n        vertical-align: middle;\n    }\n\n    .dataframe tbody tr th {\n        vertical-align: top;\n    }\n\n    .dataframe thead th {\n        text-align: right;\n    }\n</style>\n<table border=\"1\" class=\"dataframe\">\n  <thead>\n    <tr style=\"text-align: right;\">\n      <th></th>\n      <th>time_to_tca</th>\n      <th>risk</th>\n      <th>max_risk_estimate</th>\n      <th>c_time_lastob_start</th>\n      <th>c_time_lastob_end</th>\n      <th>c_ctdot_r</th>\n    </tr>\n  </thead>\n  <tbody>\n    <tr>\n      <th>0</th>\n      <td>6.842095</td>\n      <td>-7.296967</td>\n      <td>-7.208941</td>\n      <td>180.0</td>\n      <td>2.0</td>\n      <td>-0.999539</td>\n    </tr>\n    <tr>\n      <th>1</th>\n      <td>6.571818</td>\n      <td>-7.282496</td>\n      <td>-7.199833</td>\n      <td>180.0</td>\n      <td>2.0</td>\n      <td>-0.999553</td>\n    </tr>\n    <tr>\n      <th>2</th>\n      <td>6.112986</td>\n      <td>-7.316053</td>\n      <td>-7.217886</td>\n      <td>180.0</td>\n      <td>2.0</td>\n      <td>-0.999520</td>\n    </tr>\n    <tr>\n      <th>3</th>\n      <td>5.921955</td>\n      <td>-7.334138</td>\n      <td>-7.228707</td>\n      <td>180.0</td>\n      <td>2.0</td>\n      <td>-0.999501</td>\n    </tr>\n    <tr>\n      <th>4</th>\n      <td>2.228761</td>\n      <td>-7.332267</td>\n      <td>-7.227312</td>\n      <td>180.0</td>\n      <td>2.0</td>\n      <td>-0.999495</td>\n    </tr>\n  </tbody>\n</table>\n</div>"
     },
     "execution_count": 7,
     "metadata": {},
     "output_type": "execute_result"
    }
   ],
   "source": [
    "# Validation DataLoader\n",
    "test_dataloader = create_dataloader(\n",
    "    csv_file='../../data/testing/test_data.csv',\n",
    "    selected_columns=selected_columns,\n",
    "    is_train=False,\n",
    "    batch_size=batch_size\n",
    ")\n",
    "print(f\"Length of val_dataloader.dataset: {len(test_dataloader.dataset)}\")\n",
    "df3 = test_dataloader.dataset.data\n",
    "df3.head()\n"
   ],
   "metadata": {
    "collapsed": false,
    "ExecuteTime": {
     "end_time": "2024-01-10T09:23:22.689743Z",
     "start_time": "2024-01-10T09:23:22.490506Z"
    }
   },
   "id": "31dcc80cfda0153a",
   "execution_count": 7
  },
  {
   "cell_type": "code",
   "outputs": [],
   "source": [
    "# Create the model, criterion, and optimizer\n",
    "model = RegressionModel(input_size)\n",
    "criterion = nn.MSELoss()\n",
    "optimizer = optim.Adam(model.parameters(), lr=learning_rate)"
   ],
   "metadata": {
    "collapsed": false,
    "ExecuteTime": {
     "end_time": "2024-01-10T09:23:36.533793Z",
     "start_time": "2024-01-10T09:23:36.307037Z"
    }
   },
   "id": "441a4b7f693382fb",
   "execution_count": 8
  },
  {
   "cell_type": "code",
   "outputs": [
    {
     "name": "stdout",
     "output_type": "stream",
     "text": [
      "Epoch 1/10, Loss: 322.9403\n",
      "Epoch 2/10, Loss: 217.2321\n",
      "Epoch 3/10, Loss: 157.0487\n",
      "Epoch 4/10, Loss: 125.3851\n",
      "Epoch 5/10, Loss: 108.7981\n",
      "Epoch 6/10, Loss: 98.4735\n",
      "Epoch 7/10, Loss: 90.1566\n",
      "Epoch 8/10, Loss: 82.7794\n",
      "Epoch 9/10, Loss: 76.4602\n",
      "Epoch 10/10, Loss: 71.3111\n"
     ]
    }
   ],
   "source": [
    "# Train the model\n",
    "train_model(model, train_dataloader, criterion, optimizer, num_epochs)"
   ],
   "metadata": {
    "collapsed": false,
    "ExecuteTime": {
     "end_time": "2024-01-10T09:24:39.575677Z",
     "start_time": "2024-01-10T09:23:37.954476Z"
    }
   },
   "id": "40d835f933d66b02",
   "execution_count": 9
  },
  {
   "cell_type": "code",
   "outputs": [],
   "source": [
    "def evaluate_model(model, val_loader, criterion):\n",
    "    model.eval()\n",
    "    total_loss = 0.0\n",
    "    with torch.no_grad():\n",
    "        for inputs, labels in val_loader:\n",
    "            outputs = model(inputs)\n",
    "            loss = criterion(outputs.squeeze(), labels)\n",
    "            total_loss += loss.item()\n",
    "    avg_loss = total_loss / len(val_loader)\n",
    "    return avg_loss\n"
   ],
   "metadata": {
    "collapsed": false,
    "ExecuteTime": {
     "end_time": "2024-01-10T09:24:39.576577Z",
     "start_time": "2024-01-10T09:24:39.572883Z"
    }
   },
   "id": "92cb9484c3ea48e4",
   "execution_count": 10
  },
  {
   "cell_type": "code",
   "outputs": [
    {
     "name": "stdout",
     "output_type": "stream",
     "text": [
      "Validation Loss: 68.7233\n"
     ]
    }
   ],
   "source": [
    "# Evaluate on the validation set\n",
    "val_loss = evaluate_model(model, val_dataloader, criterion)\n",
    "print(f'Validation Loss: {val_loss:.4f}')"
   ],
   "metadata": {
    "collapsed": false,
    "ExecuteTime": {
     "end_time": "2024-01-10T09:24:40.746021Z",
     "start_time": "2024-01-10T09:24:39.580065Z"
    }
   },
   "id": "c701681482a49f75",
   "execution_count": 11
  },
  {
   "cell_type": "code",
   "outputs": [
    {
     "name": "stdout",
     "output_type": "stream",
     "text": [
      "Test Loss: 69.1371\n"
     ]
    }
   ],
   "source": [
    "# Evaluate on the test set\n",
    "test_loss = evaluate_model(model, train_dataloader, criterion)\n",
    "print(f'Test Loss: {test_loss:.4f}')"
   ],
   "metadata": {
    "collapsed": false,
    "ExecuteTime": {
     "end_time": "2024-01-10T09:24:45.555317Z",
     "start_time": "2024-01-10T09:24:40.744303Z"
    }
   },
   "id": "66e248fd6d55e74d",
   "execution_count": 12
  },
  {
   "cell_type": "code",
   "outputs": [],
   "source": [
    "from sklearn.model_selection import train_test_split\n",
    "from sklearn.ensemble import RandomForestRegressor\n",
    "from sklearn.metrics import mean_squared_error\n",
    "\n",
    "df = load_data()\n",
    "df_filtered = filter_data(df)\n",
    "\n",
    "df_filtered.dropna(axis=0, how='any', inplace=True)\n",
    "\n",
    "label_encode_column(df_filtered, \"c_object_type\")\n",
    "\n",
    "features = df_filtered.drop([\"risk\"], axis=1)\n",
    "target = df_filtered[\"risk\"]\n",
    "\n",
    "# Assuming 'selected_features' is a DataFrame and 'target' is a Series\n",
    "selected_features = ['mahalanobis_distance', 'max_risk_estimate']\n",
    "# Split the data into training and testing sets\n",
    "X_train, X_test, y_train, y_test = train_test_split(df_filtered[selected_features], target, test_size=0.2, random_state=42)\n",
    "\n",
    "# Train the model (Random Forest as an example)\n",
    "model = RandomForestRegressor()\n",
    "model.fit(X_train, y_train)\n",
    "\n",
    "# Make predictions on the test set\n",
    "y_pred = model.predict(X_test)\n",
    "\n",
    "# Evaluate the model\n",
    "mse = mean_squared_error(y_test, y_pred)\n",
    "print(\"Mean Squared Error:\", mse)\n"
   ],
   "metadata": {
    "collapsed": false
   },
   "id": "7cc848fe4ec3c00a"
  }
 ],
 "metadata": {
  "kernelspec": {
   "name": ".venv",
   "language": "python",
   "display_name": ".venv"
  },
  "language_info": {
   "codemirror_mode": {
    "name": "ipython",
    "version": 2
   },
   "file_extension": ".py",
   "mimetype": "text/x-python",
   "name": "python",
   "nbconvert_exporter": "python",
   "pygments_lexer": "ipython2",
   "version": "2.7.6"
  }
 },
 "nbformat": 4,
 "nbformat_minor": 5
}
