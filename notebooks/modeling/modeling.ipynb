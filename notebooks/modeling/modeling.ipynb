{
 "cells": [
  {
   "cell_type": "markdown",
   "source": [
    "# NOT WORKING YET"
   ],
   "metadata": {
    "collapsed": false
   },
   "id": "86e01309f426bd81"
  },
  {
   "cell_type": "code",
   "outputs": [
    {
     "name": "stdout",
     "output_type": "stream",
     "text": [
      "Raw data\n",
      "<class 'pandas.core.frame.DataFrame'>\n",
      "RangeIndex: 162634 entries, 0 to 162633\n",
      "Columns: 103 entries, event_id to AP\n",
      "dtypes: float64(98), int64(4), object(1)\n",
      "memory usage: 127.8+ MB\n"
     ]
    },
    {
     "data": {
      "text/plain": "event_id  time_to_tca  mission_id  risk        max_risk_estimate  max_risk_scaling  miss_distance  relative_speed  relative_position_r  relative_position_t  relative_position_n  relative_velocity_r  relative_velocity_t  relative_velocity_n  t_time_lastob_start  t_time_lastob_end  t_recommended_od_span  t_actual_od_span  t_obs_available  t_obs_used  t_residuals_accepted  t_weighted_rms  t_rcs_estimate  t_cd_area_over_mass  t_cr_area_over_mass  t_sedr    t_j2k_sma    t_j2k_ecc  t_j2k_inc  t_ct_r     t_cn_r    t_cn_t     t_crdot_r  t_crdot_t  t_crdot_n  t_ctdot_r  t_ctdot_t  t_ctdot_n  t_ctdot_rdot  t_cndot_r  t_cndot_t  t_cndot_n  t_cndot_rdot  t_cndot_tdot  c_object_type  c_time_lastob_start  c_time_lastob_end  c_recommended_od_span  c_actual_od_span  c_obs_available  c_obs_used  c_residuals_accepted  c_weighted_rms  c_rcs_estimate  c_cd_area_over_mass  c_cr_area_over_mass  c_sedr    c_j2k_sma    c_j2k_ecc  c_j2k_inc  c_ct_r     c_cn_r     c_cn_t     c_crdot_r  c_crdot_t  c_crdot_n  c_ctdot_r  c_ctdot_t  c_ctdot_n  c_ctdot_rdot  c_cndot_r  c_cndot_t  c_cndot_n  c_cndot_rdot  c_cndot_tdot  t_span  c_span  t_h_apo     t_h_per     c_h_apo     c_h_per     geocentric_latitude  azimuth     elevation  mahalanobis_distance  t_position_covariance_det  c_position_covariance_det  t_sigma_r  c_sigma_r   t_sigma_t   c_sigma_t     t_sigma_n  c_sigma_n   t_sigma_rdot  c_sigma_rdot  t_sigma_tdot  c_sigma_tdot  t_sigma_ndot  c_sigma_ndot  F10   F3M   SSN   AP \n1         3.570013     5           -9.248105   -7.327533          7.425994          26899.0        3434.0          -82.0                -26067.0             6638.2                56.8                -847.8               -3328.2              1.0                  0.0                4.04                   4.04              430              429         99.0                  1.402           0.4030          0.015178             0.003417             0.000031  7001.561205  0.001028   97.767002   0.025433  0.318842   0.027919  -0.050648  -0.997384  -0.040625  -0.999560  -0.053437  -0.319966   0.079098      0.016432  -0.049850  0.760496    0.046685     -0.015341     DEBRIS         1.0                  0.0                3.54                   3.55              33.0             33.0        100.0                 1.650           0.0045          0.151857             0.000000             0.008730  6880.588349  0.017491   82.431524  -0.896007  -0.341763   0.075631   0.895993  -1.000000  -0.075170  -0.982560   0.962694   0.243049  -0.962685     -0.389578   0.249596   0.811324  -0.249363      0.344542     1.00    2.0     630.622566  616.225845  622.796659  382.106039  -54.109782           -75.708851  -0.947480  62.058087             5.097272e+06               8.825836e+15               5.455330   99.916400   115.552629  27824.072312  3.780796   97.159318   0.124802      30.242768     0.005883      0.174956      0.003408      0.058311      71.0  87.0  21.0  5.0    1\n8699      0.480186     2           -30.000000  -6.176852          2809.523428       7378.0         6680.0          -18.3                 6628.9              3240.6               -34.3                -2934.8               6001.1              1.0                  0.0                3.84                   3.84              457              457         99.0                  0.932           3.4119          0.022500             0.010369             0.000013  7155.370186  0.000508   98.484177  -0.237834  0.375961  -0.151382   0.204983  -0.951560   0.237512  -0.999897   0.224728  -0.374015  -0.191909      0.120440   0.013561  0.235709    0.015043     -0.121235     DEBRIS         1.0                  0.0                17.03                  17.03             45.0             44.0        100.0                 1.827           0.0099          0.255287             0.146724             0.000142  7264.916840  0.015099   98.501812   0.530749   0.751029   0.165178  -0.397411  -0.971716   0.003564  -0.999886  -0.542860  -0.747302   0.410609      0.813005   0.458239   0.366698  -0.349017     -0.813258     12.00   2.0     780.866425  773.599948  996.474518  777.085163   80.420544            63.939347   0.294183  115.582130            1.619671e+03               1.615863e+10               2.987629   48.548666   11.096360   121.988073    1.351989   42.203009   0.011892      0.122463      0.003106      0.050459      0.003036      0.058983      71.0  87.0  21.0  5.0    1\n          3.577813     2           -30.000000  -5.399681          159.647908        7840.0         6680.0          -53.3                 7043.1              3444.7               -34.7                -2934.7               6001.1              1.0                  0.0                3.77                   3.77              457              457         99.4                  1.058           3.4119          0.018382             0.007311             0.000014  7155.370401  0.000507   98.484186  -0.022138  0.457927  -0.009468  -0.015160  -0.997581   0.003268  -0.999806   0.002711  -0.457657   0.034574      0.038039  -0.018433  0.306596    0.019300     -0.037670     DEBRIS         1.0                  0.0                17.26                  17.26             45.0             44.0        98.8                  1.559           0.0099          0.262158             0.141430             0.000157  7264.915510  0.015103   98.502203  -0.235836   0.344561  -0.034524   0.231960  -0.999175   0.042808  -0.997130   0.161920  -0.346629  -0.157951      0.879416  -0.147771   0.393424   0.150801     -0.881241     12.00   2.0     780.861909  773.604892  996.501764  777.055255   80.419413            63.940118   0.297616  60.335680             3.826130e+05               9.785692e+10               6.265119   32.268080   70.098060   490.655276    1.584727   21.686362   0.072901      0.506550      0.006522      0.032888      0.003702      0.050986      71.0  88.0  0.0   2.0    1\n          3.205418     2           -30.000000  -5.767766          358.178318        7491.0         6680.0           31.7                 6730.0              3290.8               -34.3                -2934.9               6001.1              1.0                  0.0                3.77                   3.77              457              457         99.2                  1.047           3.4119          0.019013             0.007966             0.000012  7155.370387  0.000507   98.484184  -0.370542  0.373155  -0.101880   0.333226  -0.996466   0.103811  -0.999865   0.355475  -0.373412  -0.317936      0.062148  -0.020201  0.383637    0.021653     -0.062119     DEBRIS         1.0                  0.0                16.72                  16.72             47.0             46.0        99.4                  1.682           0.0099          0.258221             0.152971             0.000151  7264.916368  0.015092   98.502588  -0.373464   0.822553  -0.273528   0.422745  -0.996730   0.328861  -0.999450   0.342710  -0.822770  -0.392587      0.904103  -0.251905   0.754482   0.304012     -0.906294     12.00   2.0     780.863144  773.603630  996.418794  777.139943   80.419870            63.938577   0.294181  70.064539             2.159860e+05               1.790042e+11               6.368755   51.630466   55.996321   336.656799    1.513620   46.234695   0.057226      0.352296      0.006596      0.052673      0.003729      0.064117      71.0  88.0  0.0   2.0    1\n          2.892871     2           -30.000000  -5.761201          344.546178        7558.0         6680.0           29.7                 6789.6              3320.9               -34.4                -2934.9               6001.1              1.0                  0.0                3.78                   3.78              466              466         99.3                  1.005           3.4119          0.019580             0.008884             0.000012  7155.370313  0.000508   98.484184  -0.014965  0.402801   0.006618  -0.030001  -0.995140   0.001934  -0.999807  -0.004302  -0.402572   0.049261      0.094824  -0.011234  0.385081    0.015132     -0.094560     DEBRIS         1.0                  0.0                16.72                  16.72             47.0             46.0        99.4                  1.682           0.0099          0.258221             0.152971             0.000151  7264.915863  0.015092   98.502587  -0.365116   0.822522  -0.265864   0.413341  -0.996900   0.319928  -0.999405   0.333015  -0.822773  -0.381829      0.904039  -0.244228   0.754482   0.295145     -0.906292     12.00   2.0     780.864748  773.601878  996.418001  777.139724   80.419739            63.938577   0.295039  82.168488             5.929633e+04               1.907506e+11               4.741797   51.632364   42.699918   346.275180    1.314245   46.234933   0.044387      0.362057      0.004940      0.052673      0.003223      0.064117      71.0  88.0  0.0   2.0    1\n                                                                                                                                                                                                                                                                                                                                                                                                                                                                                                                                                                                                                                                                                                                                                                                                                                                                                                                                                                                                                                                                                                                                                                                                                                                                                                                                                                                                                                                                                                                             ..\n4380      1.651304     18          -30.000000  -3.778064          94.381478         678.0          14797.0         -452.8               -43.0                503.1                -14.8                -14740.6             -1298.1              1.0                  0.0                7.61                   7.61              190              189         99.7                  1.011           15.8489         0.022738             0.022438             0.000013  7187.239881  0.002463   98.808100  -0.344287  0.196066  -0.056260   0.378289  -0.987218   0.058508  -0.999909   0.334071  -0.196703  -0.367366     -0.083357   0.073464  0.394112   -0.073905      0.082710     DEBRIS         1.0                  0.0                25.87                  25.87             33.0             33.0        99.2                  2.596           0.0049          0.558299             0.065861             0.000309  7181.312673  0.003777   83.038271  -0.396258   0.617868  -0.015346   0.361524  -0.996710   0.032544  -0.997734   0.335991  -0.622831  -0.299474      0.664749  -0.095994   0.822975   0.091773     -0.669342     27.71   2.0     826.805043  791.400719  830.295909  776.055437  -76.840625           -5.032650    0.057305  14.332067             9.571438e+05               3.790992e+11               6.641700   38.719239   39.354348   625.148286    4.065916   37.163157   0.037802      0.627485      0.006824      0.039395      0.007273      0.057500      71.0  71.0  0.0   6.0    1\n          1.264221     18          -30.000000  -3.781464          94.877958         675.0          14797.0         -456.4               -40.7                495.8                -14.8                -14740.6             -1298.1              1.0                  0.0                7.44                   7.44              193              192         99.6                  1.034           15.8489         0.021832             0.020405             0.000013  7187.239940  0.002463   98.808086   0.048657  0.117747   0.009912  -0.013033  -0.982826  -0.008961  -0.999867  -0.061137  -0.118279   0.026858      0.025710  -0.030255  0.495160    0.019807     -0.026128     DEBRIS         2.0                  1.0                25.87                  25.87             33.0             33.0        99.2                  2.596           0.0049          0.558299             0.065861             0.000309  7181.312157  0.003776   83.038271  -0.395523   0.617618  -0.015133   0.361138  -0.996791   0.032077  -0.997617   0.333640  -0.622780  -0.297464      0.664472  -0.094663   0.822976   0.090433     -0.669282     27.71   2.0     826.808062  791.397818  830.295300  776.055014  -76.840452           -5.032650    0.057305  14.250839             4.665176e+05               3.904594e+11               5.005476   38.734987   33.851651   633.660531    4.064050   37.163335   0.031538      0.636482      0.005161      0.039399      0.007476      0.057500      71.0  71.0  0.0   6.0    1\n          0.864996     18          -30.000000  -3.958607          93.034332         347.0          14797.0         -346.6                1.2                 28.7                 -14.5                -14740.5             -1298.0              1.0                  0.0                7.55                   7.55              187              186         99.6                  1.028           15.8489         0.021052             0.019877             0.000012  7187.240536  0.002463   98.808064  -0.024920  0.110637  -0.022382   0.087931  -0.980360   0.025126  -0.999929   0.016994  -0.111017  -0.078820      0.014862  -0.106092  0.516544    0.087004     -0.015064     DEBRIS         1.0                  0.0                14.91                  14.91             15.0             15.0        100.0                 1.720           0.0049          0.585753             0.065861             0.000330  7181.313911  0.003765   83.035418  -0.600259  -0.435229   0.821454   0.611363  -0.988245  -0.741479  -0.999027   0.581375   0.436518  -0.587441      0.782344  -0.790804  -0.862550   0.743662     -0.784472     27.71   2.0     826.807804  791.399267  830.216755  776.137068  -76.836935           -5.032298    0.056144  14.742253             3.666561e+05               4.132323e+11               4.910772   28.829781   29.126434   392.843020    4.261734   125.455860  0.025395      0.323765      0.005056      0.029436      0.008065      0.158797      71.0  71.0  0.0   6.0    1\n          0.598144     18          -30.000000  -3.959002          93.304786         347.0          14797.0         -346.7               -4.0                 26.9                 -14.5                -14740.5             -1298.0              1.0                  0.0                7.61                   7.61              187              186         99.6                  1.005           15.8489         0.021459             0.019418             0.000013  7187.240511  0.002463   98.808053  -0.106773  0.131762   0.028547   0.183166  -0.979631  -0.031904  -0.999937   0.100048  -0.132821  -0.175279      0.059333  -0.067292  0.458941    0.026975     -0.060689     DEBRIS         1.0                  0.0                14.91                  14.91             15.0             15.0        100.0                 1.720           0.0049          0.585753             0.065861             0.000330  7181.313911  0.003765   83.035418  -0.600137  -0.435218   0.821076   0.611116  -0.988229  -0.740937  -0.999025   0.581202   0.436512  -0.587134      0.782330  -0.790442  -0.862550   0.743122     -0.784466     27.71   2.0     826.807864  791.399158  830.216741  776.137081  -76.836945           -5.032298    0.056144  14.747558             2.642904e+05               4.145804e+11               4.731691   28.830121   26.709875   393.016068    4.130966   125.455777  0.022712      0.323992      0.004869      0.029437      0.007688      0.158797      72.0  71.0  8.0   3.0    1\n13152     6.711999     15          -7.990124   -6.607479          5.970269          25720.0        1156.0          -296.7               -25667.6             1622.0                132.9               -74.0                -1146.5              1.0                  0.0                3.50                   3.50              3246             3244        99.1                  0.854           2.5119          0.009850             0.009271             0.000009  7096.101858  0.001620   91.931188  -0.121209  0.146257   0.005115   0.147290  -0.998571   0.009159  -0.991468   0.249305  -0.141254  -0.274411     -0.336360   0.000759  0.259445   -0.033181      0.326594     DEBRIS         180.0                2.0                22.61                  22.61             15.0             15.0        100.0                 1.576           0.0097          0.149944             0.155103             0.000157  7125.039139  0.016137   98.896153   0.618631   0.510280   0.076321  -0.608694  -0.999719  -0.084820  -0.879184  -0.169633  -0.584873   0.157111     -0.020519   0.042387   0.548576  -0.056485      0.059045     5.10    2.0     729.458862  706.470854  861.882343  631.921935   37.224992           -86.307009  -6.598494  18.140492             4.548807e+05               4.123185e+16               2.040952   254.465479  145.098415  7509.384795   2.319959   168.170479  0.153171      7.877773      0.002210      0.215327      0.001728      0.060710      71.0  72.0  12.0  2.0    1\nName: count, Length: 97450, dtype: int64"
     },
     "execution_count": 7,
     "metadata": {},
     "output_type": "execute_result"
    }
   ],
   "source": [
    "from src.utils.filtering import filter_data\n",
    "from src.utils.label_encoding import label_encode_column\n",
    "from src.utils.data_loading import load_data\n",
    "from sklearn.model_selection import train_test_split\n",
    "from sklearn.ensemble import RandomForestRegressor\n",
    "from sklearn.metrics import mean_squared_error\n",
    "\n",
    "df = load_data()\n",
    "df.value_counts()\n",
    "\n",
    "# Input the missing values with k-nn algorithm. Output = numpy array imputed_training = fast_knn(X.values, k=30)\n",
    "# Save the obtained array with the corresponding names of the columns X = pd.DataFrame(imputed_training, columns=columns)\n",
    "# df[\"risk-class\"] =  (df.risk >= -6)\n",
    "# df[\"risk-class\"].value_counts()\n",
    "# \n",
    "# df_filtered = filter_data(df)\n",
    "# df_filtered.value_counts()\n",
    "# \n",
    "# df_filtered.dropna(axis=0, how='any', inplace=True)\n",
    "# \n",
    "# label_encode_column(df_filtered, \"c_object_type\")\n",
    "# \n",
    "# features = df_filtered.drop([\"risk\"], axis=1)\n",
    "# target = df_filtered[\"risk\"]\n",
    "# \n",
    "# df_filtered[\"risk-class\"] =  (df_filtered.risk >= -6)\n",
    "# df_filtered[\"risk-class\"].value_counts()\n",
    "# df_filtered.value_counts()"
   ],
   "metadata": {
    "collapsed": false,
    "ExecuteTime": {
     "end_time": "2024-01-16T09:23:35.445914Z",
     "start_time": "2024-01-16T09:23:29.880891Z"
    }
   },
   "id": "7cc848fe4ec3c00a",
   "execution_count": 7
  },
  {
   "cell_type": "code",
   "outputs": [],
   "source": [
    "import pandas as pd\n",
    "from sklearn.impute import KNNImputer\n",
    "\n",
    "# Load data\n",
    "df = load_data()\n",
    "df_filtered = filter_data(df)\n",
    "\n",
    "# Drop rows with NaN values (optional)\n",
    "# df_filtered.dropna(axis=0, how='any', inplace=True)\n",
    "\n",
    "# Label encode the \"c_object_type\" column\n",
    "label_encode_column(df_filtered, \"c_object_type\")\n",
    "\n",
    "# Separate features (X) and target variable (\"risk\")\n",
    "X = df_filtered.drop([\"risk\"], axis=1)\n",
    "\n",
    "# Assuming X is your DataFrame with NaN values\n",
    "imputer = KNNImputer(n_neighbors=50)\n",
    "X_imputed = pd.DataFrame(imputer.fit_transform(X), columns=X.columns)\n",
    "\n",
    "# Concatenate the imputed features with the target variable\n",
    "df_imputed = pd.concat([X_imputed, df_filtered[\"risk\"]], axis=1)\n",
    "print(df_imputed)"
   ],
   "metadata": {
    "collapsed": false
   },
   "id": "10f01271a9c6927d"
  },
  {
   "cell_type": "code",
   "outputs": [],
   "source": [
    "# Assuming 'selected_features' is a DataFrame and 'target' is a Series\n",
    "selected_features = ['geocentric_latitude', 'c_cndot_n', 'c_span', 'c_time_lastob_start', 'max_risk_scaling',\n",
    "                     'time_to_tca', 'max_risk_estimate', 'mahalanobis_distance', 'miss_distance', 'c_cr_area_over_mass',\n",
    "                     'c_obs_available', 'c_time_lastob_end', 'c_obs_used']"
   ],
   "metadata": {
    "collapsed": false
   },
   "id": "24642b8a18274cc5"
  },
  {
   "cell_type": "code",
   "outputs": [],
   "source": [
    "# Split the data into training and testing sets\n",
    "X_train, X_test, y_train, y_test = train_test_split(df_filtered[selected_features], target, test_size=0.2,\n",
    "                                                    random_state=42)\n",
    "#Splitting arrays\n",
    "# y_boolean = (y > threshold_scaled).reshape(-1,1)\n",
    "# X_train, X_test, y_train_numeric, y_test_numeric = train_test_split(X, y, \n",
    "#                                                     stratify=y_boolean, \n",
    "#                                                     shuffle=True,\n",
    "#                                                     random_state=seed,\n",
    "#                                                     test_size = test_split\n",
    "#                                                   )\n",
    "# \n",
    "# y_train_boolean = (y_train_numeric > threshold_scaled).reshape(-1,1)\n",
    "# X_train, X_val, y_train_numeric, y_val_numeric = train_test_split(X_train, y_train_numeric, \n",
    "#                                                     stratify=y_train_boolean, \n",
    "#                                                     shuffle=True,\n",
    "#                                                     random_state=seed,\n",
    "#                                                     test_size = val_split\n",
    "                                                  )\n",
    "# Train the model (Random Forest as an example)\n",
    "model = RandomForestRegressor()\n",
    "model.fit(X_train, y_train)\n",
    "\n",
    "# Make predictions on the test set\n",
    "y_pred = model.predict(X_test)\n",
    "\n",
    "# Transform predictions and true values back to the original scale\n",
    "# y_test_original = 10 ** y_test\n",
    "# y_pred_original = 10 ** y_pred\n",
    "# \n",
    "# # Calculate MSE in the original scale\n",
    "# mse_original = mean_squared_error(y_test_original, y_pred_original)\n",
    "# print(\"Mean Squared Error in Original Scale:\", mse_original)\n",
    "mse = mean_squared_error(y_test, y_pred)\n",
    "print(\"Mean Squared Error in Original Scale:\", mse)\n"
   ],
   "metadata": {
    "collapsed": false
   },
   "id": "f7d91416a18c2862"
  },
  {
   "cell_type": "code",
   "outputs": [
    {
     "name": "stdout",
     "output_type": "stream",
     "text": [
      "Raw data\n",
      "<class 'pandas.core.frame.DataFrame'>\n",
      "RangeIndex: 24484 entries, 0 to 24483\n",
      "Columns: 103 entries, event_id to AP\n",
      "dtypes: float64(98), int64(4), object(1)\n",
      "memory usage: 19.2+ MB\n",
      "   event_id  time_to_tca  mission_id      risk  max_risk_estimate  \\\n",
      "0         0     6.842095          19 -7.296967          -7.208941   \n",
      "1         0     6.571818          19 -7.282496          -7.199833   \n",
      "2         0     6.112986          19 -7.316053          -7.217886   \n",
      "3         0     5.921955          19 -7.334138          -7.228707   \n",
      "4         0     2.228761          19 -7.332267          -7.227312   \n",
      "\n",
      "   max_risk_scaling  miss_distance  relative_speed  relative_position_r  \\\n",
      "0          1.787894        31816.0          7929.0               -365.5   \n",
      "1          1.759386        31095.0          7929.0               -361.8   \n",
      "2          1.824263        32202.0          7929.0               -370.7   \n",
      "3          1.865396        32878.0          7929.0               -376.3   \n",
      "4          1.863127        32792.0          7929.0               -375.6   \n",
      "\n",
      "   relative_position_t  ...  t_sigma_rdot  c_sigma_rdot  t_sigma_tdot  \\\n",
      "0              26967.0  ...      0.371943     29.669476      0.007763   \n",
      "1              26356.6  ...      0.364986     29.460828      0.007762   \n",
      "2              27294.4  ...      0.303518     29.747208      0.008190   \n",
      "3              27867.5  ...      0.295359     29.926660      0.007698   \n",
      "4              27793.8  ...      0.056579     29.845809      0.006125   \n",
      "\n",
      "   c_sigma_tdot  t_sigma_ndot  c_sigma_ndot   F10   F3M   SSN    AP  \n",
      "0      0.223996      0.011833      1.375099  76.0  74.0  29.0  11.0  \n",
      "1      0.223983      0.011833      1.375117  75.0  74.0  24.0   9.0  \n",
      "2      0.223999      0.010530      1.375092  75.0  74.0  24.0   9.0  \n",
      "3      0.224004      0.010449      1.375077  75.0  74.0  24.0   9.0  \n",
      "4      0.224004      0.007821      1.375085  71.0  73.0   0.0   4.0  \n",
      "\n",
      "[5 rows x 103 columns]\n",
      "Filtered data\n",
      "<class 'pandas.core.frame.DataFrame'>\n",
      "RangeIndex: 2092 entries, 0 to 2091\n",
      "Columns: 103 entries, event_id to AP\n",
      "dtypes: float64(98), int64(4), object(1)\n",
      "memory usage: 1.6+ MB\n"
     ]
    },
    {
     "ename": "ValueError",
     "evalue": "Unknown label type: continuous. Maybe you are trying to fit a classifier, which expects discrete classes on a regression target with continuous values.",
     "output_type": "error",
     "traceback": [
      "\u001B[0;31m---------------------------------------------------------------------------\u001B[0m",
      "\u001B[0;31mValueError\u001B[0m                                Traceback (most recent call last)",
      "Cell \u001B[0;32mIn[9], line 28\u001B[0m\n\u001B[1;32m     25\u001B[0m y_train \u001B[38;5;241m=\u001B[39m y_train\u001B[38;5;241m.\u001B[39mvalues\u001B[38;5;241m.\u001B[39mreshape(\u001B[38;5;241m-\u001B[39m\u001B[38;5;241m1\u001B[39m,)\n\u001B[1;32m     27\u001B[0m sm \u001B[38;5;241m=\u001B[39m SMOTE(random_state\u001B[38;5;241m=\u001B[39m\u001B[38;5;241m42\u001B[39m, k_neighbors\u001B[38;5;241m=\u001B[39m\u001B[38;5;241m58\u001B[39m)\n\u001B[0;32m---> 28\u001B[0m X_train, y_train \u001B[38;5;241m=\u001B[39m \u001B[43msm\u001B[49m\u001B[38;5;241;43m.\u001B[39;49m\u001B[43mfit_resample\u001B[49m\u001B[43m(\u001B[49m\u001B[43mX_train\u001B[49m\u001B[43m,\u001B[49m\u001B[43m \u001B[49m\u001B[43my_train\u001B[49m\u001B[43m)\u001B[49m\n\u001B[1;32m     29\u001B[0m \u001B[38;5;28mprint\u001B[39m(X_train\u001B[38;5;241m.\u001B[39mshape)\n\u001B[1;32m     30\u001B[0m \u001B[38;5;28mprint\u001B[39m(y_train\u001B[38;5;241m.\u001B[39mshape)\n",
      "File \u001B[0;32m~/Uni/Master/WS2324/ML/MLProject/.venv/lib/python3.10/site-packages/imblearn/base.py:208\u001B[0m, in \u001B[0;36mBaseSampler.fit_resample\u001B[0;34m(self, X, y)\u001B[0m\n\u001B[1;32m    187\u001B[0m \u001B[38;5;250m\u001B[39m\u001B[38;5;124;03m\"\"\"Resample the dataset.\u001B[39;00m\n\u001B[1;32m    188\u001B[0m \n\u001B[1;32m    189\u001B[0m \u001B[38;5;124;03mParameters\u001B[39;00m\n\u001B[0;32m   (...)\u001B[0m\n\u001B[1;32m    205\u001B[0m \u001B[38;5;124;03m    The corresponding label of `X_resampled`.\u001B[39;00m\n\u001B[1;32m    206\u001B[0m \u001B[38;5;124;03m\"\"\"\u001B[39;00m\n\u001B[1;32m    207\u001B[0m \u001B[38;5;28mself\u001B[39m\u001B[38;5;241m.\u001B[39m_validate_params()\n\u001B[0;32m--> 208\u001B[0m \u001B[38;5;28;01mreturn\u001B[39;00m \u001B[38;5;28;43msuper\u001B[39;49m\u001B[43m(\u001B[49m\u001B[43m)\u001B[49m\u001B[38;5;241;43m.\u001B[39;49m\u001B[43mfit_resample\u001B[49m\u001B[43m(\u001B[49m\u001B[43mX\u001B[49m\u001B[43m,\u001B[49m\u001B[43m \u001B[49m\u001B[43my\u001B[49m\u001B[43m)\u001B[49m\n",
      "File \u001B[0;32m~/Uni/Master/WS2324/ML/MLProject/.venv/lib/python3.10/site-packages/imblearn/base.py:104\u001B[0m, in \u001B[0;36mSamplerMixin.fit_resample\u001B[0;34m(self, X, y)\u001B[0m\n\u001B[1;32m     83\u001B[0m \u001B[38;5;28;01mdef\u001B[39;00m \u001B[38;5;21mfit_resample\u001B[39m(\u001B[38;5;28mself\u001B[39m, X, y):\n\u001B[1;32m     84\u001B[0m \u001B[38;5;250m    \u001B[39m\u001B[38;5;124;03m\"\"\"Resample the dataset.\u001B[39;00m\n\u001B[1;32m     85\u001B[0m \n\u001B[1;32m     86\u001B[0m \u001B[38;5;124;03m    Parameters\u001B[39;00m\n\u001B[0;32m   (...)\u001B[0m\n\u001B[1;32m    102\u001B[0m \u001B[38;5;124;03m        The corresponding label of `X_resampled`.\u001B[39;00m\n\u001B[1;32m    103\u001B[0m \u001B[38;5;124;03m    \"\"\"\u001B[39;00m\n\u001B[0;32m--> 104\u001B[0m     \u001B[43mcheck_classification_targets\u001B[49m\u001B[43m(\u001B[49m\u001B[43my\u001B[49m\u001B[43m)\u001B[49m\n\u001B[1;32m    105\u001B[0m     arrays_transformer \u001B[38;5;241m=\u001B[39m ArraysTransformer(X, y)\n\u001B[1;32m    106\u001B[0m     X, y, binarize_y \u001B[38;5;241m=\u001B[39m \u001B[38;5;28mself\u001B[39m\u001B[38;5;241m.\u001B[39m_check_X_y(X, y)\n",
      "File \u001B[0;32m~/Uni/Master/WS2324/ML/MLProject/.venv/lib/python3.10/site-packages/sklearn/utils/multiclass.py:216\u001B[0m, in \u001B[0;36mcheck_classification_targets\u001B[0;34m(y)\u001B[0m\n\u001B[1;32m    208\u001B[0m y_type \u001B[38;5;241m=\u001B[39m type_of_target(y, input_name\u001B[38;5;241m=\u001B[39m\u001B[38;5;124m\"\u001B[39m\u001B[38;5;124my\u001B[39m\u001B[38;5;124m\"\u001B[39m)\n\u001B[1;32m    209\u001B[0m \u001B[38;5;28;01mif\u001B[39;00m y_type \u001B[38;5;129;01mnot\u001B[39;00m \u001B[38;5;129;01min\u001B[39;00m [\n\u001B[1;32m    210\u001B[0m     \u001B[38;5;124m\"\u001B[39m\u001B[38;5;124mbinary\u001B[39m\u001B[38;5;124m\"\u001B[39m,\n\u001B[1;32m    211\u001B[0m     \u001B[38;5;124m\"\u001B[39m\u001B[38;5;124mmulticlass\u001B[39m\u001B[38;5;124m\"\u001B[39m,\n\u001B[0;32m   (...)\u001B[0m\n\u001B[1;32m    214\u001B[0m     \u001B[38;5;124m\"\u001B[39m\u001B[38;5;124mmultilabel-sequences\u001B[39m\u001B[38;5;124m\"\u001B[39m,\n\u001B[1;32m    215\u001B[0m ]:\n\u001B[0;32m--> 216\u001B[0m     \u001B[38;5;28;01mraise\u001B[39;00m \u001B[38;5;167;01mValueError\u001B[39;00m(\n\u001B[1;32m    217\u001B[0m         \u001B[38;5;124mf\u001B[39m\u001B[38;5;124m\"\u001B[39m\u001B[38;5;124mUnknown label type: \u001B[39m\u001B[38;5;132;01m{\u001B[39;00my_type\u001B[38;5;132;01m}\u001B[39;00m\u001B[38;5;124m. Maybe you are trying to fit a \u001B[39m\u001B[38;5;124m\"\u001B[39m\n\u001B[1;32m    218\u001B[0m         \u001B[38;5;124m\"\u001B[39m\u001B[38;5;124mclassifier, which expects discrete classes on a \u001B[39m\u001B[38;5;124m\"\u001B[39m\n\u001B[1;32m    219\u001B[0m         \u001B[38;5;124m\"\u001B[39m\u001B[38;5;124mregression target with continuous values.\u001B[39m\u001B[38;5;124m\"\u001B[39m\n\u001B[1;32m    220\u001B[0m     )\n",
      "\u001B[0;31mValueError\u001B[0m: Unknown label type: continuous. Maybe you are trying to fit a classifier, which expects discrete classes on a regression target with continuous values."
     ]
    }
   ],
   "source": [
    "from imblearn.over_sampling import SMOTE\n",
    "from src.utils.filtering import filter_data\n",
    "from src.utils.label_encoding import label_encode_column\n",
    "from src.utils.data_loading import load_data\n",
    "from sklearn.model_selection import train_test_split\n",
    "\n",
    "df = load_data(data_path=\"../../data/testing/test_data.csv\")\n",
    "print(df.head())\n",
    "df_filtered = filter_data(df)\n",
    "\n",
    "df_filtered.dropna(axis=0, how='any', inplace=True)\n",
    "\n",
    "label_encode_column(df_filtered, \"c_object_type\")\n",
    "\n",
    "X = df_filtered.drop([\"risk\"], axis=1)\n",
    "y = df_filtered[\"risk\"]\n",
    "\n",
    "# Assuming 'selected_features' is a DataFrame and 'target' is a Series\n",
    "selected_features = ['time_to_tca', 'mahalanobis_distance', 'max_risk_estimate']\n",
    "\n",
    "# Split the data into training and testing sets\n",
    "X_train, X_test, y_train, y_test = train_test_split(df_filtered[selected_features], y, test_size=0.2, random_state=42)\n",
    "\n",
    "# Convert y_train to a numpy array and then reshape it\n",
    "y_train = y_train.values.reshape(-1, )\n",
    "\n",
    "sm = SMOTE(random_state=42, k_neighbors=58)\n",
    "X_train, y_train = sm.fit_resample(X_train, y_train.re)\n",
    "print(X_train.shape)\n",
    "print(y_train.shape)\n"
   ],
   "metadata": {
    "collapsed": false,
    "ExecuteTime": {
     "end_time": "2024-01-15T17:45:19.244589Z",
     "start_time": "2024-01-15T17:45:18.375033Z"
    }
   },
   "id": "d1c09c7e875ffa0c",
   "execution_count": 9
  },
  {
   "cell_type": "code",
   "outputs": [],
   "source": [
    "from sklearn.metrics import r2_score\n",
    "\n",
    "r2 = r2_score(y_test_original, y_pred_original)\n",
    "print(\"R-squared Score:\", r2)\n"
   ],
   "metadata": {
    "collapsed": false
   },
   "id": "79f7ff11ea1d0845",
   "execution_count": null
  },
  {
   "cell_type": "code",
   "outputs": [],
   "source": [
    "import matplotlib.pyplot as plt\n",
    "\n",
    "plt.scatter(y_test_original, y_pred_original)\n",
    "plt.xlabel(\"True Values\")\n",
    "plt.ylabel(\"Predicted Values\")\n",
    "plt.title(\"True vs Predicted Values\")\n",
    "plt.show()\n"
   ],
   "metadata": {
    "collapsed": false
   },
   "id": "cbf6fedf147a0f45",
   "execution_count": null
  },
  {
   "cell_type": "code",
   "outputs": [],
   "source": [
    "residuals = y_test_original - y_pred_original\n",
    "plt.scatter(y_test_original, residuals)\n",
    "plt.axhline(y=0, color='red', linestyle='--')\n",
    "plt.xlabel(\"True Values\")\n",
    "plt.ylabel(\"Residuals\")\n",
    "plt.title(\"Residuals Plot\")\n",
    "plt.show()\n"
   ],
   "metadata": {
    "collapsed": false
   },
   "id": "54bea4c530390190",
   "execution_count": null
  },
  {
   "cell_type": "code",
   "outputs": [],
   "source": [
    "import seaborn as sns\n",
    "\n",
    "sns.histplot(residuals, bins=30, kde=True)\n",
    "plt.xlabel(\"Residuals\")\n",
    "plt.ylabel(\"Frequency\")\n",
    "plt.title(\"Distribution of Residuals\")\n",
    "plt.show()\n"
   ],
   "metadata": {
    "collapsed": false
   },
   "id": "d75cdf30a72fbc69",
   "execution_count": null
  },
  {
   "cell_type": "code",
   "outputs": [],
   "source": [],
   "metadata": {
    "collapsed": false
   },
   "id": "9ee26de66a23cf00"
  }
 ],
 "metadata": {
  "kernelspec": {
   "name": ".venv",
   "language": "python",
   "display_name": ".venv"
  },
  "language_info": {
   "codemirror_mode": {
    "name": "ipython",
    "version": 2
   },
   "file_extension": ".py",
   "mimetype": "text/x-python",
   "name": "python",
   "nbconvert_exporter": "python",
   "pygments_lexer": "ipython2",
   "version": "2.7.6"
  }
 },
 "nbformat": 4,
 "nbformat_minor": 5
}
