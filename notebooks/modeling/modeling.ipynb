{
 "cells": [
  {
   "cell_type": "markdown",
   "source": [
    "# NO PCA and no NaN imputing"
   ],
   "metadata": {
    "collapsed": false
   },
   "id": "9319ebdf53bd2c2f"
  },
  {
   "cell_type": "markdown",
   "source": [
    "## Train-Test Split"
   ],
   "metadata": {
    "collapsed": false
   },
   "id": "cdcebb0d81661834"
  },
  {
   "cell_type": "code",
   "outputs": [],
   "source": [
    "from src.utils.filtering import filter_data\n",
    "from src.utils.data_loading import load_data\n",
    "from sklearn.model_selection import train_test_split\n",
    "from src.utils.label_encoding import label_encode_column\n",
    "from sklearn.preprocessing import StandardScaler"
   ],
   "metadata": {
    "collapsed": false,
    "ExecuteTime": {
     "end_time": "2024-01-20T16:08:23.684975Z",
     "start_time": "2024-01-20T16:08:23.682317Z"
    }
   },
   "id": "f195c7b9f22f87ca",
   "execution_count": 89
  },
  {
   "cell_type": "code",
   "outputs": [],
   "source": [
    "selected_features = [\n",
    "    \"geocentric_latitude\",  # Latitude of conjunction point [deg]\n",
    "    \"c_sigma_rdot\",  # covariance; radial velocity standard deviation (sigma) of chaser [m/s]\n",
    "    \"c_obs_used\",  # number of observations used for orbit determination (per CDM) of chaser\n",
    "    \"c_time_lastob_start\",\n",
    "    # start of the time in days of the last accepted observation used in the orbit determination of chaser\n",
    "    \"c_time_lastob_end\",\n",
    "    # end of the time interval in days of the last accepted observation used in the orbit determination of chaser\n",
    "    \"mahalanobis_distance\",  # The distance between the chaser and target\n",
    "    \"miss_distance\",  # relative position between chaser & target at tca [m\n",
    "    \"time_to_tca\",  # Time interval between CDM creation and time-of-closest approach [days]\n",
    "    \"t_cndot_r\",\n",
    "    # covariance; correlation of normal (cross-track) velocity vs radial position of chaser\n",
    "    \"c_cr_area_over_mass\",\n",
    "    # solar radiation coefficient . A/m (ballistic coefficient equivalent) of chaser\n",
    "    \"max_risk_estimate\",  # maximum collision probability obtained by scaling combined covariance\n",
    "    \"c_span\",  # size used by the collision risk computation algorithm of chaser [m]\n",
    "    \"max_risk_scaling\",  # scaling factor used to compute maximum collision probability\n",
    "    \"t_rcs_estimate\",  # radar cross-sectional area [m2m2] of target\n",
    "    \"c_sigma_t\",\n",
    "    # covariance; transverse (along-track) position standard deviation (sigma) of chaser [m]\n",
    "    \"c_obs_available\",  # number of observations available for orbit determination (per CDM),\n",
    "    \"risk\",\n",
    "]"
   ],
   "metadata": {
    "collapsed": false,
    "ExecuteTime": {
     "end_time": "2024-01-20T16:08:23.955069Z",
     "start_time": "2024-01-20T16:08:23.951065Z"
    }
   },
   "id": "4e7a33d4ec2f8a1a",
   "execution_count": 90
  },
  {
   "cell_type": "code",
   "outputs": [
    {
     "name": "stdout",
     "output_type": "stream",
     "text": [
      "Raw data\n",
      "<class 'pandas.core.frame.DataFrame'>\n",
      "RangeIndex: 162634 entries, 0 to 162633\n",
      "Columns: 103 entries, event_id to AP\n",
      "dtypes: float64(98), int64(4), object(1)\n",
      "memory usage: 127.8+ MB\n",
      "Filtered data\n",
      "<class 'pandas.core.frame.DataFrame'>\n",
      "RangeIndex: 3032 entries, 0 to 3031\n",
      "Columns: 103 entries, event_id to AP\n",
      "dtypes: float64(98), int64(4), object(1)\n",
      "memory usage: 2.4+ MB\n",
      "Full Training set shape: (1058, 16) (1058,)\n",
      "Testing set shape: (265, 16) (265,)\n",
      "Training set shape: (793, 16) (793,)\n",
      "Validation set shape: (265, 16) (265,)\n"
     ]
<<<<<<< HEAD
    },
    {
     "data": {
      "text/plain": "event_id  time_to_tca  mission_id  risk        max_risk_estimate  max_risk_scaling  miss_distance  relative_speed  relative_position_r  relative_position_t  relative_position_n  relative_velocity_r  relative_velocity_t  relative_velocity_n  t_time_lastob_start  t_time_lastob_end  t_recommended_od_span  t_actual_od_span  t_obs_available  t_obs_used  t_residuals_accepted  t_weighted_rms  t_rcs_estimate  t_cd_area_over_mass  t_cr_area_over_mass  t_sedr    t_j2k_sma    t_j2k_ecc  t_j2k_inc  t_ct_r     t_cn_r    t_cn_t     t_crdot_r  t_crdot_t  t_crdot_n  t_ctdot_r  t_ctdot_t  t_ctdot_n  t_ctdot_rdot  t_cndot_r  t_cndot_t  t_cndot_n  t_cndot_rdot  t_cndot_tdot  c_object_type  c_time_lastob_start  c_time_lastob_end  c_recommended_od_span  c_actual_od_span  c_obs_available  c_obs_used  c_residuals_accepted  c_weighted_rms  c_rcs_estimate  c_cd_area_over_mass  c_cr_area_over_mass  c_sedr    c_j2k_sma    c_j2k_ecc  c_j2k_inc  c_ct_r     c_cn_r     c_cn_t     c_crdot_r  c_crdot_t  c_crdot_n  c_ctdot_r  c_ctdot_t  c_ctdot_n  c_ctdot_rdot  c_cndot_r  c_cndot_t  c_cndot_n  c_cndot_rdot  c_cndot_tdot  t_span  c_span  t_h_apo     t_h_per     c_h_apo     c_h_per     geocentric_latitude  azimuth     elevation  mahalanobis_distance  t_position_covariance_det  c_position_covariance_det  t_sigma_r  c_sigma_r   t_sigma_t   c_sigma_t     t_sigma_n  c_sigma_n   t_sigma_rdot  c_sigma_rdot  t_sigma_tdot  c_sigma_tdot  t_sigma_ndot  c_sigma_ndot  F10   F3M   SSN   AP  \n13152     6.711999     15          -7.990124   -6.607479          5.970269          25720.0        1156.0          -296.7               -25667.6             1622.0                132.9               -74.0                -1146.5              1.0                  0.0                3.50                   3.50              3246             3244        99.1                  0.854           2.5119          0.009850             0.009271             0.000009  7096.101858  0.001620   91.931188  -0.121209  0.146257   0.005115   0.147290  -0.998571   0.009159  -0.991468   0.249305  -0.141254  -0.274411     -0.336360   0.000759  0.259445   -0.033181      0.326594     DEBRIS         180.0                2.0                22.61                  22.61             15.0             15.0        100.0                 1.576           0.0097          0.149944             0.155103             0.000157  7125.039139  0.016137   98.896153   0.618631   0.510280   0.076321  -0.608694  -0.999719  -0.084820  -0.879184  -0.169633  -0.584873   0.157111     -0.020519   0.042387   0.548576  -0.056485      0.059045     5.10    2.0     729.458862  706.470854  861.882343  631.921935   37.224992           -86.307009  -6.598494  18.140492             4.548807e+05               4.123185e+16               2.040952   254.465479  145.098415  7509.384795   2.319959   168.170479  0.153171      7.877773      0.002210      0.215327      0.001728      0.060710      71.0  72.0  12.0  2.0     1\n4380      3.536164     18          -27.904831  -4.928118          59.320576         1638.0         14797.0         -441.8               -141.6               1571.8               -14.7                -14740.6             -1298.2              1.0                  0.0                7.96                   7.95              169              168         99.7                  1.014           15.8489         0.018097             0.020329             0.000010  7187.234916  0.002465   98.808073  -0.371988  0.460474  -0.188162   0.374497  -0.997845   0.188430  -0.999929   0.361534  -0.460474  -0.363920      0.208806  -0.092929  0.513502    0.103706     -0.208400     DEBRIS         180.0                2.0                15.89                  15.89             36.0             36.0        99.3                  2.537           0.0049          0.505552             0.061336             0.000276  7181.320161  0.003776   83.038051  -0.758006   0.541374  -0.023868   0.757601  -0.999996   0.024549  -0.893828   0.385078  -0.748157  -0.384497      0.495543   0.014232   0.974522  -0.013791     -0.709863     27.71   2.0     826.811332  791.384499  830.302040  776.064282  -76.878735           -5.033036    0.056918  19.088477             2.231016e+07               8.884660e+14               13.174605  62.216493   95.499986   14925.701087  4.557108   82.504117   0.096776      15.397087     0.013543      0.045494      0.007928      0.150960      69.0  71.0  0.0   11.0    1\n          0.324266     18          -30.000000  -3.983384          99.219429         356.0          14797.0         -355.7                1.1                 26.5                 -14.5                -14740.5             -1298.0              1.0                  0.0                7.51                   7.51              190              189         99.6                  1.006           15.8489         0.020672             0.015413             0.000012  7187.240653  0.002465   98.808055   0.119503  0.205275   0.125647  -0.108022  -0.987731  -0.122151  -0.999949  -0.125494  -0.206334   0.114950      0.085596   0.045163  0.351198   -0.059328     -0.086671     DEBRIS         1.0                  0.0                14.91                  14.91             15.0             15.0        100.0                 1.720           0.0049          0.585753             0.065861             0.000330  7181.314051  0.003765   83.035418  -0.599980  -0.435268   0.821521   0.611019  -0.988248  -0.741574  -0.999047   0.581272   0.436526  -0.587326      0.782403  -0.790869  -0.862550   0.743758     -0.784485     27.71   2.0     826.817113  791.390193  830.216863  776.137239  -76.836902           -5.032298    0.056144  15.288871             1.325209e+05               4.132421e+11               3.912110   28.827915   23.671546   392.810747    4.067623   125.455749  0.019321      0.323723      0.004041      0.029436      0.006726      0.158797      72.0  71.0  8.0   3.0     1\n          0.598144     18          -30.000000  -3.959002          93.304786         347.0          14797.0         -346.7               -4.0                 26.9                 -14.5                -14740.5             -1298.0              1.0                  0.0                7.61                   7.61              187              186         99.6                  1.005           15.8489         0.021459             0.019418             0.000013  7187.240511  0.002463   98.808053  -0.106773  0.131762   0.028547   0.183166  -0.979631  -0.031904  -0.999937   0.100048  -0.132821  -0.175279      0.059333  -0.067292  0.458941    0.026975     -0.060689     DEBRIS         1.0                  0.0                14.91                  14.91             15.0             15.0        100.0                 1.720           0.0049          0.585753             0.065861             0.000330  7181.313911  0.003765   83.035418  -0.600137  -0.435218   0.821076   0.611116  -0.988229  -0.740937  -0.999025   0.581202   0.436512  -0.587134      0.782330  -0.790442  -0.862550   0.743122     -0.784466     27.71   2.0     826.807864  791.399158  830.216741  776.137081  -76.836945           -5.032298    0.056144  14.747558             2.642904e+05               4.145804e+11               4.731691   28.830121   26.709875   393.016068    4.130966   125.455777  0.022712      0.323992      0.004869      0.029437      0.007688      0.158797      72.0  71.0  8.0   3.0     1\n          0.864996     18          -30.000000  -3.958607          93.034332         347.0          14797.0         -346.6                1.2                 28.7                 -14.5                -14740.5             -1298.0              1.0                  0.0                7.55                   7.55              187              186         99.6                  1.028           15.8489         0.021052             0.019877             0.000012  7187.240536  0.002463   98.808064  -0.024920  0.110637  -0.022382   0.087931  -0.980360   0.025126  -0.999929   0.016994  -0.111017  -0.078820      0.014862  -0.106092  0.516544    0.087004     -0.015064     DEBRIS         1.0                  0.0                14.91                  14.91             15.0             15.0        100.0                 1.720           0.0049          0.585753             0.065861             0.000330  7181.313911  0.003765   83.035418  -0.600259  -0.435229   0.821454   0.611363  -0.988245  -0.741479  -0.999027   0.581375   0.436518  -0.587441      0.782344  -0.790804  -0.862550   0.743662     -0.784472     27.71   2.0     826.807804  791.399267  830.216755  776.137068  -76.836935           -5.032298    0.056144  14.742253             3.666561e+05               4.132323e+11               4.910772   28.829781   29.126434   392.843020    4.261734   125.455860  0.025395      0.323765      0.005056      0.029436      0.008065      0.158797      71.0  71.0  0.0   6.0     1\n                                                                                                                                                                                                                                                                                                                                                                                                                                                                                                                                                                                                                                                                                                                                                                                                                                                                                                                                                                                                                                                                                                                                                                                                                                                                                                                                                                                                                                                                                                                              ..\n8699      2.237050     2           -30.000000  -5.768276          365.347225        7466.0         6680.0           28.5                 6706.8              3281.4               -34.3                -2934.8               6001.1              1.0                  0.0                3.69                   3.69              473              473         99.0                  0.992           3.4119          0.019016             0.010519             0.000012  7155.370358  0.000508   98.484182  -0.334293  0.358300  -0.086837   0.298540  -0.992820   0.108249  -0.999846   0.318083  -0.358333  -0.282131      0.206843  -0.056716  0.397014    0.057705     -0.206986     DEBRIS         2.0                  1.0                16.72                  16.72             47.0             46.0        99.4                  1.682           0.0099          0.258221             0.152971             0.000151  7264.916343  0.015092   98.502588  -0.374981   0.822554  -0.274805   0.424439  -0.996701   0.330352  -0.999453   0.344348  -0.822770  -0.394406      0.904107  -0.253176   0.754482   0.305485     -0.906294     12.00   2.0     780.866828  773.599888  996.418763  777.139923   80.419928            63.939347   0.294183  97.457172             2.363891e+04               1.771311e+11               4.254415   51.630321   31.688168   335.114010    1.297030   46.234619   0.032533      0.350725      0.004410      0.052673      0.003140      0.064117      70.0  87.0  13.0  14.0    1\n          2.582975     2           -30.000000  -5.763715          347.711872        7560.0         6680.0           33.3                 6792.3              3320.8               -34.4                -2934.9               6001.1              1.0                  0.0                3.71                   3.71              471              471         99.1                  0.973           3.4119          0.018685             0.007473             0.000012  7155.370342  0.000507   98.484174  -0.080733  0.425258  -0.123507   0.034034  -0.994680   0.130818  -0.999803   0.061274  -0.423213  -0.014561      0.124469   0.027959  0.355354   -0.021782     -0.125158     DEBRIS         1.0                  0.0                16.72                  16.72             47.0             46.0        99.4                  1.682           0.0099          0.258221             0.152971             0.000151  7264.915881  0.015092   98.502587  -0.365587   0.822524  -0.266306   0.413873  -0.996890   0.320444  -0.999407   0.333554  -0.822773  -0.382430      0.904043  -0.244670   0.754482   0.295656     -0.906292     12.00   2.0     780.861268  773.605417  996.418020  777.139742   80.419734            63.938577   0.295039  85.132836             5.493911e+04               1.900525e+11               4.680670   51.632238   40.537847   345.710428    1.376072   46.234922   0.042420      0.361484      0.004868      0.052673      0.003202      0.064117      70.0  87.0  13.0  14.0    1\n          2.892871     2           -30.000000  -5.761201          344.546178        7558.0         6680.0           29.7                 6789.6              3320.9               -34.4                -2934.9               6001.1              1.0                  0.0                3.78                   3.78              466              466         99.3                  1.005           3.4119          0.019580             0.008884             0.000012  7155.370313  0.000508   98.484184  -0.014965  0.402801   0.006618  -0.030001  -0.995140   0.001934  -0.999807  -0.004302  -0.402572   0.049261      0.094824  -0.011234  0.385081    0.015132     -0.094560     DEBRIS         1.0                  0.0                16.72                  16.72             47.0             46.0        99.4                  1.682           0.0099          0.258221             0.152971             0.000151  7264.915863  0.015092   98.502587  -0.365116   0.822522  -0.265864   0.413341  -0.996900   0.319928  -0.999405   0.333015  -0.822773  -0.381829      0.904039  -0.244228   0.754482   0.295145     -0.906292     12.00   2.0     780.864748  773.601878  996.418001  777.139724   80.419739            63.938577   0.295039  82.168488             5.929633e+04               1.907506e+11               4.741797   51.632364   42.699918   346.275180    1.314245   46.234933   0.044387      0.362057      0.004940      0.052673      0.003223      0.064117      71.0  88.0  0.0   2.0     1\n          3.205418     2           -30.000000  -5.767766          358.178318        7491.0         6680.0           31.7                 6730.0              3290.8               -34.3                -2934.9               6001.1              1.0                  0.0                3.77                   3.77              457              457         99.2                  1.047           3.4119          0.019013             0.007966             0.000012  7155.370387  0.000507   98.484184  -0.370542  0.373155  -0.101880   0.333226  -0.996466   0.103811  -0.999865   0.355475  -0.373412  -0.317936      0.062148  -0.020201  0.383637    0.021653     -0.062119     DEBRIS         1.0                  0.0                16.72                  16.72             47.0             46.0        99.4                  1.682           0.0099          0.258221             0.152971             0.000151  7264.916368  0.015092   98.502588  -0.373464   0.822553  -0.273528   0.422745  -0.996730   0.328861  -0.999450   0.342710  -0.822770  -0.392587      0.904103  -0.251905   0.754482   0.304012     -0.906294     12.00   2.0     780.863144  773.603630  996.418794  777.139943   80.419870            63.938577   0.294181  70.064539             2.159860e+05               1.790042e+11               6.368755   51.630466   55.996321   336.656799    1.513620   46.234695   0.057226      0.352296      0.006596      0.052673      0.003729      0.064117      71.0  88.0  0.0   2.0     1\n1         3.570013     5           -9.248105   -7.327533          7.425994          26899.0        3434.0          -82.0                -26067.0             6638.2                56.8                -847.8               -3328.2              1.0                  0.0                4.04                   4.04              430              429         99.0                  1.402           0.4030          0.015178             0.003417             0.000031  7001.561205  0.001028   97.767002   0.025433  0.318842   0.027919  -0.050648  -0.997384  -0.040625  -0.999560  -0.053437  -0.319966   0.079098      0.016432  -0.049850  0.760496    0.046685     -0.015341     DEBRIS         1.0                  0.0                3.54                   3.55              33.0             33.0        100.0                 1.650           0.0045          0.151857             0.000000             0.008730  6880.588349  0.017491   82.431524  -0.896007  -0.341763   0.075631   0.895993  -1.000000  -0.075170  -0.982560   0.962694   0.243049  -0.962685     -0.389578   0.249596   0.811324  -0.249363      0.344542     1.00    2.0     630.622566  616.225845  622.796659  382.106039  -54.109782           -75.708851  -0.947480  62.058087             5.097272e+06               8.825836e+15               5.455330   99.916400   115.552629  27824.072312  3.780796   97.159318   0.124802      30.242768     0.005883      0.174956      0.003408      0.058311      71.0  87.0  21.0  5.0     1\nLength: 97450, dtype: int64"
     },
     "execution_count": 3,
     "metadata": {},
     "output_type": "execute_result"
=======
>>>>>>> 854b5a7c197934f369c8947ebd1a85eeaf2fb858
    }
   ],
   "source": [
    "# Load and data and filter it\n",
    "df = load_data()\n",
    "df_filtered = filter_data(df)\n",
    "\n",
    "# Remove rows with missing values\n",
    "df_filtered.dropna(axis=0, how=\"any\", inplace=True)\n",
    "\n",
    "# Label encode the categorical column \"c_object_type\"\n",
    "label_encode_column(df_filtered, \"c_object_type\")\n",
    "# Call the function to get the processed DataFrame\n",
    "df_processed = df_filtered[selected_features]\n",
    "\n",
    "# Separate features and target variable\n",
    "X = df_processed.drop('risk', axis=1)\n",
    "y = df_processed['risk']\n",
    "\n",
    "# Split the data into training, testing, and validation sets\n",
    "X_train_full, X_test, y_train_full, y_test = train_test_split(X, y, test_size=0.2, random_state=42)\n",
    "X_train, X_val, y_train, y_val = train_test_split(X_train_full, y_train_full, test_size=0.25, random_state=42)\n",
    "\n",
    "# Perform scaling after splitting the data\n",
    "scaler = StandardScaler()\n",
    "\n",
    "# Fit the scaler on the training set\n",
    "X_train_scaled = scaler.fit_transform(X_train)\n",
    "\n",
    "# Apply the same scaler to the validation and test sets\n",
    "X_val_scaled = scaler.transform(X_val)\n",
    "X_test_scaled = scaler.transform(X_test)\n",
    "\n",
    "# Display the shapes of the sets\n",
    "print(\"Full Training set shape:\", X_train_full.shape, y_train_full.shape)\n",
    "print(\"Testing set shape:\", X_test.shape, y_test.shape)\n",
    "print(\"Training set shape:\", X_train_scaled.shape, y_train.shape)\n",
    "print(\"Validation set shape:\", X_val_scaled.shape, y_val.shape)\n"
   ],
   "metadata": {
    "collapsed": false,
    "ExecuteTime": {
<<<<<<< HEAD
     "end_time": "2024-01-17T16:26:34.553505700Z",
     "start_time": "2024-01-17T16:26:22.626987300Z"
    }
   },
   "id": "7cc848fe4ec3c00a",
   "execution_count": 3
=======
     "end_time": "2024-01-20T16:08:27.359806Z",
     "start_time": "2024-01-20T16:08:24.253542Z"
    }
   },
   "id": "7b5cf00d03a05bc2",
   "execution_count": 91
  },
  {
   "cell_type": "markdown",
   "source": [
    "## Model Selection"
   ],
   "metadata": {
    "collapsed": false
   },
   "id": "5010e4803236611"
>>>>>>> 854b5a7c197934f369c8947ebd1a85eeaf2fb858
  },
  {
   "cell_type": "code",
   "outputs": [
    {
     "name": "stdout",
     "output_type": "stream",
     "text": [
      "Raw data\n",
      "<class 'pandas.core.frame.DataFrame'>\n",
      "RangeIndex: 162634 entries, 0 to 162633\n",
      "Columns: 103 entries, event_id to AP\n",
      "dtypes: float64(98), int64(4), object(1)\n",
      "memory usage: 127.8+ MB\n",
      "Filtered data\n",
      "<class 'pandas.core.frame.DataFrame'>\n",
      "RangeIndex: 3032 entries, 0 to 3031\n",
      "Columns: 103 entries, event_id to AP\n",
      "dtypes: float64(98), int64(4), object(1)\n",
      "memory usage: 2.4+ MB\n",
      "      event_id  time_to_tca  mission_id  max_risk_estimate  max_risk_scaling  \\\n",
      "0          1.0     3.570013         5.0          -7.327533      7.425994e+00   \n",
      "1         11.0     3.761047         6.0          -5.670195      1.015785e+02   \n",
      "2         23.0     4.759769         7.0          -5.682982      2.758641e+00   \n",
      "3         24.0     3.028839         1.0          -6.400881      1.085527e+01   \n",
      "4         25.0     4.335579         5.0          -7.911864      6.624053e+00   \n",
      "...        ...          ...         ...                ...               ...   \n",
      "3027   13129.0     6.466379         7.0          -8.305922      2.826436e-07   \n",
      "3028   13130.0     5.561510        15.0          -7.660747      7.945338e+00   \n",
      "3029   13142.0     2.433629         5.0          -7.534171      2.766392e+01   \n",
      "3030   13149.0     5.069389         6.0          -6.599808      9.114065e+00   \n",
      "3031   13151.0     5.093112         5.0          -6.734710      1.039320e+01   \n",
      "\n",
      "      miss_distance  relative_speed  relative_position_r  relative_position_t  \\\n",
      "0           26899.0          3434.0                -82.0             -26067.0   \n",
      "1           42488.0           192.0               -104.4             -42485.2   \n",
      "2           24269.0         10724.0               -130.1              17242.4   \n",
      "3           16414.0         14969.0                371.5              -1468.6   \n",
      "4           24312.0         11098.0               -135.4              17641.3   \n",
      "...             ...             ...                  ...                  ...   \n",
      "3027        47954.0          8061.0              -1711.4             -40675.6   \n",
      "3028        15784.0         13384.0               -306.3              -7093.2   \n",
      "3029        29426.0         10394.0               -498.5             -21319.6   \n",
      "3030         8239.0         12150.0                121.3              -6419.3   \n",
      "3031        34897.0         11876.0                 87.1             -21516.7   \n",
      "\n",
      "      relative_position_n  ...  c_sigma_rdot  t_sigma_tdot  c_sigma_tdot  \\\n",
      "0                  6638.2  ...     30.242768      0.005883      0.174956   \n",
      "1                  -533.5  ...      1.799741      0.006246      0.016307   \n",
      "2                -17078.4  ...     19.504305      0.005423      0.088438   \n",
      "3                -16344.9  ...     42.447356      0.001475      1.681797   \n",
      "4                -16728.5  ...     11.752340      0.006584      0.652989   \n",
      "...                   ...  ...           ...           ...           ...   \n",
      "3027              25341.5  ...     63.472989  79053.661498      0.079975   \n",
      "3028              14097.4  ...     86.376279      0.008738      0.524326   \n",
      "3029              20276.2  ...      8.577480      0.004905      0.095381   \n",
      "3030              -5163.8  ...     46.734056      0.007076      1.359989   \n",
      "3031             -27474.8  ...     15.310877      0.008980      0.026154   \n",
      "\n",
      "      t_sigma_ndot  c_sigma_ndot    F10    F3M   SSN    AP       risk  \n",
      "0         0.003408      0.058311   71.0   87.0  21.0   5.0  -9.248105  \n",
      "1         0.005085      0.016483  131.0  151.0  60.0   5.0 -30.000000  \n",
      "2         0.002814      0.098404   78.0   76.0   0.0   6.0  -6.005463  \n",
      "3         0.003596      0.150147   69.0   70.0  14.0  14.0  -9.645124  \n",
      "4         0.002048      0.371264   68.0   70.0   2.0   8.0  -9.536704  \n",
      "...            ...           ...    ...    ...   ...   ...        ...  \n",
      "3027  79053.661498      0.135686   70.0   71.0   9.0  11.0 -14.418050  \n",
      "3028      0.005610      0.340335  131.0  139.0  44.0   9.0  -9.773658  \n",
      "3029      0.003801      0.069132   74.0   77.0  19.0   4.0 -17.671620  \n",
      "3030      0.001840      0.072661   68.0   70.0  12.0  17.0  -9.162854  \n",
      "3031      0.004643      0.130341   69.0   70.0   0.0   4.0  -9.791559  \n",
      "\n",
      "[3032 rows x 103 columns]\n"
     ]
    }
   ],
   "source": [
    "from sklearn.ensemble import RandomForestRegressor\n",
    "from sklearn.linear_model import LinearRegression\n",
    "from sklearn.model_selection import GridSearchCV\n",
    "\n",
    "# Choose Models\n",
    "models = {\n",
    "    # 'Linear Regression': LinearRegression(),\n",
    "    'Random Forest': RandomForestRegressor()\n",
    "}\n",
    "\n",
    "# Hyperparameter Tuning\n",
    "param_grid = {\n",
    "    'Random Forest': {\n",
    "        'n_estimators': [50, 100, 200],\n",
    "        'max_depth': [None, 10, 20],\n",
    "        'min_samples_split': [2, 5, 10],\n",
    "        'min_samples_leaf': [1, 2, 4]\n",
    "    }\n",
    "}\n",
    "\n",
    "best_models = {}\n",
    "\n",
    "for model_name, model in models.items():\n",
    "    if model_name in param_grid:\n",
    "        # Use GridSearchCV for hyperparameter tuning\n",
    "        grid_search = GridSearchCV(model, param_grid[model_name], scoring='neg_mean_squared_error', cv=5)\n",
    "        grid_search.fit(X_train_scaled, y_train)\n",
    "        best_models[model_name] = grid_search.best_estimator_\n",
    "    else:\n",
    "        # For models without hyperparameters, use the default configuration\n",
    "        best_models[model_name] = model.fit(X_train_scaled, y_train)\n"
   ],
   "metadata": {
    "collapsed": false,
    "ExecuteTime": {
<<<<<<< HEAD
     "end_time": "2024-01-17T16:26:43.729563800Z",
     "start_time": "2024-01-17T16:26:34.547678600Z"
    }
   },
   "id": "10f01271a9c6927d",
   "execution_count": 4
=======
     "end_time": "2024-01-20T16:12:09.195597Z",
     "start_time": "2024-01-20T16:08:40.275872Z"
    }
   },
   "id": "c8cb6fecba86b0fb",
   "execution_count": 93
>>>>>>> 854b5a7c197934f369c8947ebd1a85eeaf2fb858
  },
  {
   "cell_type": "markdown",
   "source": [
    "## Model Training:"
   ],
   "metadata": {
    "collapsed": false,
    "ExecuteTime": {
     "end_time": "2024-01-17T16:26:43.764615600Z",
     "start_time": "2024-01-17T16:26:43.726037Z"
    }
   },
<<<<<<< HEAD
   "id": "24642b8a18274cc5",
   "execution_count": 5
  },
  {
   "cell_type": "code",
   "outputs": [
    {
     "ename": "IndentationError",
     "evalue": "unexpected indent (<ipython-input-6-da3af2157a6f>, line 19)",
     "output_type": "error",
     "traceback": [
      "\u001B[1;36m  File \u001B[1;32m\"<ipython-input-6-da3af2157a6f>\"\u001B[1;36m, line \u001B[1;32m19\u001B[0m\n\u001B[1;33m    )\u001B[0m\n\u001B[1;37m    ^\u001B[0m\n\u001B[1;31mIndentationError\u001B[0m\u001B[1;31m:\u001B[0m unexpected indent\n"
     ]
    }
   ],
   "source": [
    "# Split the data into training and testing sets\n",
    "X_train, X_test, y_train, y_test = train_test_split(df_filtered[selected_features], target, test_size=0.2,\n",
    "                                                    random_state=42)\n",
    "#Splitting arrays\n",
    "# y_boolean = (y > threshold_scaled).reshape(-1,1)\n",
    "# X_train, X_test, y_train_numeric, y_test_numeric = train_test_split(X, y, \n",
    "#                                                     stratify=y_boolean, \n",
    "#                                                     shuffle=True,\n",
    "#                                                     random_state=seed,\n",
    "#                                                     test_size = test_split\n",
    "#                                                   )\n",
    "# \n",
    "# y_train_boolean = (y_train_numeric > threshold_scaled).reshape(-1,1)\n",
    "# X_train, X_val, y_train_numeric, y_val_numeric = train_test_split(X_train, y_train_numeric, \n",
    "#                                                     stratify=y_train_boolean, \n",
    "#                                                     shuffle=True,\n",
    "#                                                     random_state=seed,\n",
    "#                                                     test_size = val_split\n",
    "                                                  )\n",
    "# Train the model (Random Forest as an example)\n",
    "model = RandomForestRegressor()\n",
    "model.fit(X_train, y_train)\n",
    "\n",
    "# Make predictions on the test set\n",
    "y_pred = model.predict(X_test)\n",
    "\n",
    "# Transform predictions and true values back to the original scale\n",
    "# y_test_original = 10 ** y_test\n",
    "# y_pred_original = 10 ** y_pred\n",
    "# \n",
    "# # Calculate MSE in the original scale\n",
    "# mse_original = mean_squared_error(y_test_original, y_pred_original)\n",
    "# print(\"Mean Squared Error in Original Scale:\", mse_original)\n",
    "mse = mean_squared_error(y_test, y_pred)\n",
    "print(\"Mean Squared Error in Original Scale:\", mse)\n"
   ],
   "metadata": {
    "collapsed": false,
    "ExecuteTime": {
     "end_time": "2024-01-17T16:26:43.857435400Z",
     "start_time": "2024-01-17T16:26:43.738008600Z"
    }
   },
   "id": "f7d91416a18c2862",
   "execution_count": 6
  },
  {
   "cell_type": "code",
   "outputs": [],
=======
   "id": "8576841ab973e7ba"
  },
  {
   "cell_type": "code",
   "outputs": [
    {
     "name": "stdout",
     "output_type": "stream",
     "text": [
      "Random Forest - MSE on training set: 0.0252221522066577\n",
      "Random Forest - MSE on validation set: 0.09327483330603102\n"
     ]
    }
   ],
>>>>>>> 854b5a7c197934f369c8947ebd1a85eeaf2fb858
   "source": [
    "# Train Models\n",
    "for model_name, model in best_models.items():\n",
    "    model.fit(X_train_scaled, y_train)\n",
    "\n",
    "# Evaluate Performance\n",
    "from sklearn.metrics import mean_squared_error\n",
    "\n",
    "# Evaluate on training set\n",
    "for model_name, model in best_models.items():\n",
    "    y_pred_train = model.predict(X_train_scaled)\n",
    "    mse_train = mean_squared_error(y_train, y_pred_train)\n",
    "    print(f'{model_name} - MSE on training set: {mse_train}')\n",
    "\n",
    "# Evaluate on validation set\n",
    "for model_name, model in best_models.items():\n",
    "    y_pred_val = model.predict(X_val_scaled)\n",
    "    mse_val = mean_squared_error(y_val, y_pred_val)\n",
    "    print(f'{model_name} - MSE on validation set: {mse_val}')\n"
   ],
   "metadata": {
    "collapsed": false,
    "ExecuteTime": {
<<<<<<< HEAD
     "start_time": "2024-01-17T16:26:43.801064200Z"
    }
   },
   "id": "d1c09c7e875ffa0c",
   "execution_count": null
=======
     "end_time": "2024-01-20T16:12:37.814351Z",
     "start_time": "2024-01-20T16:12:36.448134Z"
    }
   },
   "id": "9cd71e1565519fe3",
   "execution_count": 94
>>>>>>> 854b5a7c197934f369c8947ebd1a85eeaf2fb858
  },
  {
   "cell_type": "code",
   "outputs": [
    {
     "name": "stdout",
     "output_type": "stream",
     "text": [
      "MAE on training set: 16.60860710153464\n",
      "MAE on validation set: 16.24431772886256\n"
     ]
    },
    {
     "name": "stderr",
     "output_type": "stream",
     "text": [
      "/Users/frederikdallomo/Uni/Master/WS2324/ML/MLProject/.venv/lib/python3.10/site-packages/sklearn/base.py:458: UserWarning:\n",
      "\n",
      "X has feature names, but RandomForestRegressor was fitted without feature names\n",
      "\n",
      "/Users/frederikdallomo/Uni/Master/WS2324/ML/MLProject/.venv/lib/python3.10/site-packages/sklearn/base.py:458: UserWarning:\n",
      "\n",
      "X has feature names, but RandomForestRegressor was fitted without feature names\n",
      "\n"
     ]
    }
   ],
   "source": [
    "from sklearn.metrics import mean_absolute_error\n",
    "\n",
    "# Assuming y_pred is your predicted values and y_true is the true target values\n",
    "y_pred_train = model.predict(X_train)\n",
    "y_pred_val = model.predict(X_val)\n",
    "\n",
    "# Calculate MAE for training set\n",
    "mae_train = mean_absolute_error(y_train, y_pred_train)\n",
    "\n",
    "# Calculate MAE for validation set\n",
    "mae_val = mean_absolute_error(y_val, y_pred_val)\n",
    "\n",
    "# Print the MAE values\n",
    "print(f\"MAE on training set: {mae_train}\")\n",
    "print(f\"MAE on validation set: {mae_val}\")\n"
   ],
   "metadata": {
    "collapsed": false,
    "ExecuteTime": {
     "end_time": "2024-01-20T16:20:51.098766Z",
     "start_time": "2024-01-20T16:20:51.072858Z"
    }
   },
   "id": "a636ae0b9a276ba2",
   "execution_count": 95
  },
  {
   "cell_type": "code",
   "outputs": [
    {
     "name": "stdout",
     "output_type": "stream",
     "text": [
      "R-squared on training set: -4.107831013263367\n",
      "R-squared on validation set: -3.7795055479504978\n"
     ]
    }
   ],
   "source": [
    "from sklearn.metrics import r2_score\n",
    "\n",
<<<<<<< HEAD
    "r2 = r2_score(y_test_original, y_pred_original)\n",
    "print(\"R-squared Score:\", r2)\n"
   ],
   "metadata": {
    "collapsed": false,
    "ExecuteTime": {
     "start_time": "2024-01-17T16:26:43.810099700Z"
    }
   },
   "id": "79f7ff11ea1d0845",
   "execution_count": null
  },
  {
   "cell_type": "code",
   "outputs": [],
   "source": [
    "import matplotlib.pyplot as plt\n",
    "\n",
    "plt.scatter(y_test_original, y_pred_original)\n",
    "plt.xlabel(\"True Values\")\n",
    "plt.ylabel(\"Predicted Values\")\n",
    "plt.title(\"True vs Predicted Values\")\n",
    "plt.show()\n"
   ],
   "metadata": {
    "collapsed": false,
    "ExecuteTime": {
     "start_time": "2024-01-17T16:26:43.816602100Z"
    }
   },
   "id": "cbf6fedf147a0f45",
   "execution_count": null
  },
  {
   "cell_type": "code",
   "outputs": [],
   "source": [
    "residuals = y_test_original - y_pred_original\n",
    "plt.scatter(y_test_original, residuals)\n",
    "plt.axhline(y=0, color='red', linestyle='--')\n",
    "plt.xlabel(\"True Values\")\n",
    "plt.ylabel(\"Residuals\")\n",
    "plt.title(\"Residuals Plot\")\n",
    "plt.show()\n"
   ],
   "metadata": {
    "collapsed": false,
    "ExecuteTime": {
     "start_time": "2024-01-17T16:26:43.824424600Z"
    }
   },
   "id": "54bea4c530390190",
   "execution_count": null
  },
  {
   "cell_type": "code",
   "outputs": [],
   "source": [
    "import seaborn as sns\n",
=======
    "# Calculate R-squared for training set\n",
    "r2_train = r2_score(y_train, y_pred_train)\n",
    "\n",
    "# Calculate R-squared for validation set\n",
    "r2_val = r2_score(y_val, y_pred_val)\n",
>>>>>>> 854b5a7c197934f369c8947ebd1a85eeaf2fb858
    "\n",
    "# Print the R-squared values\n",
    "print(f\"R-squared on training set: {r2_train}\")\n",
    "print(f\"R-squared on validation set: {r2_val}\")\n"
   ],
   "metadata": {
    "collapsed": false,
    "ExecuteTime": {
     "end_time": "2024-01-20T16:21:26.103311Z",
     "start_time": "2024-01-20T16:21:26.099449Z"
    }
   },
   "id": "618ddf16e338f44e",
   "execution_count": 96
  },
  {
   "cell_type": "markdown",
   "source": [
    "## Model Comparison:"
   ],
   "metadata": {
    "collapsed": false,
    "ExecuteTime": {
     "start_time": "2024-01-17T16:26:43.831456500Z"
    }
   },
   "id": "f1c811ee014d45e7"
  },
  {
   "cell_type": "code",
   "outputs": [],
   "source": [],
   "metadata": {
    "collapsed": false,
    "ExecuteTime": {
     "start_time": "2024-01-17T16:26:43.841665300Z"
    }
   },
   "id": "fdfdd236370a7ebb"
  },
  {
   "cell_type": "markdown",
   "source": [
    "## Fine-Tuning"
   ],
   "metadata": {
    "collapsed": false
   },
   "id": "6e9847126743e566"
  },
  {
   "cell_type": "code",
   "outputs": [],
   "source": [],
   "metadata": {
    "collapsed": false
   },
   "id": "f7789fbee6c9da9c"
  }
 ],
 "metadata": {
  "kernelspec": {
   "name": "python3",
   "language": "python",
   "display_name": "Python 3"
  },
  "language_info": {
   "codemirror_mode": {
    "name": "ipython",
    "version": 2
   },
   "file_extension": ".py",
   "mimetype": "text/x-python",
   "name": "python",
   "nbconvert_exporter": "python",
   "pygments_lexer": "ipython2",
   "version": "2.7.6"
  }
 },
 "nbformat": 4,
 "nbformat_minor": 5
}
