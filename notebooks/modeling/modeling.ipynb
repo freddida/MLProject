{
 "cells": [
  {
   "cell_type": "code",
   "outputs": [],
   "source": [
    "from src.utils.filtering import filter_data\n",
    "from src.utils.label_encoding import label_encode_column\n",
    "from src.utils.data_loading import load_data\n",
    "from sklearn.model_selection import train_test_split\n",
    "from sklearn.ensemble import RandomForestRegressor\n",
    "from sklearn.metrics import mean_squared_error\n",
    "\n",
    "df = load_data(data_path=\"../../data/testing/test_data.csv\")\n",
    "print(df.head())\n",
    "df_filtered = filter_data(df)\n",
    "\n",
    "df_filtered.dropna(axis=0, how='any', inplace=True)\n",
    "\n",
    "label_encode_column(df_filtered, \"c_object_type\")\n",
    "\n",
    "features = df_filtered.drop([\"risk\"], axis=1)\n",
    "target = df_filtered[\"risk\"]\n",
    "\n",
    "# Assuming 'selected_features' is a DataFrame and 'target' is a Series\n",
    "selected_features = ['time_to_tca', 'mahalanobis_distance', 'max_risk_estimate']\n",
    "\n",
    "# Split the data into training and testing sets\n",
    "X_train, X_test, y_train, y_test = train_test_split(df_filtered[selected_features], target, test_size=0.2, random_state=42)\n",
    "\n",
    "# Train the model (Random Forest as an example)\n",
    "model = RandomForestRegressor()\n",
    "model.fit(X_train, y_train)\n",
    "\n",
    "# Make predictions on the test set\n",
    "y_pred = model.predict(X_test)\n",
    "\n",
    "# Transform predictions and true values back to the original scale\n",
    "# y_test_original = 10 ** y_test\n",
    "# y_pred_original = 10 ** y_pred\n",
    "# \n",
    "# # Calculate MSE in the original scale\n",
    "# mse_original = mean_squared_error(y_test_original, y_pred_original)\n",
    "# print(\"Mean Squared Error in Original Scale:\", mse_original)\n",
    "mse = mean_squared_error(y_test, y_pred)\n",
    "print(\"Mean Squared Error in Original Scale:\", mse)\n"
   ],
   "metadata": {
    "collapsed": false
   },
   "id": "7cc848fe4ec3c00a",
   "execution_count": null
  },
  {
   "cell_type": "code",
   "outputs": [],
   "source": [],
   "metadata": {
    "collapsed": false
   },
   "id": "f7d91416a18c2862"
  },
  {
   "cell_type": "code",
   "outputs": [
    {
     "name": "stdout",
     "output_type": "stream",
     "text": [
      "Raw data\n",
      "<class 'pandas.core.frame.DataFrame'>\n",
      "RangeIndex: 24484 entries, 0 to 24483\n",
      "Columns: 103 entries, event_id to AP\n",
      "dtypes: float64(98), int64(4), object(1)\n",
      "memory usage: 19.2+ MB\n",
      "   event_id  time_to_tca  mission_id      risk  max_risk_estimate  \\\n",
      "0         0     6.842095          19 -7.296967          -7.208941   \n",
      "1         0     6.571818          19 -7.282496          -7.199833   \n",
      "2         0     6.112986          19 -7.316053          -7.217886   \n",
      "3         0     5.921955          19 -7.334138          -7.228707   \n",
      "4         0     2.228761          19 -7.332267          -7.227312   \n",
      "\n",
      "   max_risk_scaling  miss_distance  relative_speed  relative_position_r  \\\n",
      "0          1.787894        31816.0          7929.0               -365.5   \n",
      "1          1.759386        31095.0          7929.0               -361.8   \n",
      "2          1.824263        32202.0          7929.0               -370.7   \n",
      "3          1.865396        32878.0          7929.0               -376.3   \n",
      "4          1.863127        32792.0          7929.0               -375.6   \n",
      "\n",
      "   relative_position_t  ...  t_sigma_rdot  c_sigma_rdot  t_sigma_tdot  \\\n",
      "0              26967.0  ...      0.371943     29.669476      0.007763   \n",
      "1              26356.6  ...      0.364986     29.460828      0.007762   \n",
      "2              27294.4  ...      0.303518     29.747208      0.008190   \n",
      "3              27867.5  ...      0.295359     29.926660      0.007698   \n",
      "4              27793.8  ...      0.056579     29.845809      0.006125   \n",
      "\n",
      "   c_sigma_tdot  t_sigma_ndot  c_sigma_ndot   F10   F3M   SSN    AP  \n",
      "0      0.223996      0.011833      1.375099  76.0  74.0  29.0  11.0  \n",
      "1      0.223983      0.011833      1.375117  75.0  74.0  24.0   9.0  \n",
      "2      0.223999      0.010530      1.375092  75.0  74.0  24.0   9.0  \n",
      "3      0.224004      0.010449      1.375077  75.0  74.0  24.0   9.0  \n",
      "4      0.224004      0.007821      1.375085  71.0  73.0   0.0   4.0  \n",
      "\n",
      "[5 rows x 103 columns]\n",
      "Filtered data\n",
      "<class 'pandas.core.frame.DataFrame'>\n",
      "RangeIndex: 2092 entries, 0 to 2091\n",
      "Columns: 103 entries, event_id to AP\n",
      "dtypes: float64(98), int64(4), object(1)\n",
      "memory usage: 1.6+ MB\n"
     ]
    },
    {
     "ename": "ValueError",
     "evalue": "Unknown label type: continuous. Maybe you are trying to fit a classifier, which expects discrete classes on a regression target with continuous values.",
     "output_type": "error",
     "traceback": [
      "\u001B[0;31m---------------------------------------------------------------------------\u001B[0m",
      "\u001B[0;31mValueError\u001B[0m                                Traceback (most recent call last)",
      "Cell \u001B[0;32mIn[9], line 28\u001B[0m\n\u001B[1;32m     25\u001B[0m y_train \u001B[38;5;241m=\u001B[39m y_train\u001B[38;5;241m.\u001B[39mvalues\u001B[38;5;241m.\u001B[39mreshape(\u001B[38;5;241m-\u001B[39m\u001B[38;5;241m1\u001B[39m,)\n\u001B[1;32m     27\u001B[0m sm \u001B[38;5;241m=\u001B[39m SMOTE(random_state\u001B[38;5;241m=\u001B[39m\u001B[38;5;241m42\u001B[39m, k_neighbors\u001B[38;5;241m=\u001B[39m\u001B[38;5;241m58\u001B[39m)\n\u001B[0;32m---> 28\u001B[0m X_train, y_train \u001B[38;5;241m=\u001B[39m \u001B[43msm\u001B[49m\u001B[38;5;241;43m.\u001B[39;49m\u001B[43mfit_resample\u001B[49m\u001B[43m(\u001B[49m\u001B[43mX_train\u001B[49m\u001B[43m,\u001B[49m\u001B[43m \u001B[49m\u001B[43my_train\u001B[49m\u001B[43m)\u001B[49m\n\u001B[1;32m     29\u001B[0m \u001B[38;5;28mprint\u001B[39m(X_train\u001B[38;5;241m.\u001B[39mshape)\n\u001B[1;32m     30\u001B[0m \u001B[38;5;28mprint\u001B[39m(y_train\u001B[38;5;241m.\u001B[39mshape)\n",
      "File \u001B[0;32m~/Uni/Master/WS2324/ML/MLProject/.venv/lib/python3.10/site-packages/imblearn/base.py:208\u001B[0m, in \u001B[0;36mBaseSampler.fit_resample\u001B[0;34m(self, X, y)\u001B[0m\n\u001B[1;32m    187\u001B[0m \u001B[38;5;250m\u001B[39m\u001B[38;5;124;03m\"\"\"Resample the dataset.\u001B[39;00m\n\u001B[1;32m    188\u001B[0m \n\u001B[1;32m    189\u001B[0m \u001B[38;5;124;03mParameters\u001B[39;00m\n\u001B[0;32m   (...)\u001B[0m\n\u001B[1;32m    205\u001B[0m \u001B[38;5;124;03m    The corresponding label of `X_resampled`.\u001B[39;00m\n\u001B[1;32m    206\u001B[0m \u001B[38;5;124;03m\"\"\"\u001B[39;00m\n\u001B[1;32m    207\u001B[0m \u001B[38;5;28mself\u001B[39m\u001B[38;5;241m.\u001B[39m_validate_params()\n\u001B[0;32m--> 208\u001B[0m \u001B[38;5;28;01mreturn\u001B[39;00m \u001B[38;5;28;43msuper\u001B[39;49m\u001B[43m(\u001B[49m\u001B[43m)\u001B[49m\u001B[38;5;241;43m.\u001B[39;49m\u001B[43mfit_resample\u001B[49m\u001B[43m(\u001B[49m\u001B[43mX\u001B[49m\u001B[43m,\u001B[49m\u001B[43m \u001B[49m\u001B[43my\u001B[49m\u001B[43m)\u001B[49m\n",
      "File \u001B[0;32m~/Uni/Master/WS2324/ML/MLProject/.venv/lib/python3.10/site-packages/imblearn/base.py:104\u001B[0m, in \u001B[0;36mSamplerMixin.fit_resample\u001B[0;34m(self, X, y)\u001B[0m\n\u001B[1;32m     83\u001B[0m \u001B[38;5;28;01mdef\u001B[39;00m \u001B[38;5;21mfit_resample\u001B[39m(\u001B[38;5;28mself\u001B[39m, X, y):\n\u001B[1;32m     84\u001B[0m \u001B[38;5;250m    \u001B[39m\u001B[38;5;124;03m\"\"\"Resample the dataset.\u001B[39;00m\n\u001B[1;32m     85\u001B[0m \n\u001B[1;32m     86\u001B[0m \u001B[38;5;124;03m    Parameters\u001B[39;00m\n\u001B[0;32m   (...)\u001B[0m\n\u001B[1;32m    102\u001B[0m \u001B[38;5;124;03m        The corresponding label of `X_resampled`.\u001B[39;00m\n\u001B[1;32m    103\u001B[0m \u001B[38;5;124;03m    \"\"\"\u001B[39;00m\n\u001B[0;32m--> 104\u001B[0m     \u001B[43mcheck_classification_targets\u001B[49m\u001B[43m(\u001B[49m\u001B[43my\u001B[49m\u001B[43m)\u001B[49m\n\u001B[1;32m    105\u001B[0m     arrays_transformer \u001B[38;5;241m=\u001B[39m ArraysTransformer(X, y)\n\u001B[1;32m    106\u001B[0m     X, y, binarize_y \u001B[38;5;241m=\u001B[39m \u001B[38;5;28mself\u001B[39m\u001B[38;5;241m.\u001B[39m_check_X_y(X, y)\n",
      "File \u001B[0;32m~/Uni/Master/WS2324/ML/MLProject/.venv/lib/python3.10/site-packages/sklearn/utils/multiclass.py:216\u001B[0m, in \u001B[0;36mcheck_classification_targets\u001B[0;34m(y)\u001B[0m\n\u001B[1;32m    208\u001B[0m y_type \u001B[38;5;241m=\u001B[39m type_of_target(y, input_name\u001B[38;5;241m=\u001B[39m\u001B[38;5;124m\"\u001B[39m\u001B[38;5;124my\u001B[39m\u001B[38;5;124m\"\u001B[39m)\n\u001B[1;32m    209\u001B[0m \u001B[38;5;28;01mif\u001B[39;00m y_type \u001B[38;5;129;01mnot\u001B[39;00m \u001B[38;5;129;01min\u001B[39;00m [\n\u001B[1;32m    210\u001B[0m     \u001B[38;5;124m\"\u001B[39m\u001B[38;5;124mbinary\u001B[39m\u001B[38;5;124m\"\u001B[39m,\n\u001B[1;32m    211\u001B[0m     \u001B[38;5;124m\"\u001B[39m\u001B[38;5;124mmulticlass\u001B[39m\u001B[38;5;124m\"\u001B[39m,\n\u001B[0;32m   (...)\u001B[0m\n\u001B[1;32m    214\u001B[0m     \u001B[38;5;124m\"\u001B[39m\u001B[38;5;124mmultilabel-sequences\u001B[39m\u001B[38;5;124m\"\u001B[39m,\n\u001B[1;32m    215\u001B[0m ]:\n\u001B[0;32m--> 216\u001B[0m     \u001B[38;5;28;01mraise\u001B[39;00m \u001B[38;5;167;01mValueError\u001B[39;00m(\n\u001B[1;32m    217\u001B[0m         \u001B[38;5;124mf\u001B[39m\u001B[38;5;124m\"\u001B[39m\u001B[38;5;124mUnknown label type: \u001B[39m\u001B[38;5;132;01m{\u001B[39;00my_type\u001B[38;5;132;01m}\u001B[39;00m\u001B[38;5;124m. Maybe you are trying to fit a \u001B[39m\u001B[38;5;124m\"\u001B[39m\n\u001B[1;32m    218\u001B[0m         \u001B[38;5;124m\"\u001B[39m\u001B[38;5;124mclassifier, which expects discrete classes on a \u001B[39m\u001B[38;5;124m\"\u001B[39m\n\u001B[1;32m    219\u001B[0m         \u001B[38;5;124m\"\u001B[39m\u001B[38;5;124mregression target with continuous values.\u001B[39m\u001B[38;5;124m\"\u001B[39m\n\u001B[1;32m    220\u001B[0m     )\n",
      "\u001B[0;31mValueError\u001B[0m: Unknown label type: continuous. Maybe you are trying to fit a classifier, which expects discrete classes on a regression target with continuous values."
     ]
    }
   ],
   "source": [
    "from imblearn.over_sampling import SMOTE\n",
    "from src.utils.filtering import filter_data\n",
    "from src.utils.label_encoding import label_encode_column\n",
    "from src.utils.data_loading import load_data\n",
    "from sklearn.model_selection import train_test_split\n",
    "\n",
    "df = load_data(data_path=\"../../data/testing/test_data.csv\")\n",
    "print(df.head())\n",
    "df_filtered = filter_data(df)\n",
    "\n",
    "df_filtered.dropna(axis=0, how='any', inplace=True)\n",
    "\n",
    "label_encode_column(df_filtered, \"c_object_type\")\n",
    "\n",
    "X = df_filtered.drop([\"risk\"], axis=1)\n",
    "y = df_filtered[\"risk\"]\n",
    "\n",
    "# Assuming 'selected_features' is a DataFrame and 'target' is a Series\n",
    "selected_features = ['time_to_tca', 'mahalanobis_distance', 'max_risk_estimate']\n",
    "\n",
    "# Split the data into training and testing sets\n",
    "X_train, X_test, y_train, y_test = train_test_split(df_filtered[selected_features], y, test_size=0.2, random_state=42)\n",
    "\n",
    "# Convert y_train to a numpy array and then reshape it\n",
    "y_train = y_train.values.reshape(-1,)\n",
    "\n",
    "sm = SMOTE(random_state=42, k_neighbors=58)\n",
    "X_train, y_train = sm.fit_resample(X_train, y_train.re)\n",
    "print(X_train.shape)\n",
    "print(y_train.shape)\n"
   ],
   "metadata": {
    "collapsed": false,
    "ExecuteTime": {
     "end_time": "2024-01-15T17:45:19.244589Z",
     "start_time": "2024-01-15T17:45:18.375033Z"
    }
   },
   "id": "d1c09c7e875ffa0c",
   "execution_count": 9
  },
  {
   "cell_type": "code",
   "outputs": [],
   "source": [
    "from sklearn.metrics import r2_score\n",
    "\n",
    "r2 = r2_score(y_test_original, y_pred_original)\n",
    "print(\"R-squared Score:\", r2)\n",
    " "
   ],
   "metadata": {
    "collapsed": false
   },
   "id": "79f7ff11ea1d0845",
   "execution_count": null
  },
  {
   "cell_type": "code",
   "outputs": [],
   "source": [
    "import matplotlib.pyplot as plt\n",
    "\n",
    "plt.scatter(y_test_original, y_pred_original)\n",
    "plt.xlabel(\"True Values\")\n",
    "plt.ylabel(\"Predicted Values\")\n",
    "plt.title(\"True vs Predicted Values\")\n",
    "plt.show()\n"
   ],
   "metadata": {
    "collapsed": false
   },
   "id": "cbf6fedf147a0f45",
   "execution_count": null
  },
  {
   "cell_type": "code",
   "outputs": [],
   "source": [
    "residuals = y_test_original - y_pred_original\n",
    "plt.scatter(y_test_original, residuals)\n",
    "plt.axhline(y=0, color='red', linestyle='--')\n",
    "plt.xlabel(\"True Values\")\n",
    "plt.ylabel(\"Residuals\")\n",
    "plt.title(\"Residuals Plot\")\n",
    "plt.show()\n"
   ],
   "metadata": {
    "collapsed": false
   },
   "id": "54bea4c530390190",
   "execution_count": null
  },
  {
   "cell_type": "code",
   "outputs": [],
   "source": [
    "import seaborn as sns\n",
    "\n",
    "sns.histplot(residuals, bins=30, kde=True)\n",
    "plt.xlabel(\"Residuals\")\n",
    "plt.ylabel(\"Frequency\")\n",
    "plt.title(\"Distribution of Residuals\")\n",
    "plt.show()\n"
   ],
   "metadata": {
    "collapsed": false
   },
   "id": "d75cdf30a72fbc69",
   "execution_count": null
  },
  {
   "cell_type": "code",
   "outputs": [],
   "source": [],
   "metadata": {
    "collapsed": false
   },
   "id": "9ee26de66a23cf00"
  }
 ],
 "metadata": {
  "kernelspec": {
   "name": ".venv",
   "language": "python",
   "display_name": ".venv"
  },
  "language_info": {
   "codemirror_mode": {
    "name": "ipython",
    "version": 2
   },
   "file_extension": ".py",
   "mimetype": "text/x-python",
   "name": "python",
   "nbconvert_exporter": "python",
   "pygments_lexer": "ipython2",
   "version": "2.7.6"
  }
 },
 "nbformat": 4,
 "nbformat_minor": 5
}
