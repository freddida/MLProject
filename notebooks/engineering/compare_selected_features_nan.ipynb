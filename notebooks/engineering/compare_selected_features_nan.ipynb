{
 "cells": [
  {
   "cell_type": "markdown",
   "source": [
    "# Compare Selected Features with and without NaN Imputing"
   ],
   "metadata": {
    "collapsed": false
   },
   "id": "4202acaf11c14dcf"
  },
  {
   "cell_type": "markdown",
   "source": [
    "### Computed dropping the Nan (feature_selection_without_nan.ipynb)"
   ],
   "metadata": {
    "collapsed": false
   },
   "id": "223e65e1c8edd168"
  },
  {
   "cell_type": "code",
   "execution_count": null,
   "id": "initial_id",
   "metadata": {
    "collapsed": true
   },
   "outputs": [],
   "source": [
    "selected_features_without_nan = {\n",
    "    \"c_obs_used\",\n",
    "    \"time_to_tca\",\n",
    "    \"max_risk_estimate\",\n",
    "    \"max_risk_scaling\",\n",
    "    \"c_span\",\n",
    "    \"c_obs_available\",\n",
    "    \"c_time_lastob_start\",\n",
    "    \"c_sigma_t\",\n",
    "    \"t_rcs_estimate\",\n",
    "    \"mahalanobis_distance\",\n",
    "    \"geocentric_latitude\",\n",
    "    \"c_sigma_rdot\",\n",
    "    \"c_cr_area_over_mass\",\n",
    "    \"c_time_lastob_end\",\n",
    "    \"t_cndot_r\",\n",
    "    \"miss_distance\",\n",
    "}"
   ]
  },
  {
   "cell_type": "markdown",
   "source": [
    "### Computed imputing Nan using knn (feature_selection_with_nan.ipynb)"
   ],
   "metadata": {
    "collapsed": false
   },
   "id": "f3b43fcd707b9d0c"
  },
  {
   "cell_type": "code",
   "outputs": [],
   "source": [
    "selected_features_with_nan = {\n",
    "    \"c_time_lastob_start\",\n",
    "    \"t_rcs_estimate\",\n",
    "    \"c_span\",\n",
    "    \"c_obs_available\",\n",
    "    \"c_obs_used\",\n",
    "    \"time_to_tca\",\n",
    "    \"relative_position_t\",\n",
    "    \"c_weighted_rms\",\n",
    "    \"mahalanobis_distance\",\n",
    "    \"max_risk_estimate\",\n",
    "    \"c_cr_area_over_mass\",\n",
    "    \"t_j2k_sma\",\n",
    "    \"max_risk_scaling\",\n",
    "    \"miss_distance\",\n",
    "    \"c_time_lastob_end\",\n",
    "    \"relative_velocity_n\",\n",
    "}"
   ],
   "metadata": {
    "collapsed": false
   },
   "id": "f508e85ab056627c",
   "execution_count": null
  },
  {
   "cell_type": "code",
   "outputs": [],
   "source": [
    "# Features in both lists (intersection)\n",
    "common_features = selected_features_without_nan.intersection(selected_features_with_nan)\n",
    "\n",
    "# Features only in selected_features_final\n",
    "unique_to_selected = selected_features_without_nan.difference(\n",
    "    selected_features_with_nan\n",
    ")\n",
    "\n",
    "# Features only in another_list\n",
    "unique_to_another = selected_features_with_nan.difference(selected_features_without_nan)\n",
    "\n",
    "print(\"Common features:\", common_features)\n",
    "print(\"Number of common features:\", len(common_features))\n",
    "print(\"----------------------------------------------------------------\")\n",
    "print(\"Features only in selected_features_final:\", unique_to_selected)\n",
    "print(\"Number of features only in selected_features_final:\", len(unique_to_selected))\n",
    "print(\"----------------------------------------------------------------\")\n",
    "print(\"Features only in another_list:\", unique_to_another)\n",
    "print(\"Number of features only in another_list:\", len(unique_to_another))"
   ],
   "metadata": {
    "collapsed": false
   },
   "id": "3f058a3f404bff36",
   "execution_count": null
  },
  {
   "cell_type": "markdown",
   "source": [
    "**Common Features**: 12 features are shared between both methods.\n",
    "\n",
    "**Features Only in `selected_features_final`**: There are 4 unique features: 't_cndot_r', 'c_sigma_t', 'geocentric_latitude', 'c_sigma_rdot'.\n",
    "\n",
    "**Features Only in `another_list`**: There are also 4 unique features: 'c_weighted_rms', 'relative_position_t', 'relative_velocity_n', 't_j2k_sma'.\n",
    "\n",
    "### **Conlusion:** A model can be trained using both sets for comparison but for simplicity only the features without NaN imputing are used\n"
   ],
   "metadata": {
    "collapsed": false
   },
   "id": "e5ab337a21d21514"
  },
  {
   "cell_type": "code",
   "outputs": [],
   "source": [],
   "metadata": {
    "collapsed": false
   },
   "id": "7922a3d0bd98868b"
  }
 ],
 "metadata": {
  "kernelspec": {
   "display_name": "Python 3",
   "language": "python",
   "name": "python3"
  },
  "language_info": {
   "codemirror_mode": {
    "name": "ipython",
    "version": 2
   },
   "file_extension": ".py",
   "mimetype": "text/x-python",
   "name": "python",
   "nbconvert_exporter": "python",
   "pygments_lexer": "ipython2",
   "version": "2.7.6"
  }
 },
 "nbformat": 4,
 "nbformat_minor": 5
}
