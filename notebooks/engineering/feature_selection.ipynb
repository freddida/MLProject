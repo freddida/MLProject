{
 "cells": [
  {
   "cell_type": "code",
   "execution_count": 1,
   "id": "initial_id",
   "metadata": {
    "collapsed": true,
    "ExecuteTime": {
     "end_time": "2024-01-12T11:32:41.448622Z",
     "start_time": "2024-01-12T11:32:39.980337Z"
    }
   },
   "outputs": [
    {
     "name": "stdout",
     "output_type": "stream",
     "text": [
      "tensor([1.], device='mps:0')\n"
     ]
    }
   ],
   "source": [
    "from src.utils.check_mps_device import check_mps_device\n",
    "import pandas as pd\n",
    "\n",
    "from src.utils.data_loading import load_data\n",
    "from src.utils.filtering import filter_data\n",
    "\n",
    "from src.utils.label_encoding import label_encode_column\n",
    "\n",
    "# Set the display option to show all rows and columns\n",
    "# pd.set_option('display.max_rows', None)\n",
    "# pd.set_option('display.max_columns', None)\n",
    "\n",
    "# Check if PyTorch Multi-Process Service (MPS) is available (GPU)\n",
    "check_mps_device()"
   ]
  },
  {
   "cell_type": "code",
   "outputs": [
    {
     "name": "stdout",
     "output_type": "stream",
     "text": [
      "Raw data\n",
      "<class 'pandas.core.frame.DataFrame'>\n",
      "RangeIndex: 162634 entries, 0 to 162633\n",
      "Columns: 103 entries, event_id to AP\n",
      "dtypes: float64(98), int64(4), object(1)\n",
      "memory usage: 127.8+ MB\n",
      "Filtered data\n",
      "<class 'pandas.core.frame.DataFrame'>\n",
      "RangeIndex: 3032 entries, 0 to 3031\n",
      "Columns: 103 entries, event_id to AP\n",
      "dtypes: float64(98), int64(4), object(1)\n",
      "memory usage: 2.4+ MB\n"
     ]
    }
   ],
   "source": [
    "# Load data\n",
    "df = load_data()\n",
    "df_filtered = filter_data(df)"
   ],
   "metadata": {
    "collapsed": false,
    "ExecuteTime": {
     "end_time": "2024-01-12T11:32:43.966620Z",
     "start_time": "2024-01-12T11:32:41.445494Z"
    }
   },
   "id": "480703d899c16893",
   "execution_count": 2
  },
  {
   "cell_type": "code",
   "outputs": [
    {
     "name": "stdout",
     "output_type": "stream",
     "text": [
      "Top Features:\n",
      "c_obs_used              0.388148\n",
      "c_time_lastob_end       0.351368\n",
      "c_obs_available         0.322001\n",
      "c_time_lastob_start     0.309940\n",
      "c_span                  0.277618\n",
      "miss_distance           0.247441\n",
      "time_to_tca             0.235292\n",
      "mahalanobis_distance    0.222178\n",
      "max_risk_estimate       0.214653\n",
      "t_h_apo                 0.206298\n",
      "Name: risk, dtype: float64\n"
     ]
    }
   ],
   "source": [
    "# Label encode categorical columns (e.g., \"c_object_type\")\n",
    "label_encode_column(df_filtered, \"c_object_type\")\n",
    "\n",
    "# Calculate correlation matrix\n",
    "correlation_matrix = df_filtered.corr()\n",
    "\n",
    "# Identify features with high correlation with the target variable (\"risk\")\n",
    "target_correlation = correlation_matrix[\"risk\"].abs().sort_values(ascending=False)\n",
    "best_features = target_correlation[1:]  # Exclude the target variable\n",
    "top_features = best_features.head(10)\n",
    "print(\"Top Features:\")\n",
    "print(top_features)"
   ],
   "metadata": {
    "collapsed": false,
    "ExecuteTime": {
     "end_time": "2024-01-12T11:32:44.053617Z",
     "start_time": "2024-01-12T11:32:43.965716Z"
    }
   },
   "id": "d3b232c932540a3d",
   "execution_count": 3
  },
  {
   "cell_type": "code",
   "outputs": [
    {
     "name": "stdout",
     "output_type": "stream",
     "text": [
      "Raw data\n",
      "<class 'pandas.core.frame.DataFrame'>\n",
      "RangeIndex: 162634 entries, 0 to 162633\n",
      "Columns: 103 entries, event_id to AP\n",
      "dtypes: float64(98), int64(4), object(1)\n",
      "memory usage: 127.8+ MB\n",
      "Filtered data\n",
      "<class 'pandas.core.frame.DataFrame'>\n",
      "RangeIndex: 3032 entries, 0 to 3031\n",
      "Columns: 103 entries, event_id to AP\n",
      "dtypes: float64(98), int64(4), object(1)\n",
      "memory usage: 2.4+ MB\n",
      "Features with the highest mutual information scores:\n",
      "                 Feature  Mutual_Info_Score\n",
      "4       max_risk_scaling           0.458331\n",
      "3      max_risk_estimate           0.383761\n",
      "89             c_sigma_t           0.247939\n",
      "93          c_sigma_rdot           0.235979\n",
      "21        t_rcs_estimate           0.232890\n",
      "55                c_sedr           0.201011\n",
      "83  mahalanobis_distance           0.200237\n",
      "25             t_j2k_sma           0.199910\n",
      "16      t_actual_od_span           0.196539\n",
      "27             t_j2k_inc           0.192831\n"
     ]
    }
   ],
   "source": [
    "from sklearn.feature_selection import mutual_info_regression\n",
    "\n",
    "# Label encode categorical columns (e.g., \"c_object_type\")\n",
    "# Load data\n",
    "df = load_data()\n",
    "df_filtered = filter_data(df)\n",
    "\n",
    "df_filtered.dropna(axis=0, how='any', inplace=True)\n",
    "\n",
    "label_encode_column(df_filtered, \"c_object_type\")\n",
    "\n",
    "features = df_filtered.drop([\"risk\"], axis=1)\n",
    "target = df_filtered[\"risk\"]\n",
    "\n",
    "# Calculate mutual information between features and target\n",
    "mutual_info_scores = mutual_info_regression(features, target)\n",
    "\n",
    "# Create a DataFrame with feature names and their mutual information scores\n",
    "mi_df = pd.DataFrame({\"Feature\": features.columns, \"Mutual_Info_Score\": mutual_info_scores})\n",
    "mi_df = mi_df.sort_values(by=\"Mutual_Info_Score\", ascending=False)\n",
    "\n",
    "# Print the features with the highest mutual information scores\n",
    "print(\"Features with the highest mutual information scores:\")\n",
    "print(mi_df.head(10))\n"
   ],
   "metadata": {
    "collapsed": false,
    "ExecuteTime": {
     "end_time": "2024-01-12T11:32:47.904044Z",
     "start_time": "2024-01-12T11:32:44.675127Z"
    }
   },
   "id": "2194f5756f76b28d",
   "execution_count": 4
  },
  {
   "cell_type": "code",
   "outputs": [
    {
     "name": "stdout",
     "output_type": "stream",
     "text": [
      "Raw data\n",
      "<class 'pandas.core.frame.DataFrame'>\n",
      "RangeIndex: 162634 entries, 0 to 162633\n",
      "Columns: 103 entries, event_id to AP\n",
      "dtypes: float64(98), int64(4), object(1)\n",
      "memory usage: 127.8+ MB\n",
      "Filtered data\n",
      "<class 'pandas.core.frame.DataFrame'>\n",
      "RangeIndex: 3032 entries, 0 to 3031\n",
      "Columns: 103 entries, event_id to AP\n",
      "dtypes: float64(98), int64(4), object(1)\n",
      "memory usage: 2.4+ MB\n",
      "Selected Feature Names:\n",
      "Index(['max_risk_estimate', 'max_risk_scaling', 't_rcs_estimate',\n",
      "       't_cd_area_over_mass', 't_j2k_sma', 't_j2k_inc', 'c_sedr',\n",
      "       'mahalanobis_distance', 'c_sigma_t', 'c_sigma_rdot'],\n",
      "      dtype='object')\n"
     ]
    }
   ],
   "source": [
    "from sklearn.feature_selection import SelectKBest, mutual_info_regression\n",
    "\n",
    "# Label encode categorical columns (e.g., \"c_object_type\")\n",
    "# Load data\n",
    "df = load_data()\n",
    "df_filtered = filter_data(df)\n",
    "\n",
    "df_filtered.dropna(axis=0, how='any', inplace=True)\n",
    "\n",
    "label_encode_column(df_filtered, \"c_object_type\")\n",
    "\n",
    "features = df_filtered.drop([\"risk\"], axis=1)\n",
    "target = df_filtered[\"risk\"]\n",
    "\n",
    "# Feature selection using SelectKBest with mutual_info_regression\n",
    "selector = SelectKBest(score_func=mutual_info_regression, k=10) \n",
    "X_selected = selector.fit_transform(features, target)\n",
    "\n",
    "# Get the selected feature names\n",
    "selected_feature_names = features.columns[selector.get_support()]\n",
    "\n",
    "# Create a DataFrame with selected features\n",
    "selected_features_df = pd.DataFrame(X_selected, columns=selected_feature_names)\n",
    "\n",
    "# Print selected feature names\n",
    "print(\"Selected Feature Names:\")\n",
    "print(selected_feature_names)"
   ],
   "metadata": {
    "collapsed": false,
    "ExecuteTime": {
     "end_time": "2024-01-12T11:32:51.285353Z",
     "start_time": "2024-01-12T11:32:48.404662Z"
    }
   },
   "id": "d46ec2defa7cd352",
   "execution_count": 5
  },
  {
   "cell_type": "code",
   "outputs": [
    {
     "name": "stdout",
     "output_type": "stream",
     "text": [
      "Common Features: {'mahalanobis_distance', 'max_risk_estimate'}\n"
     ]
    }
   ],
   "source": [
    "# Assuming 'selected_feature_names', 'mi_df', and 'top_features' are all DataFrames or Series\n",
    "\n",
    "# Extract feature names from mi_df and top_features\n",
    "mi_features = set(mi_df.head(10)['Feature'])\n",
    "top_features_set = set(top_features.index)\n",
    "\n",
    "# Extract feature names from selected_feature_names\n",
    "selected_features_set = set(selected_feature_names)\n",
    "\n",
    "# Find the common features among the three sets\n",
    "common_features = mi_features.intersection(top_features_set, selected_features_set)\n",
    "\n",
    "# Print or use the common features as needed\n",
    "print(\"Common Features:\", common_features)\n"
   ],
   "metadata": {
    "collapsed": false,
    "ExecuteTime": {
     "end_time": "2024-01-12T11:32:52.174676Z",
     "start_time": "2024-01-12T11:32:52.171399Z"
    }
   },
   "id": "784779840642b576",
   "execution_count": 6
  },
  {
   "cell_type": "code",
   "outputs": [],
   "source": [],
   "metadata": {
    "collapsed": false
   },
   "id": "3b1293a60988cf0d"
  }
 ],
 "metadata": {
  "kernelspec": {
   "name": ".venv",
   "language": "python",
   "display_name": ".venv"
  },
  "language_info": {
   "codemirror_mode": {
    "name": "ipython",
    "version": 2
   },
   "file_extension": ".py",
   "mimetype": "text/x-python",
   "name": "python",
   "nbconvert_exporter": "python",
   "pygments_lexer": "ipython2",
   "version": "2.7.6"
  }
 },
 "nbformat": 4,
 "nbformat_minor": 5
}
