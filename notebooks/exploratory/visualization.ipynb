{
 "cells": [
  {
   "cell_type": "markdown",
   "source": [
    "# Notebook for data exploration and visualization"
   ],
   "metadata": {
    "collapsed": false
   },
   "id": "1e36b095a710ceae"
  },
  {
   "cell_type": "markdown",
   "source": [
    "### Import of all necessary libaries and check if MPS is available for faster computation\n"
   ],
   "metadata": {
    "collapsed": false
   },
   "id": "514ee9d14dd2f9eb"
  },
  {
   "cell_type": "code",
   "execution_count": 2,
   "id": "initial_id",
   "metadata": {
    "collapsed": true,
    "ExecuteTime": {
     "end_time": "2024-01-24T14:36:39.197660810Z",
     "start_time": "2024-01-24T14:36:11.339536701Z"
    }
   },
   "outputs": [
    {
     "ename": "ModuleNotFoundError",
     "evalue": "No module named 'torch'",
     "output_type": "error",
     "traceback": [
      "\u001B[0;31m---------------------------------------------------------------------------\u001B[0m",
      "\u001B[0;31mModuleNotFoundError\u001B[0m                       Traceback (most recent call last)",
      "Cell \u001B[0;32mIn[2], line 1\u001B[0m\n\u001B[0;32m----> 1\u001B[0m \u001B[38;5;28;01mfrom\u001B[39;00m \u001B[38;5;21;01msrc\u001B[39;00m\u001B[38;5;21;01m.\u001B[39;00m\u001B[38;5;21;01mutils\u001B[39;00m\u001B[38;5;21;01m.\u001B[39;00m\u001B[38;5;21;01mcheck_mps_device\u001B[39;00m \u001B[38;5;28;01mimport\u001B[39;00m check_mps_device\n\u001B[1;32m      2\u001B[0m \u001B[38;5;28;01mimport\u001B[39;00m \u001B[38;5;21;01mmatplotlib\u001B[39;00m\u001B[38;5;21;01m.\u001B[39;00m\u001B[38;5;21;01mpyplot\u001B[39;00m \u001B[38;5;28;01mas\u001B[39;00m \u001B[38;5;21;01mplt\u001B[39;00m\n\u001B[1;32m      3\u001B[0m \u001B[38;5;28;01mimport\u001B[39;00m \u001B[38;5;21;01mplotly\u001B[39;00m\u001B[38;5;21;01m.\u001B[39;00m\u001B[38;5;21;01mexpress\u001B[39;00m \u001B[38;5;28;01mas\u001B[39;00m \u001B[38;5;21;01mpx\u001B[39;00m\n",
      "File \u001B[0;32m~/ML_project/MLProject/src/utils/check_mps_device.py:1\u001B[0m\n\u001B[0;32m----> 1\u001B[0m \u001B[38;5;28;01mimport\u001B[39;00m \u001B[38;5;21;01mtorch\u001B[39;00m\n\u001B[1;32m      4\u001B[0m \u001B[38;5;28;01mdef\u001B[39;00m \u001B[38;5;21mcheck_mps_device\u001B[39m() \u001B[38;5;241m-\u001B[39m\u001B[38;5;241m>\u001B[39m \u001B[38;5;28;01mNone\u001B[39;00m:\n\u001B[1;32m      5\u001B[0m \u001B[38;5;250m    \u001B[39m\u001B[38;5;124;03m\"\"\"\u001B[39;00m\n\u001B[1;32m      6\u001B[0m \u001B[38;5;124;03m    Check if the MPS (Multi-Process Service) device is available and print a tensor on that device if found.\u001B[39;00m\n\u001B[1;32m      7\u001B[0m \n\u001B[1;32m      8\u001B[0m \u001B[38;5;124;03m    Returns:\u001B[39;00m\n\u001B[1;32m      9\u001B[0m \u001B[38;5;124;03m        None\u001B[39;00m\n\u001B[1;32m     10\u001B[0m \u001B[38;5;124;03m    \"\"\"\u001B[39;00m\n",
      "\u001B[0;31mModuleNotFoundError\u001B[0m: No module named 'torch'"
     ]
    }
   ],
   "source": [
    "from src.utils.check_mps_device import check_mps_device\n",
    "import matplotlib.pyplot as plt\n",
    "import plotly.express as px\n",
    "\n",
    "from src.utils.data_loading import load_data\n",
    "from src.utils.filtering import filter_data\n",
    "import seaborn as sns\n",
    "from src.utils.label_encoding import label_encode_column\n",
    "\n",
    "# Check if PyTorch Multi-Process Service (MPS) is available (GPU)\n",
    "check_mps_device()"
   ]
  },
  {
   "cell_type": "code",
   "outputs": [],
   "source": [
    "# Load data\n",
    "df = load_data()"
   ],
   "metadata": {
    "collapsed": false
   },
   "id": "fb25045646f441e2",
   "execution_count": null
  },
  {
   "cell_type": "markdown",
   "source": [
    "## Filtering\n",
    "Based on the proposed [filters](https://link.springer.com/article/10.1007/s42064-021-0101-5#preview) in the following cells different filter options are applied and tested:\n",
    "1. The event must contain at least two CDMs, one to infer from and one to use as the target.\n",
    "2. The last CDM released for the event must be within a day (time_to_tca < 1) of the TCA.\n",
    "3. The first CDM released for the event must be at least two days before the TCA (time to tca ⩾ 2),\n",
    "   and all the CDMs that were within two days from the TCA (time to tca < 2) are removed.\n",
    "\n",
    "All filters combined can be applied by calling ```filter_data()```"
   ],
   "metadata": {
    "collapsed": false
   },
   "id": "56e02af7e04a0249"
  },
  {
   "cell_type": "code",
   "outputs": [],
   "source": [
    "# Group by event_id and count the number of CDMs for each event\n",
    "event_counts = df.groupby(\"event_id\").size().reset_index(name=\"cdm_count\")\n",
    "event_counts.info()"
   ],
   "metadata": {
    "collapsed": false
   },
   "id": "cbec76abd4330752",
   "execution_count": null
  },
  {
   "cell_type": "markdown",
   "source": [
    "### The event must contain at least two CDMs, one to infer from and one to use as the target."
   ],
   "metadata": {
    "collapsed": false
   },
   "id": "2bb2b4bba0034041"
  },
  {
   "cell_type": "code",
   "outputs": [],
   "source": [
    "# Keep events with at least two CDMs\n",
    "valid_events = event_counts[event_counts[\"cdm_count\"] >= 2][\"event_id\"]\n",
    "valid_events.info()"
   ],
   "metadata": {
    "collapsed": false
   },
   "id": "5ffed93e80b0410e",
   "execution_count": null
  },
  {
   "cell_type": "code",
   "outputs": [],
   "source": [
    "# Filter the data based on valid event IDs\n",
    "filtered_data = df[df[\"event_id\"].isin(valid_events)]\n",
    "filtered_data.info()"
   ],
   "metadata": {
    "collapsed": false
   },
   "id": "6e1e7fe113428393",
   "execution_count": null
  },
  {
   "cell_type": "markdown",
   "source": [
    "### The last CDM released for the event must be within a day (time_to_tca < 1) of the TCA."
   ],
   "metadata": {
    "collapsed": false
   },
   "id": "35d7c82be974aaff"
  },
  {
   "cell_type": "code",
   "outputs": [],
   "source": [
    "# Keep the last CDM within a day of TCA\n",
    "filtered_data = filtered_data.loc[\n",
    "    filtered_data.groupby(\"event_id\")[\"time_to_tca\"].idxmin()\n",
    "]\n",
    "filtered_data.info()"
   ],
   "metadata": {
    "collapsed": false
   },
   "id": "e7f64b9bb73a2d7a",
   "execution_count": null
  },
  {
   "cell_type": "markdown",
   "source": [
    "### The first CDM released for the event must be at least two days before the TCA (time to tca ⩾ 2)"
   ],
   "metadata": {
    "collapsed": false
   },
   "id": "41ef22cec388c78f"
  },
  {
   "cell_type": "code",
   "outputs": [],
   "source": [
    "# Keep events with the first CDM at least two days before TCA\n",
    "filtered_data = filtered_data[filtered_data[\"time_to_tca\"] >= 2]\n",
    "filtered_data.info()"
   ],
   "metadata": {
    "collapsed": false
   },
   "id": "29402c0b597b679d",
   "execution_count": null
  },
  {
   "cell_type": "markdown",
   "source": [
    "## Plots for data visualisation"
   ],
   "metadata": {
    "collapsed": false
   },
   "id": "b0162d85df8998f"
  },
  {
   "cell_type": "code",
   "outputs": [],
   "source": [
    "# Load data\n",
    "df = load_data()\n",
    "\n",
    "# Scatter plot to visualize the event_id in a time_to_tca over risk diagram\n",
    "fig = px.scatter(df, x=\"risk\", y=\"time_to_tca\", color=\"event_id\")\n",
    "fig.update_traces(marker=dict(size=4))\n",
    "\n",
    "# Save the scatter plot as a PNG image\n",
    "fig.show()"
   ],
   "metadata": {
    "collapsed": false
   },
   "id": "d9394558fcb6c896",
   "execution_count": null
  },
  {
   "cell_type": "code",
   "outputs": [],
   "source": [
    "fig.update_layout({\n",
    "    'plot_bgcolor': 'rgba(255, 255, 255, 1)',\n",
    "    'paper_bgcolor': 'rgba(255, 255, 255, 1)',\n",
    "    'font': {'color': 'black'}\n",
    "})\n",
    "fig.write_image(\"../../figures/scatter_plot.png\")"
   ],
   "metadata": {
    "collapsed": false
   },
   "id": "8a65bbbd4ef17655",
   "execution_count": null
  },
  {
   "cell_type": "code",
   "outputs": [],
   "source": [
    "# Filter data depending on requirements of challenge\n",
    "df_filtered = filter_data(df)\n",
    "print(df_filtered.info())\n",
    "\n",
    "# Filtered scatter plot to visualize teh event_id in a time_to_tca over risk diagram\n",
    "fig = px.scatter(df_filtered, x=\"risk\", y=\"time_to_tca\", color=\"event_id\")\n",
    "fig.update_traces(marker=dict(size=4))\n",
    "fig.show()"
   ],
   "metadata": {
    "collapsed": false
   },
   "id": "9948a79a1073f368",
   "execution_count": null
  },
  {
   "cell_type": "code",
   "outputs": [],
   "source": [
    "fig.update_layout({\n",
    "    'plot_bgcolor': 'rgba(255, 255, 255, 1)',\n",
    "    'paper_bgcolor': 'rgba(255, 255, 255, 1)',\n",
    "    'font': {'color': 'black'}\n",
    "})\n",
    "fig.write_image(\"../../figures/scatter_plot_filtered.png\")"
   ],
   "metadata": {
    "collapsed": false
   },
   "id": "b7ca1ab7534995e",
   "execution_count": null
  },
  {
   "cell_type": "code",
   "outputs": [],
   "source": [
    "# Extract features and labels from data\n",
    "features = df_filtered.drop([\"risk\"], axis=1)\n",
    "target = df_filtered[\"risk\"]"
   ],
   "metadata": {
    "collapsed": false
   },
   "id": "c541ed96cd9f3257",
   "execution_count": null
  },
  {
   "cell_type": "code",
   "outputs": [],
   "source": [
    "# Distribution of the target variable \"risk\" of filtered data\n",
    "plt.figure(figsize=(8, 5))\n",
    "\n",
    "# Create a white background with black grid lines\n",
    "sns.set(style=\"whitegrid\", rc={\"axes.facecolor\": \"white\", \"grid.color\": \"black\"})\n",
    "\n",
    "# Plot the histogram with a blue color\n",
    "sns.histplot(target, bins=30, kde=True, color=\"blue\")\n",
    "\n",
    "# Set title and labels\n",
    "plt.title(\"Distribution of Risk\", color=\"black\")\n",
    "plt.xlabel(\"Risk (base 10 log)\", color=\"black\")\n",
    "plt.ylabel(\"Frequency\", color=\"black\")\n",
    "\n",
    "plt.show()"
   ],
   "metadata": {
    "collapsed": false
   },
   "id": "13ad7aba7dd7b75f",
   "execution_count": null
  },
  {
   "cell_type": "code",
   "outputs": [],
   "source": [
    "# Save the histogram plot as a PNG image\n",
    "plt.savefig('../../figures/risk_distribution.png', bbox_inches='tight')"
   ],
   "metadata": {
    "collapsed": false
   },
   "id": "89c3200da787d23e",
   "execution_count": null
  },
  {
   "cell_type": "code",
   "outputs": [],
   "source": [
    "# Box plot for categorical feature \"c_object_type\"\n",
    "plt.figure(figsize=(12, 6))\n",
    "sns.boxplot(x=\"c_object_type\", y=\"risk\", data=df_filtered)\n",
    "plt.title(\"Box Plot of Risk by Object Type\")\n",
    "plt.xlabel(\"Object Type\")\n",
    "plt.ylabel(\"Risk (base 10 log)\")\n",
    "plt.show()"
   ],
   "metadata": {
    "collapsed": false
   },
   "id": "881e5eeb709b66c0",
   "execution_count": null
  },
  {
   "cell_type": "code",
   "outputs": [],
   "source": [
    "# Correlation plot that shows the correlation of different features\n",
    "# Pearson correlation coefficient, which ranges from -1 to 1:\n",
    "# Positive Correlation (close to +1): As one variable increases, the other variable also tends to increase.\n",
    "# Negative Correlation (close to -1): As one variable increases, the other variable tends to decrease.\n",
    "# No Correlation (close to 0): There is no linear relationship between the variables.\n",
    "\n",
    "label_encode_column(df_filtered, \"c_object_type\")\n",
    "correlation_matrix = df_filtered.corr()\n",
    "\n",
    "plt.figure(figsize=(20, 20))\n",
    "\n",
    "sns.heatmap(correlation_matrix, annot=False, cmap=\"BrBG\", fmt=\".2f\")\n",
    "plt.title(\"Correlation Matrix\")\n",
    "plt.show()"
   ],
   "metadata": {
    "collapsed": false
   },
   "id": "ad3170077deba73f",
   "execution_count": null
  },
  {
   "cell_type": "markdown",
   "source": [
    "## NaN Values"
   ],
   "metadata": {
    "collapsed": false
   },
   "id": "483850522452893e"
  },
  {
   "cell_type": "code",
   "outputs": [],
   "source": [
    "# Load and data and filter it\n",
    "df = load_data()\n",
    "\n",
    "# Check for missing values\n",
    "missing_values = df.isnull().sum()\n",
    "print(\"Columns with missing values:\")\n",
    "print(missing_values[missing_values > 0])"
   ],
   "metadata": {
    "collapsed": false
   },
   "id": "23dda28f4f6c9d3e",
   "execution_count": null
  },
  {
   "cell_type": "code",
   "outputs": [],
   "source": [
    "# Create a heatmap to visualize missing values\n",
    "plt.figure(figsize=(20, 20))\n",
    "sns.heatmap(df.isnull(), cbar=False, cmap=\"inferno\")\n",
    "plt.title(\"Missing Values Heatmap\")\n",
    "plt.show()"
   ],
   "metadata": {
    "collapsed": false
   },
   "id": "48b896ab55774b2c",
   "execution_count": null
  },
  {
   "cell_type": "code",
   "outputs": [],
   "source": [],
   "metadata": {
    "collapsed": false
   },
   "id": "5febec6d1d7be3f7"
  }
 ],
 "metadata": {
  "kernelspec": {
   "name": "python3",
   "language": "python",
   "display_name": "Python 3 (ipykernel)"
  },
  "language_info": {
   "codemirror_mode": {
    "name": "ipython",
    "version": 2
   },
   "file_extension": ".py",
   "mimetype": "text/x-python",
   "name": "python",
   "nbconvert_exporter": "python",
   "pygments_lexer": "ipython2",
   "version": "2.7.6"
  }
 },
 "nbformat": 4,
 "nbformat_minor": 5
}
